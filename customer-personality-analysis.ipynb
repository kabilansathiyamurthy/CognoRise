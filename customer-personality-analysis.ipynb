{
 "cells": [
  {
   "cell_type": "markdown",
   "id": "6613ce27",
   "metadata": {
    "papermill": {
     "duration": 0.01357,
     "end_time": "2023-10-12T09:38:04.851533",
     "exception": false,
     "start_time": "2023-10-12T09:38:04.837963",
     "status": "completed"
    },
    "tags": []
   },
   "source": [
    "# 1. Problem Statement\n",
    "\n",
    "Customer Personality Analysis is a detailed analysis of a company’s ideal customers. It helps a business to better understand its customers and makes it easier for them to modify products according to the specific needs, behaviors and concerns of different types of customers.\n",
    "\n",
    "Customer personality analysis helps a business to modify its product based on its target customers from different types of customer segments. For example, instead of spending money to market a new product to every customer in the company’s database, a company can analyze which customer segment is most likely to buy the product and then market the product only on that particular segment.\n"
   ]
  },
  {
   "cell_type": "markdown",
   "id": "c04b704c",
   "metadata": {
    "papermill": {
     "duration": 0.012409,
     "end_time": "2023-10-12T09:38:04.877736",
     "exception": false,
     "start_time": "2023-10-12T09:38:04.865327",
     "status": "completed"
    },
    "tags": []
   },
   "source": [
    "# 2. Importing Libraries"
   ]
  },
  {
   "cell_type": "code",
   "execution_count": 1,
   "id": "945bb998",
   "metadata": {
    "execution": {
     "iopub.execute_input": "2023-10-12T09:38:04.906323Z",
     "iopub.status.busy": "2023-10-12T09:38:04.905653Z",
     "iopub.status.idle": "2023-10-12T09:38:06.698850Z",
     "shell.execute_reply": "2023-10-12T09:38:06.697634Z"
    },
    "papermill": {
     "duration": 1.810611,
     "end_time": "2023-10-12T09:38:06.701111",
     "exception": false,
     "start_time": "2023-10-12T09:38:04.890500",
     "status": "completed"
    },
    "tags": []
   },
   "outputs": [
    {
     "name": "stdout",
     "output_type": "stream",
     "text": [
      "/kaggle/input/customer-personality-analysis/marketing_campaign.csv\n"
     ]
    }
   ],
   "source": [
    "import numpy as np \n",
    "import pandas as pd \n",
    "\n",
    "import seaborn as sns\n",
    "import matplotlib.pyplot as plt\n",
    "\n",
    "import os\n",
    "for dirname, _, filenames in os.walk('/kaggle/input'):\n",
    "    for filename in filenames:\n",
    "        print(os.path.join(dirname, filename))"
   ]
  },
  {
   "cell_type": "markdown",
   "id": "1c25765e",
   "metadata": {
    "papermill": {
     "duration": 0.012618,
     "end_time": "2023-10-12T09:38:06.726873",
     "exception": false,
     "start_time": "2023-10-12T09:38:06.714255",
     "status": "completed"
    },
    "tags": []
   },
   "source": [
    "# 3. Importing Dataset"
   ]
  },
  {
   "cell_type": "code",
   "execution_count": 2,
   "id": "a9b71473",
   "metadata": {
    "execution": {
     "iopub.execute_input": "2023-10-12T09:38:06.755923Z",
     "iopub.status.busy": "2023-10-12T09:38:06.755229Z",
     "iopub.status.idle": "2023-10-12T09:38:06.786041Z",
     "shell.execute_reply": "2023-10-12T09:38:06.785193Z"
    },
    "papermill": {
     "duration": 0.047528,
     "end_time": "2023-10-12T09:38:06.788217",
     "exception": false,
     "start_time": "2023-10-12T09:38:06.740689",
     "status": "completed"
    },
    "tags": []
   },
   "outputs": [],
   "source": [
    "df_customer = pd.read_csv('/kaggle/input/customer-personality-analysis/marketing_campaign.csv', sep = '\\t')"
   ]
  },
  {
   "cell_type": "markdown",
   "id": "28ef2c8d",
   "metadata": {
    "papermill": {
     "duration": 0.012726,
     "end_time": "2023-10-12T09:38:06.814101",
     "exception": false,
     "start_time": "2023-10-12T09:38:06.801375",
     "status": "completed"
    },
    "tags": []
   },
   "source": [
    "**Data Dictionary**\n",
    "\n",
    "**People**\n",
    "\n",
    "* `ID`: Customer's unique identifier\n",
    "* `Year_Birth`: Customer's birth year\n",
    "* `Education`: Customer's education level\n",
    "* `Marital_Status`: Customer's marital status\n",
    "* `Income`: Customer's yearly household income\n",
    "* `Kidhome`: Number of children in customer's household\n",
    "* `Teenhome`: Number of teenagers in customer's household\n",
    "* `Dt_Customer`: Date of customer's enrollment with the company\n",
    "* `Recency`: Number of days since customer's last purchase\n",
    "* `Complain`: 1 if the customer complained in the last 2 years, 0 otherwise\n",
    "\n",
    "**Products**\n",
    "\n",
    "* `MntWines` -  Amount spent on wine in last 2 years\n",
    "* `MntFruits` - Amount spent on fruits in last 2 years\n",
    "* `MntMeatProducts` -  Amount spent on meat in last 2 years\n",
    "* `MntFishProducts` -  Amount spent on fish in last 2 years\n",
    "* `MntSweetProducts` -  Amount spent on sweets in last 2 years\n",
    "* `MntGoldProds` -  Amount spent on gold in last 2 years\n",
    "\n",
    "**Promotion**\n",
    "\n",
    "* `NumDealsPurchases` -  Number of purchases made with a discount\n",
    "* `AcceptedCmp1` -  1 if customer accepted the offer in the 1st campaign, 0 otherwise\n",
    "* `AcceptedCmp2` -  1 if customer accepted the offer in the 2nd campaign, 0 otherwise\n",
    "* `AcceptedCmp3` -  1 if customer accepted the offer in the 3rd campaign, 0 otherwise\n",
    "* `AcceptedCmp4` -  1 if customer accepted the offer in the 4th campaign, 0 otherwise\n",
    "* `AcceptedCmp5` -  1 if customer accepted the offer in the 5th campaign, 0 otherwise\n",
    "* `Response` -  1 if customer accepted the offer in the last campaign, 0 otherwise\n",
    "\n",
    "**Place**\n",
    "\n",
    "* `NumWebPurchases` -  Number of purchases made through the company’s website\n",
    "* `NumCatalogPurchases` -  Number of purchases made using a catalogue\n",
    "* `NumStorePurchases` -  Number of purchases made directly in stores\n",
    "* `NumWebVisitsMonth` -  Number of visits to company’s website in the last month"
   ]
  },
  {
   "cell_type": "markdown",
   "id": "25a1c988",
   "metadata": {
    "papermill": {
     "duration": 0.012464,
     "end_time": "2023-10-12T09:38:06.839495",
     "exception": false,
     "start_time": "2023-10-12T09:38:06.827031",
     "status": "completed"
    },
    "tags": []
   },
   "source": [
    "# 3. Data Exploration and Cleaning"
   ]
  },
  {
   "cell_type": "code",
   "execution_count": 3,
   "id": "6e528918",
   "metadata": {
    "execution": {
     "iopub.execute_input": "2023-10-12T09:38:06.867536Z",
     "iopub.status.busy": "2023-10-12T09:38:06.866770Z",
     "iopub.status.idle": "2023-10-12T09:38:06.897941Z",
     "shell.execute_reply": "2023-10-12T09:38:06.896884Z"
    },
    "papermill": {
     "duration": 0.047056,
     "end_time": "2023-10-12T09:38:06.899983",
     "exception": false,
     "start_time": "2023-10-12T09:38:06.852927",
     "status": "completed"
    },
    "tags": []
   },
   "outputs": [
    {
     "data": {
      "text/html": [
       "<div>\n",
       "<style scoped>\n",
       "    .dataframe tbody tr th:only-of-type {\n",
       "        vertical-align: middle;\n",
       "    }\n",
       "\n",
       "    .dataframe tbody tr th {\n",
       "        vertical-align: top;\n",
       "    }\n",
       "\n",
       "    .dataframe thead th {\n",
       "        text-align: right;\n",
       "    }\n",
       "</style>\n",
       "<table border=\"1\" class=\"dataframe\">\n",
       "  <thead>\n",
       "    <tr style=\"text-align: right;\">\n",
       "      <th></th>\n",
       "      <th>ID</th>\n",
       "      <th>Year_Birth</th>\n",
       "      <th>Education</th>\n",
       "      <th>Marital_Status</th>\n",
       "      <th>Income</th>\n",
       "      <th>Kidhome</th>\n",
       "      <th>Teenhome</th>\n",
       "      <th>Dt_Customer</th>\n",
       "      <th>Recency</th>\n",
       "      <th>MntWines</th>\n",
       "      <th>...</th>\n",
       "      <th>NumWebVisitsMonth</th>\n",
       "      <th>AcceptedCmp3</th>\n",
       "      <th>AcceptedCmp4</th>\n",
       "      <th>AcceptedCmp5</th>\n",
       "      <th>AcceptedCmp1</th>\n",
       "      <th>AcceptedCmp2</th>\n",
       "      <th>Complain</th>\n",
       "      <th>Z_CostContact</th>\n",
       "      <th>Z_Revenue</th>\n",
       "      <th>Response</th>\n",
       "    </tr>\n",
       "  </thead>\n",
       "  <tbody>\n",
       "    <tr>\n",
       "      <th>0</th>\n",
       "      <td>5524</td>\n",
       "      <td>1957</td>\n",
       "      <td>Graduation</td>\n",
       "      <td>Single</td>\n",
       "      <td>58138.0</td>\n",
       "      <td>0</td>\n",
       "      <td>0</td>\n",
       "      <td>04-09-2012</td>\n",
       "      <td>58</td>\n",
       "      <td>635</td>\n",
       "      <td>...</td>\n",
       "      <td>7</td>\n",
       "      <td>0</td>\n",
       "      <td>0</td>\n",
       "      <td>0</td>\n",
       "      <td>0</td>\n",
       "      <td>0</td>\n",
       "      <td>0</td>\n",
       "      <td>3</td>\n",
       "      <td>11</td>\n",
       "      <td>1</td>\n",
       "    </tr>\n",
       "    <tr>\n",
       "      <th>1</th>\n",
       "      <td>2174</td>\n",
       "      <td>1954</td>\n",
       "      <td>Graduation</td>\n",
       "      <td>Single</td>\n",
       "      <td>46344.0</td>\n",
       "      <td>1</td>\n",
       "      <td>1</td>\n",
       "      <td>08-03-2014</td>\n",
       "      <td>38</td>\n",
       "      <td>11</td>\n",
       "      <td>...</td>\n",
       "      <td>5</td>\n",
       "      <td>0</td>\n",
       "      <td>0</td>\n",
       "      <td>0</td>\n",
       "      <td>0</td>\n",
       "      <td>0</td>\n",
       "      <td>0</td>\n",
       "      <td>3</td>\n",
       "      <td>11</td>\n",
       "      <td>0</td>\n",
       "    </tr>\n",
       "    <tr>\n",
       "      <th>2</th>\n",
       "      <td>4141</td>\n",
       "      <td>1965</td>\n",
       "      <td>Graduation</td>\n",
       "      <td>Together</td>\n",
       "      <td>71613.0</td>\n",
       "      <td>0</td>\n",
       "      <td>0</td>\n",
       "      <td>21-08-2013</td>\n",
       "      <td>26</td>\n",
       "      <td>426</td>\n",
       "      <td>...</td>\n",
       "      <td>4</td>\n",
       "      <td>0</td>\n",
       "      <td>0</td>\n",
       "      <td>0</td>\n",
       "      <td>0</td>\n",
       "      <td>0</td>\n",
       "      <td>0</td>\n",
       "      <td>3</td>\n",
       "      <td>11</td>\n",
       "      <td>0</td>\n",
       "    </tr>\n",
       "    <tr>\n",
       "      <th>3</th>\n",
       "      <td>6182</td>\n",
       "      <td>1984</td>\n",
       "      <td>Graduation</td>\n",
       "      <td>Together</td>\n",
       "      <td>26646.0</td>\n",
       "      <td>1</td>\n",
       "      <td>0</td>\n",
       "      <td>10-02-2014</td>\n",
       "      <td>26</td>\n",
       "      <td>11</td>\n",
       "      <td>...</td>\n",
       "      <td>6</td>\n",
       "      <td>0</td>\n",
       "      <td>0</td>\n",
       "      <td>0</td>\n",
       "      <td>0</td>\n",
       "      <td>0</td>\n",
       "      <td>0</td>\n",
       "      <td>3</td>\n",
       "      <td>11</td>\n",
       "      <td>0</td>\n",
       "    </tr>\n",
       "    <tr>\n",
       "      <th>4</th>\n",
       "      <td>5324</td>\n",
       "      <td>1981</td>\n",
       "      <td>PhD</td>\n",
       "      <td>Married</td>\n",
       "      <td>58293.0</td>\n",
       "      <td>1</td>\n",
       "      <td>0</td>\n",
       "      <td>19-01-2014</td>\n",
       "      <td>94</td>\n",
       "      <td>173</td>\n",
       "      <td>...</td>\n",
       "      <td>5</td>\n",
       "      <td>0</td>\n",
       "      <td>0</td>\n",
       "      <td>0</td>\n",
       "      <td>0</td>\n",
       "      <td>0</td>\n",
       "      <td>0</td>\n",
       "      <td>3</td>\n",
       "      <td>11</td>\n",
       "      <td>0</td>\n",
       "    </tr>\n",
       "  </tbody>\n",
       "</table>\n",
       "<p>5 rows × 29 columns</p>\n",
       "</div>"
      ],
      "text/plain": [
       "     ID  Year_Birth   Education Marital_Status   Income  Kidhome  Teenhome  \\\n",
       "0  5524        1957  Graduation         Single  58138.0        0         0   \n",
       "1  2174        1954  Graduation         Single  46344.0        1         1   \n",
       "2  4141        1965  Graduation       Together  71613.0        0         0   \n",
       "3  6182        1984  Graduation       Together  26646.0        1         0   \n",
       "4  5324        1981         PhD        Married  58293.0        1         0   \n",
       "\n",
       "  Dt_Customer  Recency  MntWines  ...  NumWebVisitsMonth  AcceptedCmp3  \\\n",
       "0  04-09-2012       58       635  ...                  7             0   \n",
       "1  08-03-2014       38        11  ...                  5             0   \n",
       "2  21-08-2013       26       426  ...                  4             0   \n",
       "3  10-02-2014       26        11  ...                  6             0   \n",
       "4  19-01-2014       94       173  ...                  5             0   \n",
       "\n",
       "   AcceptedCmp4  AcceptedCmp5  AcceptedCmp1  AcceptedCmp2  Complain  \\\n",
       "0             0             0             0             0         0   \n",
       "1             0             0             0             0         0   \n",
       "2             0             0             0             0         0   \n",
       "3             0             0             0             0         0   \n",
       "4             0             0             0             0         0   \n",
       "\n",
       "   Z_CostContact  Z_Revenue  Response  \n",
       "0              3         11         1  \n",
       "1              3         11         0  \n",
       "2              3         11         0  \n",
       "3              3         11         0  \n",
       "4              3         11         0  \n",
       "\n",
       "[5 rows x 29 columns]"
      ]
     },
     "execution_count": 3,
     "metadata": {},
     "output_type": "execute_result"
    }
   ],
   "source": [
    "df_customer.head()"
   ]
  },
  {
   "cell_type": "code",
   "execution_count": 4,
   "id": "8496e162",
   "metadata": {
    "execution": {
     "iopub.execute_input": "2023-10-12T09:38:06.987174Z",
     "iopub.status.busy": "2023-10-12T09:38:06.986565Z",
     "iopub.status.idle": "2023-10-12T09:38:06.992614Z",
     "shell.execute_reply": "2023-10-12T09:38:06.991836Z"
    },
    "papermill": {
     "duration": 0.080969,
     "end_time": "2023-10-12T09:38:06.994400",
     "exception": false,
     "start_time": "2023-10-12T09:38:06.913431",
     "status": "completed"
    },
    "tags": []
   },
   "outputs": [
    {
     "data": {
      "text/plain": [
       "(2240, 29)"
      ]
     },
     "execution_count": 4,
     "metadata": {},
     "output_type": "execute_result"
    }
   ],
   "source": [
    "df_customer.shape"
   ]
  },
  {
   "cell_type": "markdown",
   "id": "c8ed875e",
   "metadata": {
    "papermill": {
     "duration": 0.013289,
     "end_time": "2023-10-12T09:38:07.021436",
     "exception": false,
     "start_time": "2023-10-12T09:38:07.008147",
     "status": "completed"
    },
    "tags": []
   },
   "source": [
    "The dataset contains 2240 rows and 29 columns."
   ]
  },
  {
   "cell_type": "code",
   "execution_count": 5,
   "id": "411b9991",
   "metadata": {
    "execution": {
     "iopub.execute_input": "2023-10-12T09:38:07.050232Z",
     "iopub.status.busy": "2023-10-12T09:38:07.049682Z",
     "iopub.status.idle": "2023-10-12T09:38:07.074139Z",
     "shell.execute_reply": "2023-10-12T09:38:07.073135Z"
    },
    "papermill": {
     "duration": 0.041506,
     "end_time": "2023-10-12T09:38:07.076421",
     "exception": false,
     "start_time": "2023-10-12T09:38:07.034915",
     "status": "completed"
    },
    "tags": []
   },
   "outputs": [
    {
     "name": "stdout",
     "output_type": "stream",
     "text": [
      "<class 'pandas.core.frame.DataFrame'>\n",
      "RangeIndex: 2240 entries, 0 to 2239\n",
      "Data columns (total 29 columns):\n",
      " #   Column               Non-Null Count  Dtype  \n",
      "---  ------               --------------  -----  \n",
      " 0   ID                   2240 non-null   int64  \n",
      " 1   Year_Birth           2240 non-null   int64  \n",
      " 2   Education            2240 non-null   object \n",
      " 3   Marital_Status       2240 non-null   object \n",
      " 4   Income               2216 non-null   float64\n",
      " 5   Kidhome              2240 non-null   int64  \n",
      " 6   Teenhome             2240 non-null   int64  \n",
      " 7   Dt_Customer          2240 non-null   object \n",
      " 8   Recency              2240 non-null   int64  \n",
      " 9   MntWines             2240 non-null   int64  \n",
      " 10  MntFruits            2240 non-null   int64  \n",
      " 11  MntMeatProducts      2240 non-null   int64  \n",
      " 12  MntFishProducts      2240 non-null   int64  \n",
      " 13  MntSweetProducts     2240 non-null   int64  \n",
      " 14  MntGoldProds         2240 non-null   int64  \n",
      " 15  NumDealsPurchases    2240 non-null   int64  \n",
      " 16  NumWebPurchases      2240 non-null   int64  \n",
      " 17  NumCatalogPurchases  2240 non-null   int64  \n",
      " 18  NumStorePurchases    2240 non-null   int64  \n",
      " 19  NumWebVisitsMonth    2240 non-null   int64  \n",
      " 20  AcceptedCmp3         2240 non-null   int64  \n",
      " 21  AcceptedCmp4         2240 non-null   int64  \n",
      " 22  AcceptedCmp5         2240 non-null   int64  \n",
      " 23  AcceptedCmp1         2240 non-null   int64  \n",
      " 24  AcceptedCmp2         2240 non-null   int64  \n",
      " 25  Complain             2240 non-null   int64  \n",
      " 26  Z_CostContact        2240 non-null   int64  \n",
      " 27  Z_Revenue            2240 non-null   int64  \n",
      " 28  Response             2240 non-null   int64  \n",
      "dtypes: float64(1), int64(25), object(3)\n",
      "memory usage: 507.6+ KB\n"
     ]
    }
   ],
   "source": [
    "df_customer.info()"
   ]
  },
  {
   "cell_type": "markdown",
   "id": "76ed4752",
   "metadata": {
    "papermill": {
     "duration": 0.013214,
     "end_time": "2023-10-12T09:38:07.104572",
     "exception": false,
     "start_time": "2023-10-12T09:38:07.091358",
     "status": "completed"
    },
    "tags": []
   },
   "source": [
    "* `income` column contains a few null values.\n",
    "* `Dt_Customer` has object datatype,but it holds date values. Hence, it's necessary to change its datatype to a date format before proceeding with data analysis."
   ]
  },
  {
   "cell_type": "code",
   "execution_count": 6,
   "id": "03ed26d8",
   "metadata": {
    "execution": {
     "iopub.execute_input": "2023-10-12T09:38:07.133495Z",
     "iopub.status.busy": "2023-10-12T09:38:07.132938Z",
     "iopub.status.idle": "2023-10-12T09:38:07.141985Z",
     "shell.execute_reply": "2023-10-12T09:38:07.140887Z"
    },
    "papermill": {
     "duration": 0.026301,
     "end_time": "2023-10-12T09:38:07.144362",
     "exception": false,
     "start_time": "2023-10-12T09:38:07.118061",
     "status": "completed"
    },
    "tags": []
   },
   "outputs": [
    {
     "data": {
      "text/plain": [
       "ID                      0\n",
       "Year_Birth              0\n",
       "Education               0\n",
       "Marital_Status          0\n",
       "Income                 24\n",
       "Kidhome                 0\n",
       "Teenhome                0\n",
       "Dt_Customer             0\n",
       "Recency                 0\n",
       "MntWines                0\n",
       "MntFruits               0\n",
       "MntMeatProducts         0\n",
       "MntFishProducts         0\n",
       "MntSweetProducts        0\n",
       "MntGoldProds            0\n",
       "NumDealsPurchases       0\n",
       "NumWebPurchases         0\n",
       "NumCatalogPurchases     0\n",
       "NumStorePurchases       0\n",
       "NumWebVisitsMonth       0\n",
       "AcceptedCmp3            0\n",
       "AcceptedCmp4            0\n",
       "AcceptedCmp5            0\n",
       "AcceptedCmp1            0\n",
       "AcceptedCmp2            0\n",
       "Complain                0\n",
       "Z_CostContact           0\n",
       "Z_Revenue               0\n",
       "Response                0\n",
       "dtype: int64"
      ]
     },
     "execution_count": 6,
     "metadata": {},
     "output_type": "execute_result"
    }
   ],
   "source": [
    "df_customer.isna().sum()"
   ]
  },
  {
   "cell_type": "code",
   "execution_count": 7,
   "id": "167f70b2",
   "metadata": {
    "execution": {
     "iopub.execute_input": "2023-10-12T09:38:07.174197Z",
     "iopub.status.busy": "2023-10-12T09:38:07.173589Z",
     "iopub.status.idle": "2023-10-12T09:38:07.190473Z",
     "shell.execute_reply": "2023-10-12T09:38:07.189846Z"
    },
    "papermill": {
     "duration": 0.033934,
     "end_time": "2023-10-12T09:38:07.192343",
     "exception": false,
     "start_time": "2023-10-12T09:38:07.158409",
     "status": "completed"
    },
    "tags": []
   },
   "outputs": [
    {
     "data": {
      "text/plain": [
       "ID                              int64\n",
       "Year_Birth                      int64\n",
       "Education                      object\n",
       "Marital_Status                 object\n",
       "Income                        float64\n",
       "Kidhome                         int64\n",
       "Teenhome                        int64\n",
       "Dt_Customer            datetime64[ns]\n",
       "Recency                         int64\n",
       "MntWines                        int64\n",
       "MntFruits                       int64\n",
       "MntMeatProducts                 int64\n",
       "MntFishProducts                 int64\n",
       "MntSweetProducts                int64\n",
       "MntGoldProds                    int64\n",
       "NumDealsPurchases               int64\n",
       "NumWebPurchases                 int64\n",
       "NumCatalogPurchases             int64\n",
       "NumStorePurchases               int64\n",
       "NumWebVisitsMonth               int64\n",
       "AcceptedCmp3                    int64\n",
       "AcceptedCmp4                    int64\n",
       "AcceptedCmp5                    int64\n",
       "AcceptedCmp1                    int64\n",
       "AcceptedCmp2                    int64\n",
       "Complain                        int64\n",
       "Z_CostContact                   int64\n",
       "Z_Revenue                       int64\n",
       "Response                        int64\n",
       "dtype: object"
      ]
     },
     "execution_count": 7,
     "metadata": {},
     "output_type": "execute_result"
    }
   ],
   "source": [
    "df_customer['Dt_Customer'] = pd.to_datetime(df_customer['Dt_Customer'], dayfirst = True)\n",
    "df_customer.dtypes"
   ]
  },
  {
   "cell_type": "markdown",
   "id": "869bfe27",
   "metadata": {
    "papermill": {
     "duration": 0.014069,
     "end_time": "2023-10-12T09:38:07.221259",
     "exception": false,
     "start_time": "2023-10-12T09:38:07.207190",
     "status": "completed"
    },
    "tags": []
   },
   "source": [
    "There are 24 null values present in the 'income' column. Given that this number is very small compared to the total dataset size of 2240, we can safely remove these null values for our analysis."
   ]
  },
  {
   "cell_type": "code",
   "execution_count": 8,
   "id": "06ad0e0c",
   "metadata": {
    "execution": {
     "iopub.execute_input": "2023-10-12T09:38:07.251552Z",
     "iopub.status.busy": "2023-10-12T09:38:07.250866Z",
     "iopub.status.idle": "2023-10-12T09:38:07.261474Z",
     "shell.execute_reply": "2023-10-12T09:38:07.260498Z"
    },
    "papermill": {
     "duration": 0.027872,
     "end_time": "2023-10-12T09:38:07.263547",
     "exception": false,
     "start_time": "2023-10-12T09:38:07.235675",
     "status": "completed"
    },
    "tags": []
   },
   "outputs": [
    {
     "data": {
      "text/plain": [
       "0"
      ]
     },
     "execution_count": 8,
     "metadata": {},
     "output_type": "execute_result"
    }
   ],
   "source": [
    "df_customer = df_customer.dropna(axis = 0)\n",
    "df_customer.isna().sum().sum()"
   ]
  },
  {
   "cell_type": "code",
   "execution_count": 9,
   "id": "60d31d59",
   "metadata": {
    "execution": {
     "iopub.execute_input": "2023-10-12T09:38:07.293199Z",
     "iopub.status.busy": "2023-10-12T09:38:07.292569Z",
     "iopub.status.idle": "2023-10-12T09:38:07.298383Z",
     "shell.execute_reply": "2023-10-12T09:38:07.297067Z"
    },
    "papermill": {
     "duration": 0.023096,
     "end_time": "2023-10-12T09:38:07.300489",
     "exception": false,
     "start_time": "2023-10-12T09:38:07.277393",
     "status": "completed"
    },
    "tags": []
   },
   "outputs": [
    {
     "data": {
      "text/plain": [
       "(2216, 29)"
      ]
     },
     "execution_count": 9,
     "metadata": {},
     "output_type": "execute_result"
    }
   ],
   "source": [
    "df_customer.shape"
   ]
  },
  {
   "cell_type": "code",
   "execution_count": 10,
   "id": "67f6754f",
   "metadata": {
    "execution": {
     "iopub.execute_input": "2023-10-12T09:38:07.330656Z",
     "iopub.status.busy": "2023-10-12T09:38:07.330068Z",
     "iopub.status.idle": "2023-10-12T09:38:07.335995Z",
     "shell.execute_reply": "2023-10-12T09:38:07.335041Z"
    },
    "papermill": {
     "duration": 0.023164,
     "end_time": "2023-10-12T09:38:07.337952",
     "exception": false,
     "start_time": "2023-10-12T09:38:07.314788",
     "status": "completed"
    },
    "tags": []
   },
   "outputs": [
    {
     "data": {
      "text/plain": [
       "Index(['ID', 'Year_Birth', 'Education', 'Marital_Status', 'Income', 'Kidhome',\n",
       "       'Teenhome', 'Dt_Customer', 'Recency', 'MntWines', 'MntFruits',\n",
       "       'MntMeatProducts', 'MntFishProducts', 'MntSweetProducts',\n",
       "       'MntGoldProds', 'NumDealsPurchases', 'NumWebPurchases',\n",
       "       'NumCatalogPurchases', 'NumStorePurchases', 'NumWebVisitsMonth',\n",
       "       'AcceptedCmp3', 'AcceptedCmp4', 'AcceptedCmp5', 'AcceptedCmp1',\n",
       "       'AcceptedCmp2', 'Complain', 'Z_CostContact', 'Z_Revenue', 'Response'],\n",
       "      dtype='object')"
      ]
     },
     "execution_count": 10,
     "metadata": {},
     "output_type": "execute_result"
    }
   ],
   "source": [
    "df_customer.columns"
   ]
  },
  {
   "cell_type": "markdown",
   "id": "96ec1192",
   "metadata": {
    "papermill": {
     "duration": 0.013477,
     "end_time": "2023-10-12T09:38:07.365300",
     "exception": false,
     "start_time": "2023-10-12T09:38:07.351823",
     "status": "completed"
    },
    "tags": []
   },
   "source": [
    "**Renaming the column names to make them standardized in 'snake case' format and more accessible for better understanding of their meaning.**"
   ]
  },
  {
   "cell_type": "code",
   "execution_count": 11,
   "id": "3aca76e1",
   "metadata": {
    "execution": {
     "iopub.execute_input": "2023-10-12T09:38:07.394893Z",
     "iopub.status.busy": "2023-10-12T09:38:07.394253Z",
     "iopub.status.idle": "2023-10-12T09:38:07.404139Z",
     "shell.execute_reply": "2023-10-12T09:38:07.403388Z"
    },
    "papermill": {
     "duration": 0.026911,
     "end_time": "2023-10-12T09:38:07.405918",
     "exception": false,
     "start_time": "2023-10-12T09:38:07.379007",
     "status": "completed"
    },
    "tags": []
   },
   "outputs": [
    {
     "data": {
      "text/plain": [
       "Index(['ID', 'birth_year', 'education', 'marital_status', 'income', 'kids',\n",
       "       'teens', 'enrollment_date', 'days_since_last_purchase',\n",
       "       'spent_on_wines', 'spent_on_fruits', 'spent_on_meat', 'spent_on_fish',\n",
       "       'spent_on_sweet', 'spent_on_gold', 'purchases_with_discount',\n",
       "       'web_purchase', 'catalog_purchase', 'store_purchase',\n",
       "       'website_visit_last_month', 'campaign3', 'campaign4', 'campaign5',\n",
       "       'campaign1', 'campaign2', 'complain', 'Z_CostContact', 'Z_Revenue',\n",
       "       'last_campaign'],\n",
       "      dtype='object')"
      ]
     },
     "execution_count": 11,
     "metadata": {},
     "output_type": "execute_result"
    }
   ],
   "source": [
    "df_customer.rename(columns = {\n",
    "    'Year_Birth' : 'birth_year',\n",
    "    'Education' : 'education',\n",
    "    'Marital_Status' : 'marital_status',\n",
    "    'Income' : 'income',\n",
    "    'Kidhome' : 'kids',\n",
    "    'Teenhome' : 'teens',\n",
    "    'Dt_Customer' : 'enrollment_date', \n",
    "    'Recency' : 'days_since_last_purchase',\n",
    "    'MntWines' : 'spent_on_wines',\n",
    "    'MntFruits' : 'spent_on_fruits',\n",
    "    'MntMeatProducts' : 'spent_on_meat',\n",
    "    'MntFishProducts' : 'spent_on_fish',\n",
    "    'MntSweetProducts' : 'spent_on_sweet',\n",
    "    'MntGoldProds' : 'spent_on_gold',\n",
    "    'NumDealsPurchases' : 'purchases_with_discount', \n",
    "    'NumWebPurchases' : 'web_purchase',\n",
    "    'NumCatalogPurchases' : 'catalog_purchase', \n",
    "    'NumStorePurchases' : 'store_purchase', \n",
    "    'NumWebVisitsMonth' : 'website_visit_last_month',\n",
    "    'AcceptedCmp3' : 'campaign3',\n",
    "    'AcceptedCmp4' : 'campaign4', \n",
    "    'AcceptedCmp5': 'campaign5', \n",
    "    'AcceptedCmp1': 'campaign1',\n",
    "    'AcceptedCmp2' : 'campaign2',\n",
    "    'Complain' : 'complain',\n",
    "    'Response' : 'last_campaign'\n",
    "}, inplace = True)\n",
    "\n",
    "df_customer.columns"
   ]
  },
  {
   "cell_type": "code",
   "execution_count": 12,
   "id": "2f498bf5",
   "metadata": {
    "execution": {
     "iopub.execute_input": "2023-10-12T09:38:07.436247Z",
     "iopub.status.busy": "2023-10-12T09:38:07.435921Z",
     "iopub.status.idle": "2023-10-12T09:38:07.512408Z",
     "shell.execute_reply": "2023-10-12T09:38:07.511402Z"
    },
    "papermill": {
     "duration": 0.094249,
     "end_time": "2023-10-12T09:38:07.514682",
     "exception": false,
     "start_time": "2023-10-12T09:38:07.420433",
     "status": "completed"
    },
    "tags": []
   },
   "outputs": [
    {
     "data": {
      "text/html": [
       "<div>\n",
       "<style scoped>\n",
       "    .dataframe tbody tr th:only-of-type {\n",
       "        vertical-align: middle;\n",
       "    }\n",
       "\n",
       "    .dataframe tbody tr th {\n",
       "        vertical-align: top;\n",
       "    }\n",
       "\n",
       "    .dataframe thead th {\n",
       "        text-align: right;\n",
       "    }\n",
       "</style>\n",
       "<table border=\"1\" class=\"dataframe\">\n",
       "  <thead>\n",
       "    <tr style=\"text-align: right;\">\n",
       "      <th></th>\n",
       "      <th>ID</th>\n",
       "      <th>birth_year</th>\n",
       "      <th>income</th>\n",
       "      <th>kids</th>\n",
       "      <th>teens</th>\n",
       "      <th>enrollment_date</th>\n",
       "      <th>days_since_last_purchase</th>\n",
       "      <th>spent_on_wines</th>\n",
       "      <th>spent_on_fruits</th>\n",
       "      <th>spent_on_meat</th>\n",
       "      <th>...</th>\n",
       "      <th>website_visit_last_month</th>\n",
       "      <th>campaign3</th>\n",
       "      <th>campaign4</th>\n",
       "      <th>campaign5</th>\n",
       "      <th>campaign1</th>\n",
       "      <th>campaign2</th>\n",
       "      <th>complain</th>\n",
       "      <th>Z_CostContact</th>\n",
       "      <th>Z_Revenue</th>\n",
       "      <th>last_campaign</th>\n",
       "    </tr>\n",
       "  </thead>\n",
       "  <tbody>\n",
       "    <tr>\n",
       "      <th>count</th>\n",
       "      <td>2216.000000</td>\n",
       "      <td>2216.000000</td>\n",
       "      <td>2216.000000</td>\n",
       "      <td>2216.000000</td>\n",
       "      <td>2216.000000</td>\n",
       "      <td>2216</td>\n",
       "      <td>2216.000000</td>\n",
       "      <td>2216.000000</td>\n",
       "      <td>2216.000000</td>\n",
       "      <td>2216.000000</td>\n",
       "      <td>...</td>\n",
       "      <td>2216.000000</td>\n",
       "      <td>2216.000000</td>\n",
       "      <td>2216.000000</td>\n",
       "      <td>2216.000000</td>\n",
       "      <td>2216.000000</td>\n",
       "      <td>2216.000000</td>\n",
       "      <td>2216.000000</td>\n",
       "      <td>2216.0</td>\n",
       "      <td>2216.0</td>\n",
       "      <td>2216.000000</td>\n",
       "    </tr>\n",
       "    <tr>\n",
       "      <th>mean</th>\n",
       "      <td>5588.353339</td>\n",
       "      <td>1968.820397</td>\n",
       "      <td>52247.251354</td>\n",
       "      <td>0.441787</td>\n",
       "      <td>0.505415</td>\n",
       "      <td>2013-07-10 11:29:27.509025280</td>\n",
       "      <td>49.012635</td>\n",
       "      <td>305.091606</td>\n",
       "      <td>26.356047</td>\n",
       "      <td>166.995939</td>\n",
       "      <td>...</td>\n",
       "      <td>5.319043</td>\n",
       "      <td>0.073556</td>\n",
       "      <td>0.074007</td>\n",
       "      <td>0.073105</td>\n",
       "      <td>0.064079</td>\n",
       "      <td>0.013538</td>\n",
       "      <td>0.009477</td>\n",
       "      <td>3.0</td>\n",
       "      <td>11.0</td>\n",
       "      <td>0.150271</td>\n",
       "    </tr>\n",
       "    <tr>\n",
       "      <th>min</th>\n",
       "      <td>0.000000</td>\n",
       "      <td>1893.000000</td>\n",
       "      <td>1730.000000</td>\n",
       "      <td>0.000000</td>\n",
       "      <td>0.000000</td>\n",
       "      <td>2012-07-30 00:00:00</td>\n",
       "      <td>0.000000</td>\n",
       "      <td>0.000000</td>\n",
       "      <td>0.000000</td>\n",
       "      <td>0.000000</td>\n",
       "      <td>...</td>\n",
       "      <td>0.000000</td>\n",
       "      <td>0.000000</td>\n",
       "      <td>0.000000</td>\n",
       "      <td>0.000000</td>\n",
       "      <td>0.000000</td>\n",
       "      <td>0.000000</td>\n",
       "      <td>0.000000</td>\n",
       "      <td>3.0</td>\n",
       "      <td>11.0</td>\n",
       "      <td>0.000000</td>\n",
       "    </tr>\n",
       "    <tr>\n",
       "      <th>25%</th>\n",
       "      <td>2814.750000</td>\n",
       "      <td>1959.000000</td>\n",
       "      <td>35303.000000</td>\n",
       "      <td>0.000000</td>\n",
       "      <td>0.000000</td>\n",
       "      <td>2013-01-16 00:00:00</td>\n",
       "      <td>24.000000</td>\n",
       "      <td>24.000000</td>\n",
       "      <td>2.000000</td>\n",
       "      <td>16.000000</td>\n",
       "      <td>...</td>\n",
       "      <td>3.000000</td>\n",
       "      <td>0.000000</td>\n",
       "      <td>0.000000</td>\n",
       "      <td>0.000000</td>\n",
       "      <td>0.000000</td>\n",
       "      <td>0.000000</td>\n",
       "      <td>0.000000</td>\n",
       "      <td>3.0</td>\n",
       "      <td>11.0</td>\n",
       "      <td>0.000000</td>\n",
       "    </tr>\n",
       "    <tr>\n",
       "      <th>50%</th>\n",
       "      <td>5458.500000</td>\n",
       "      <td>1970.000000</td>\n",
       "      <td>51381.500000</td>\n",
       "      <td>0.000000</td>\n",
       "      <td>0.000000</td>\n",
       "      <td>2013-07-08 12:00:00</td>\n",
       "      <td>49.000000</td>\n",
       "      <td>174.500000</td>\n",
       "      <td>8.000000</td>\n",
       "      <td>68.000000</td>\n",
       "      <td>...</td>\n",
       "      <td>6.000000</td>\n",
       "      <td>0.000000</td>\n",
       "      <td>0.000000</td>\n",
       "      <td>0.000000</td>\n",
       "      <td>0.000000</td>\n",
       "      <td>0.000000</td>\n",
       "      <td>0.000000</td>\n",
       "      <td>3.0</td>\n",
       "      <td>11.0</td>\n",
       "      <td>0.000000</td>\n",
       "    </tr>\n",
       "    <tr>\n",
       "      <th>75%</th>\n",
       "      <td>8421.750000</td>\n",
       "      <td>1977.000000</td>\n",
       "      <td>68522.000000</td>\n",
       "      <td>1.000000</td>\n",
       "      <td>1.000000</td>\n",
       "      <td>2013-12-31 00:00:00</td>\n",
       "      <td>74.000000</td>\n",
       "      <td>505.000000</td>\n",
       "      <td>33.000000</td>\n",
       "      <td>232.250000</td>\n",
       "      <td>...</td>\n",
       "      <td>7.000000</td>\n",
       "      <td>0.000000</td>\n",
       "      <td>0.000000</td>\n",
       "      <td>0.000000</td>\n",
       "      <td>0.000000</td>\n",
       "      <td>0.000000</td>\n",
       "      <td>0.000000</td>\n",
       "      <td>3.0</td>\n",
       "      <td>11.0</td>\n",
       "      <td>0.000000</td>\n",
       "    </tr>\n",
       "    <tr>\n",
       "      <th>max</th>\n",
       "      <td>11191.000000</td>\n",
       "      <td>1996.000000</td>\n",
       "      <td>666666.000000</td>\n",
       "      <td>2.000000</td>\n",
       "      <td>2.000000</td>\n",
       "      <td>2014-06-29 00:00:00</td>\n",
       "      <td>99.000000</td>\n",
       "      <td>1493.000000</td>\n",
       "      <td>199.000000</td>\n",
       "      <td>1725.000000</td>\n",
       "      <td>...</td>\n",
       "      <td>20.000000</td>\n",
       "      <td>1.000000</td>\n",
       "      <td>1.000000</td>\n",
       "      <td>1.000000</td>\n",
       "      <td>1.000000</td>\n",
       "      <td>1.000000</td>\n",
       "      <td>1.000000</td>\n",
       "      <td>3.0</td>\n",
       "      <td>11.0</td>\n",
       "      <td>1.000000</td>\n",
       "    </tr>\n",
       "    <tr>\n",
       "      <th>std</th>\n",
       "      <td>3249.376275</td>\n",
       "      <td>11.985554</td>\n",
       "      <td>25173.076661</td>\n",
       "      <td>0.536896</td>\n",
       "      <td>0.544181</td>\n",
       "      <td>NaN</td>\n",
       "      <td>28.948352</td>\n",
       "      <td>337.327920</td>\n",
       "      <td>39.793917</td>\n",
       "      <td>224.283273</td>\n",
       "      <td>...</td>\n",
       "      <td>2.425359</td>\n",
       "      <td>0.261106</td>\n",
       "      <td>0.261842</td>\n",
       "      <td>0.260367</td>\n",
       "      <td>0.244950</td>\n",
       "      <td>0.115588</td>\n",
       "      <td>0.096907</td>\n",
       "      <td>0.0</td>\n",
       "      <td>0.0</td>\n",
       "      <td>0.357417</td>\n",
       "    </tr>\n",
       "  </tbody>\n",
       "</table>\n",
       "<p>8 rows × 27 columns</p>\n",
       "</div>"
      ],
      "text/plain": [
       "                 ID   birth_year         income         kids        teens  \\\n",
       "count   2216.000000  2216.000000    2216.000000  2216.000000  2216.000000   \n",
       "mean    5588.353339  1968.820397   52247.251354     0.441787     0.505415   \n",
       "min        0.000000  1893.000000    1730.000000     0.000000     0.000000   \n",
       "25%     2814.750000  1959.000000   35303.000000     0.000000     0.000000   \n",
       "50%     5458.500000  1970.000000   51381.500000     0.000000     0.000000   \n",
       "75%     8421.750000  1977.000000   68522.000000     1.000000     1.000000   \n",
       "max    11191.000000  1996.000000  666666.000000     2.000000     2.000000   \n",
       "std     3249.376275    11.985554   25173.076661     0.536896     0.544181   \n",
       "\n",
       "                     enrollment_date  days_since_last_purchase  \\\n",
       "count                           2216               2216.000000   \n",
       "mean   2013-07-10 11:29:27.509025280                 49.012635   \n",
       "min              2012-07-30 00:00:00                  0.000000   \n",
       "25%              2013-01-16 00:00:00                 24.000000   \n",
       "50%              2013-07-08 12:00:00                 49.000000   \n",
       "75%              2013-12-31 00:00:00                 74.000000   \n",
       "max              2014-06-29 00:00:00                 99.000000   \n",
       "std                              NaN                 28.948352   \n",
       "\n",
       "       spent_on_wines  spent_on_fruits  spent_on_meat  ...  \\\n",
       "count     2216.000000      2216.000000    2216.000000  ...   \n",
       "mean       305.091606        26.356047     166.995939  ...   \n",
       "min          0.000000         0.000000       0.000000  ...   \n",
       "25%         24.000000         2.000000      16.000000  ...   \n",
       "50%        174.500000         8.000000      68.000000  ...   \n",
       "75%        505.000000        33.000000     232.250000  ...   \n",
       "max       1493.000000       199.000000    1725.000000  ...   \n",
       "std        337.327920        39.793917     224.283273  ...   \n",
       "\n",
       "       website_visit_last_month    campaign3    campaign4    campaign5  \\\n",
       "count               2216.000000  2216.000000  2216.000000  2216.000000   \n",
       "mean                   5.319043     0.073556     0.074007     0.073105   \n",
       "min                    0.000000     0.000000     0.000000     0.000000   \n",
       "25%                    3.000000     0.000000     0.000000     0.000000   \n",
       "50%                    6.000000     0.000000     0.000000     0.000000   \n",
       "75%                    7.000000     0.000000     0.000000     0.000000   \n",
       "max                   20.000000     1.000000     1.000000     1.000000   \n",
       "std                    2.425359     0.261106     0.261842     0.260367   \n",
       "\n",
       "         campaign1    campaign2     complain  Z_CostContact  Z_Revenue  \\\n",
       "count  2216.000000  2216.000000  2216.000000         2216.0     2216.0   \n",
       "mean      0.064079     0.013538     0.009477            3.0       11.0   \n",
       "min       0.000000     0.000000     0.000000            3.0       11.0   \n",
       "25%       0.000000     0.000000     0.000000            3.0       11.0   \n",
       "50%       0.000000     0.000000     0.000000            3.0       11.0   \n",
       "75%       0.000000     0.000000     0.000000            3.0       11.0   \n",
       "max       1.000000     1.000000     1.000000            3.0       11.0   \n",
       "std       0.244950     0.115588     0.096907            0.0        0.0   \n",
       "\n",
       "       last_campaign  \n",
       "count    2216.000000  \n",
       "mean        0.150271  \n",
       "min         0.000000  \n",
       "25%         0.000000  \n",
       "50%         0.000000  \n",
       "75%         0.000000  \n",
       "max         1.000000  \n",
       "std         0.357417  \n",
       "\n",
       "[8 rows x 27 columns]"
      ]
     },
     "execution_count": 12,
     "metadata": {},
     "output_type": "execute_result"
    }
   ],
   "source": [
    "df_customer.describe()"
   ]
  },
  {
   "cell_type": "markdown",
   "id": "9c196d2b",
   "metadata": {
    "papermill": {
     "duration": 0.014257,
     "end_time": "2023-10-12T09:38:07.543592",
     "exception": false,
     "start_time": "2023-10-12T09:38:07.529335",
     "status": "completed"
    },
    "tags": []
   },
   "source": [
    "**Checking the distribution of the data present in various variables.**\n"
   ]
  },
  {
   "cell_type": "code",
   "execution_count": 13,
   "id": "1f839a65",
   "metadata": {
    "execution": {
     "iopub.execute_input": "2023-10-12T09:38:07.574373Z",
     "iopub.status.busy": "2023-10-12T09:38:07.573758Z",
     "iopub.status.idle": "2023-10-12T09:38:08.183108Z",
     "shell.execute_reply": "2023-10-12T09:38:08.181869Z"
    },
    "papermill": {
     "duration": 0.626993,
     "end_time": "2023-10-12T09:38:08.185179",
     "exception": false,
     "start_time": "2023-10-12T09:38:07.558186",
     "status": "completed"
    },
    "tags": []
   },
   "outputs": [
    {
     "data": {
      "image/png": "[encoded data removed]",
      "text/plain": [
       "<Figure size 1000x400 with 2 Axes>"
      ]
     },
     "metadata": {},
     "output_type": "display_data"
    }
   ],
   "source": [
    "fig, axes = plt.subplots(1,2, figsize = (10,4))\n",
    "\n",
    "sns.histplot(df_customer['birth_year'], color = 'lavender', ax = axes[0])\n",
    "axes[0].set_title('Distribution of Birth Year')\n",
    "\n",
    "sns.boxplot(df_customer['birth_year'], color = 'lavender', ax = axes[1])\n",
    "axes[1].set_title('Outliers in `Birth Year` Variable')\n",
    "\n",
    "plt.tight_layout()"
   ]
  },
  {
   "cell_type": "code",
   "execution_count": 14,
   "id": "0497e1d6",
   "metadata": {
    "execution": {
     "iopub.execute_input": "2023-10-12T09:38:08.216890Z",
     "iopub.status.busy": "2023-10-12T09:38:08.216499Z",
     "iopub.status.idle": "2023-10-12T09:38:08.237186Z",
     "shell.execute_reply": "2023-10-12T09:38:08.236117Z"
    },
    "papermill": {
     "duration": 0.039233,
     "end_time": "2023-10-12T09:38:08.239371",
     "exception": false,
     "start_time": "2023-10-12T09:38:08.200138",
     "status": "completed"
    },
    "tags": []
   },
   "outputs": [
    {
     "data": {
      "text/html": [
       "<div>\n",
       "<style scoped>\n",
       "    .dataframe tbody tr th:only-of-type {\n",
       "        vertical-align: middle;\n",
       "    }\n",
       "\n",
       "    .dataframe tbody tr th {\n",
       "        vertical-align: top;\n",
       "    }\n",
       "\n",
       "    .dataframe thead th {\n",
       "        text-align: right;\n",
       "    }\n",
       "</style>\n",
       "<table border=\"1\" class=\"dataframe\">\n",
       "  <thead>\n",
       "    <tr style=\"text-align: right;\">\n",
       "      <th></th>\n",
       "      <th>ID</th>\n",
       "      <th>birth_year</th>\n",
       "      <th>education</th>\n",
       "      <th>marital_status</th>\n",
       "      <th>income</th>\n",
       "      <th>kids</th>\n",
       "      <th>teens</th>\n",
       "      <th>enrollment_date</th>\n",
       "      <th>days_since_last_purchase</th>\n",
       "      <th>spent_on_wines</th>\n",
       "      <th>...</th>\n",
       "      <th>website_visit_last_month</th>\n",
       "      <th>campaign3</th>\n",
       "      <th>campaign4</th>\n",
       "      <th>campaign5</th>\n",
       "      <th>campaign1</th>\n",
       "      <th>campaign2</th>\n",
       "      <th>complain</th>\n",
       "      <th>Z_CostContact</th>\n",
       "      <th>Z_Revenue</th>\n",
       "      <th>last_campaign</th>\n",
       "    </tr>\n",
       "  </thead>\n",
       "  <tbody>\n",
       "    <tr>\n",
       "      <th>192</th>\n",
       "      <td>7829</td>\n",
       "      <td>1900</td>\n",
       "      <td>2n Cycle</td>\n",
       "      <td>Divorced</td>\n",
       "      <td>36640.0</td>\n",
       "      <td>1</td>\n",
       "      <td>0</td>\n",
       "      <td>2013-09-26</td>\n",
       "      <td>99</td>\n",
       "      <td>15</td>\n",
       "      <td>...</td>\n",
       "      <td>5</td>\n",
       "      <td>0</td>\n",
       "      <td>0</td>\n",
       "      <td>0</td>\n",
       "      <td>0</td>\n",
       "      <td>0</td>\n",
       "      <td>1</td>\n",
       "      <td>3</td>\n",
       "      <td>11</td>\n",
       "      <td>0</td>\n",
       "    </tr>\n",
       "    <tr>\n",
       "      <th>239</th>\n",
       "      <td>11004</td>\n",
       "      <td>1893</td>\n",
       "      <td>2n Cycle</td>\n",
       "      <td>Single</td>\n",
       "      <td>60182.0</td>\n",
       "      <td>0</td>\n",
       "      <td>1</td>\n",
       "      <td>2014-05-17</td>\n",
       "      <td>23</td>\n",
       "      <td>8</td>\n",
       "      <td>...</td>\n",
       "      <td>4</td>\n",
       "      <td>0</td>\n",
       "      <td>0</td>\n",
       "      <td>0</td>\n",
       "      <td>0</td>\n",
       "      <td>0</td>\n",
       "      <td>0</td>\n",
       "      <td>3</td>\n",
       "      <td>11</td>\n",
       "      <td>0</td>\n",
       "    </tr>\n",
       "    <tr>\n",
       "      <th>339</th>\n",
       "      <td>1150</td>\n",
       "      <td>1899</td>\n",
       "      <td>PhD</td>\n",
       "      <td>Together</td>\n",
       "      <td>83532.0</td>\n",
       "      <td>0</td>\n",
       "      <td>0</td>\n",
       "      <td>2013-09-26</td>\n",
       "      <td>36</td>\n",
       "      <td>755</td>\n",
       "      <td>...</td>\n",
       "      <td>1</td>\n",
       "      <td>0</td>\n",
       "      <td>0</td>\n",
       "      <td>1</td>\n",
       "      <td>0</td>\n",
       "      <td>0</td>\n",
       "      <td>0</td>\n",
       "      <td>3</td>\n",
       "      <td>11</td>\n",
       "      <td>0</td>\n",
       "    </tr>\n",
       "  </tbody>\n",
       "</table>\n",
       "<p>3 rows × 29 columns</p>\n",
       "</div>"
      ],
      "text/plain": [
       "        ID  birth_year education marital_status   income  kids  teens  \\\n",
       "192   7829        1900  2n Cycle       Divorced  36640.0     1      0   \n",
       "239  11004        1893  2n Cycle         Single  60182.0     0      1   \n",
       "339   1150        1899       PhD       Together  83532.0     0      0   \n",
       "\n",
       "    enrollment_date  days_since_last_purchase  spent_on_wines  ...  \\\n",
       "192      2013-09-26                        99              15  ...   \n",
       "239      2014-05-17                        23               8  ...   \n",
       "339      2013-09-26                        36             755  ...   \n",
       "\n",
       "     website_visit_last_month  campaign3  campaign4  campaign5  campaign1  \\\n",
       "192                         5          0          0          0          0   \n",
       "239                         4          0          0          0          0   \n",
       "339                         1          0          0          1          0   \n",
       "\n",
       "     campaign2  complain  Z_CostContact  Z_Revenue  last_campaign  \n",
       "192          0         1              3         11              0  \n",
       "239          0         0              3         11              0  \n",
       "339          0         0              3         11              0  \n",
       "\n",
       "[3 rows x 29 columns]"
      ]
     },
     "execution_count": 14,
     "metadata": {},
     "output_type": "execute_result"
    }
   ],
   "source": [
    "q1 = df_customer['birth_year'].quantile(.25)\n",
    "q3 = df_customer['birth_year'].quantile(.75)\n",
    "\n",
    "iqr = q3-q1\n",
    "\n",
    "outlier = df_customer[df_customer['birth_year'] < (q1 - 1.5 * iqr)]\n",
    "outlier"
   ]
  },
  {
   "cell_type": "markdown",
   "id": "be73dff1",
   "metadata": {
    "papermill": {
     "duration": 0.015469,
     "end_time": "2023-10-12T09:38:08.270561",
     "exception": false,
     "start_time": "2023-10-12T09:38:08.255092",
     "status": "completed"
    },
    "tags": []
   },
   "source": [
    "There are only 3 outliers present in the birth_year column. This suggests that the company have elderly customers as well."
   ]
  },
  {
   "cell_type": "code",
   "execution_count": 15,
   "id": "442650e5",
   "metadata": {
    "execution": {
     "iopub.execute_input": "2023-10-12T09:38:08.302670Z",
     "iopub.status.busy": "2023-10-12T09:38:08.302327Z",
     "iopub.status.idle": "2023-10-12T09:38:09.054315Z",
     "shell.execute_reply": "2023-10-12T09:38:09.053343Z"
    },
    "papermill": {
     "duration": 0.77067,
     "end_time": "2023-10-12T09:38:09.056514",
     "exception": false,
     "start_time": "2023-10-12T09:38:08.285844",
     "status": "completed"
    },
    "tags": []
   },
   "outputs": [
    {
     "data": {
      "image/png": "[encoded data removed]",
      "text/plain": [
       "<Figure size 1000x400 with 2 Axes>"
      ]
     },
     "metadata": {},
     "output_type": "display_data"
    }
   ],
   "source": [
    "fig, axes = plt.subplots(1,2, figsize = (10,4))\n",
    "\n",
    "sns.histplot(df_customer['income'], color = 'lavender', ax = axes[0])\n",
    "axes[0].set_title('Distribution of Income')\n",
    "\n",
    "sns.boxplot(df_customer['income'], color = 'lavender', ax = axes[1])\n",
    "axes[1].set_title('Outliers in `Income` Variable')\n",
    "\n",
    "plt.tight_layout()"
   ]
  },
  {
   "cell_type": "code",
   "execution_count": 16,
   "id": "e4bf7737",
   "metadata": {
    "execution": {
     "iopub.execute_input": "2023-10-12T09:38:09.089683Z",
     "iopub.status.busy": "2023-10-12T09:38:09.089331Z",
     "iopub.status.idle": "2023-10-12T09:38:09.113410Z",
     "shell.execute_reply": "2023-10-12T09:38:09.112522Z"
    },
    "papermill": {
     "duration": 0.043023,
     "end_time": "2023-10-12T09:38:09.115586",
     "exception": false,
     "start_time": "2023-10-12T09:38:09.072563",
     "status": "completed"
    },
    "tags": []
   },
   "outputs": [
    {
     "data": {
      "text/html": [
       "<div>\n",
       "<style scoped>\n",
       "    .dataframe tbody tr th:only-of-type {\n",
       "        vertical-align: middle;\n",
       "    }\n",
       "\n",
       "    .dataframe tbody tr th {\n",
       "        vertical-align: top;\n",
       "    }\n",
       "\n",
       "    .dataframe thead th {\n",
       "        text-align: right;\n",
       "    }\n",
       "</style>\n",
       "<table border=\"1\" class=\"dataframe\">\n",
       "  <thead>\n",
       "    <tr style=\"text-align: right;\">\n",
       "      <th></th>\n",
       "      <th>ID</th>\n",
       "      <th>birth_year</th>\n",
       "      <th>education</th>\n",
       "      <th>marital_status</th>\n",
       "      <th>income</th>\n",
       "      <th>kids</th>\n",
       "      <th>teens</th>\n",
       "      <th>enrollment_date</th>\n",
       "      <th>days_since_last_purchase</th>\n",
       "      <th>spent_on_wines</th>\n",
       "      <th>...</th>\n",
       "      <th>website_visit_last_month</th>\n",
       "      <th>campaign3</th>\n",
       "      <th>campaign4</th>\n",
       "      <th>campaign5</th>\n",
       "      <th>campaign1</th>\n",
       "      <th>campaign2</th>\n",
       "      <th>complain</th>\n",
       "      <th>Z_CostContact</th>\n",
       "      <th>Z_Revenue</th>\n",
       "      <th>last_campaign</th>\n",
       "    </tr>\n",
       "  </thead>\n",
       "  <tbody>\n",
       "    <tr>\n",
       "      <th>164</th>\n",
       "      <td>8475</td>\n",
       "      <td>1973</td>\n",
       "      <td>PhD</td>\n",
       "      <td>Married</td>\n",
       "      <td>157243.0</td>\n",
       "      <td>0</td>\n",
       "      <td>1</td>\n",
       "      <td>2014-03-01</td>\n",
       "      <td>98</td>\n",
       "      <td>20</td>\n",
       "      <td>...</td>\n",
       "      <td>0</td>\n",
       "      <td>0</td>\n",
       "      <td>0</td>\n",
       "      <td>0</td>\n",
       "      <td>0</td>\n",
       "      <td>0</td>\n",
       "      <td>0</td>\n",
       "      <td>3</td>\n",
       "      <td>11</td>\n",
       "      <td>0</td>\n",
       "    </tr>\n",
       "    <tr>\n",
       "      <th>617</th>\n",
       "      <td>1503</td>\n",
       "      <td>1976</td>\n",
       "      <td>PhD</td>\n",
       "      <td>Together</td>\n",
       "      <td>162397.0</td>\n",
       "      <td>1</td>\n",
       "      <td>1</td>\n",
       "      <td>2013-06-03</td>\n",
       "      <td>31</td>\n",
       "      <td>85</td>\n",
       "      <td>...</td>\n",
       "      <td>1</td>\n",
       "      <td>0</td>\n",
       "      <td>0</td>\n",
       "      <td>0</td>\n",
       "      <td>0</td>\n",
       "      <td>0</td>\n",
       "      <td>0</td>\n",
       "      <td>3</td>\n",
       "      <td>11</td>\n",
       "      <td>0</td>\n",
       "    </tr>\n",
       "    <tr>\n",
       "      <th>655</th>\n",
       "      <td>5555</td>\n",
       "      <td>1975</td>\n",
       "      <td>Graduation</td>\n",
       "      <td>Divorced</td>\n",
       "      <td>153924.0</td>\n",
       "      <td>0</td>\n",
       "      <td>0</td>\n",
       "      <td>2014-02-07</td>\n",
       "      <td>81</td>\n",
       "      <td>1</td>\n",
       "      <td>...</td>\n",
       "      <td>0</td>\n",
       "      <td>0</td>\n",
       "      <td>0</td>\n",
       "      <td>0</td>\n",
       "      <td>0</td>\n",
       "      <td>0</td>\n",
       "      <td>0</td>\n",
       "      <td>3</td>\n",
       "      <td>11</td>\n",
       "      <td>0</td>\n",
       "    </tr>\n",
       "    <tr>\n",
       "      <th>687</th>\n",
       "      <td>1501</td>\n",
       "      <td>1982</td>\n",
       "      <td>PhD</td>\n",
       "      <td>Married</td>\n",
       "      <td>160803.0</td>\n",
       "      <td>0</td>\n",
       "      <td>0</td>\n",
       "      <td>2012-08-04</td>\n",
       "      <td>21</td>\n",
       "      <td>55</td>\n",
       "      <td>...</td>\n",
       "      <td>0</td>\n",
       "      <td>0</td>\n",
       "      <td>0</td>\n",
       "      <td>0</td>\n",
       "      <td>0</td>\n",
       "      <td>0</td>\n",
       "      <td>0</td>\n",
       "      <td>3</td>\n",
       "      <td>11</td>\n",
       "      <td>0</td>\n",
       "    </tr>\n",
       "    <tr>\n",
       "      <th>1300</th>\n",
       "      <td>5336</td>\n",
       "      <td>1971</td>\n",
       "      <td>Master</td>\n",
       "      <td>Together</td>\n",
       "      <td>157733.0</td>\n",
       "      <td>1</td>\n",
       "      <td>0</td>\n",
       "      <td>2013-06-04</td>\n",
       "      <td>37</td>\n",
       "      <td>39</td>\n",
       "      <td>...</td>\n",
       "      <td>1</td>\n",
       "      <td>0</td>\n",
       "      <td>0</td>\n",
       "      <td>0</td>\n",
       "      <td>0</td>\n",
       "      <td>0</td>\n",
       "      <td>0</td>\n",
       "      <td>3</td>\n",
       "      <td>11</td>\n",
       "      <td>0</td>\n",
       "    </tr>\n",
       "    <tr>\n",
       "      <th>1653</th>\n",
       "      <td>4931</td>\n",
       "      <td>1977</td>\n",
       "      <td>Graduation</td>\n",
       "      <td>Together</td>\n",
       "      <td>157146.0</td>\n",
       "      <td>0</td>\n",
       "      <td>0</td>\n",
       "      <td>2013-04-29</td>\n",
       "      <td>13</td>\n",
       "      <td>1</td>\n",
       "      <td>...</td>\n",
       "      <td>1</td>\n",
       "      <td>0</td>\n",
       "      <td>0</td>\n",
       "      <td>0</td>\n",
       "      <td>0</td>\n",
       "      <td>0</td>\n",
       "      <td>0</td>\n",
       "      <td>3</td>\n",
       "      <td>11</td>\n",
       "      <td>0</td>\n",
       "    </tr>\n",
       "    <tr>\n",
       "      <th>2132</th>\n",
       "      <td>11181</td>\n",
       "      <td>1949</td>\n",
       "      <td>PhD</td>\n",
       "      <td>Married</td>\n",
       "      <td>156924.0</td>\n",
       "      <td>0</td>\n",
       "      <td>0</td>\n",
       "      <td>2013-08-29</td>\n",
       "      <td>85</td>\n",
       "      <td>2</td>\n",
       "      <td>...</td>\n",
       "      <td>0</td>\n",
       "      <td>0</td>\n",
       "      <td>0</td>\n",
       "      <td>0</td>\n",
       "      <td>0</td>\n",
       "      <td>0</td>\n",
       "      <td>0</td>\n",
       "      <td>3</td>\n",
       "      <td>11</td>\n",
       "      <td>0</td>\n",
       "    </tr>\n",
       "    <tr>\n",
       "      <th>2233</th>\n",
       "      <td>9432</td>\n",
       "      <td>1977</td>\n",
       "      <td>Graduation</td>\n",
       "      <td>Together</td>\n",
       "      <td>666666.0</td>\n",
       "      <td>1</td>\n",
       "      <td>0</td>\n",
       "      <td>2013-06-02</td>\n",
       "      <td>23</td>\n",
       "      <td>9</td>\n",
       "      <td>...</td>\n",
       "      <td>6</td>\n",
       "      <td>0</td>\n",
       "      <td>0</td>\n",
       "      <td>0</td>\n",
       "      <td>0</td>\n",
       "      <td>0</td>\n",
       "      <td>0</td>\n",
       "      <td>3</td>\n",
       "      <td>11</td>\n",
       "      <td>0</td>\n",
       "    </tr>\n",
       "  </tbody>\n",
       "</table>\n",
       "<p>8 rows × 29 columns</p>\n",
       "</div>"
      ],
      "text/plain": [
       "         ID  birth_year   education marital_status    income  kids  teens  \\\n",
       "164    8475        1973         PhD        Married  157243.0     0      1   \n",
       "617    1503        1976         PhD       Together  162397.0     1      1   \n",
       "655    5555        1975  Graduation       Divorced  153924.0     0      0   \n",
       "687    1501        1982         PhD        Married  160803.0     0      0   \n",
       "1300   5336        1971      Master       Together  157733.0     1      0   \n",
       "1653   4931        1977  Graduation       Together  157146.0     0      0   \n",
       "2132  11181        1949         PhD        Married  156924.0     0      0   \n",
       "2233   9432        1977  Graduation       Together  666666.0     1      0   \n",
       "\n",
       "     enrollment_date  days_since_last_purchase  spent_on_wines  ...  \\\n",
       "164       2014-03-01                        98              20  ...   \n",
       "617       2013-06-03                        31              85  ...   \n",
       "655       2014-02-07                        81               1  ...   \n",
       "687       2012-08-04                        21              55  ...   \n",
       "1300      2013-06-04                        37              39  ...   \n",
       "1653      2013-04-29                        13               1  ...   \n",
       "2132      2013-08-29                        85               2  ...   \n",
       "2233      2013-06-02                        23               9  ...   \n",
       "\n",
       "      website_visit_last_month  campaign3  campaign4  campaign5  campaign1  \\\n",
       "164                          0          0          0          0          0   \n",
       "617                          1          0          0          0          0   \n",
       "655                          0          0          0          0          0   \n",
       "687                          0          0          0          0          0   \n",
       "1300                         1          0          0          0          0   \n",
       "1653                         1          0          0          0          0   \n",
       "2132                         0          0          0          0          0   \n",
       "2233                         6          0          0          0          0   \n",
       "\n",
       "      campaign2  complain  Z_CostContact  Z_Revenue  last_campaign  \n",
       "164           0         0              3         11              0  \n",
       "617           0         0              3         11              0  \n",
       "655           0         0              3         11              0  \n",
       "687           0         0              3         11              0  \n",
       "1300          0         0              3         11              0  \n",
       "1653          0         0              3         11              0  \n",
       "2132          0         0              3         11              0  \n",
       "2233          0         0              3         11              0  \n",
       "\n",
       "[8 rows x 29 columns]"
      ]
     },
     "execution_count": 16,
     "metadata": {},
     "output_type": "execute_result"
    }
   ],
   "source": [
    "q1 = df_customer['income'].quantile(.25)\n",
    "q3 = df_customer['income'].quantile(.75)\n",
    "\n",
    "iqr = q3-q1\n",
    "\n",
    "outlier = df_customer[df_customer['income'] > (q3 + 1.5 * iqr)]\n",
    "outlier"
   ]
  },
  {
   "cell_type": "markdown",
   "id": "fe9c9a86",
   "metadata": {
    "papermill": {
     "duration": 0.017091,
     "end_time": "2023-10-12T09:38:09.149290",
     "exception": false,
     "start_time": "2023-10-12T09:38:09.132199",
     "status": "completed"
    },
    "tags": []
   },
   "source": [
    "From the distribution it is clear that the `income` variable is clustered together in the left. However, there are 8 outliers present  which have relatvely high income than the rest. Since, this variable isn't introducing bias, we will leave them as it is."
   ]
  },
  {
   "cell_type": "code",
   "execution_count": 17,
   "id": "b727e15d",
   "metadata": {
    "execution": {
     "iopub.execute_input": "2023-10-12T09:38:09.184542Z",
     "iopub.status.busy": "2023-10-12T09:38:09.183780Z",
     "iopub.status.idle": "2023-10-12T09:38:09.756844Z",
     "shell.execute_reply": "2023-10-12T09:38:09.755862Z"
    },
    "papermill": {
     "duration": 0.59288,
     "end_time": "2023-10-12T09:38:09.759014",
     "exception": false,
     "start_time": "2023-10-12T09:38:09.166134",
     "status": "completed"
    },
    "tags": []
   },
   "outputs": [
    {
     "data": {
      "image/png": "[encoded data removed]",
      "text/plain": [
       "<Figure size 1000x400 with 2 Axes>"
      ]
     },
     "metadata": {},
     "output_type": "display_data"
    }
   ],
   "source": [
    "fig, axes = plt.subplots(1,2, figsize = (10,4))\n",
    "\n",
    "sns.histplot(df_customer['days_since_last_purchase'], color = 'lavender', ax = axes[0])\n",
    "axes[0].set_title('Distribution of days_since_last_purchase')\n",
    "\n",
    "sns.boxplot(df_customer['days_since_last_purchase'], color = 'lavender', ax = axes[1])\n",
    "axes[1].set_title('Outliers in `days_since_last_purchase` Variable')\n",
    "\n",
    "plt.tight_layout()"
   ]
  },
  {
   "cell_type": "markdown",
   "id": "74d9366c",
   "metadata": {
    "papermill": {
     "duration": 0.016613,
     "end_time": "2023-10-12T09:38:09.792738",
     "exception": false,
     "start_time": "2023-10-12T09:38:09.776125",
     "status": "completed"
    },
    "tags": []
   },
   "source": [
    "The variable `days_since_last_purchase` is approximately uniformally distributed, and ranges from 0 to 100."
   ]
  },
  {
   "cell_type": "code",
   "execution_count": 18,
   "id": "b1e3f93b",
   "metadata": {
    "execution": {
     "iopub.execute_input": "2023-10-12T09:38:09.829753Z",
     "iopub.status.busy": "2023-10-12T09:38:09.828636Z",
     "iopub.status.idle": "2023-10-12T09:38:10.461374Z",
     "shell.execute_reply": "2023-10-12T09:38:10.460414Z"
    },
    "papermill": {
     "duration": 0.653817,
     "end_time": "2023-10-12T09:38:10.463697",
     "exception": false,
     "start_time": "2023-10-12T09:38:09.809880",
     "status": "completed"
    },
    "tags": []
   },
   "outputs": [
    {
     "data": {
      "image/png": "[encoded data removed]",
      "text/plain": [
       "<Figure size 1000x400 with 2 Axes>"
      ]
     },
     "metadata": {},
     "output_type": "display_data"
    }
   ],
   "source": [
    "fig, axes = plt.subplots(1,2, figsize = (10,4))\n",
    "\n",
    "sns.histplot(df_customer['purchases_with_discount'], color = 'lavender', ax = axes[0])\n",
    "axes[0].set_title('Distribution of purchases_with_discount')\n",
    "\n",
    "sns.boxplot(df_customer['purchases_with_discount'], color = 'lavender', ax = axes[1])\n",
    "axes[1].set_title('Outliers in `purchases_with_discount` Variable')\n",
    "\n",
    "plt.tight_layout()"
   ]
  },
  {
   "cell_type": "code",
   "execution_count": 19,
   "id": "e494d376",
   "metadata": {
    "execution": {
     "iopub.execute_input": "2023-10-12T09:38:10.501137Z",
     "iopub.status.busy": "2023-10-12T09:38:10.500815Z",
     "iopub.status.idle": "2023-10-12T09:38:10.525600Z",
     "shell.execute_reply": "2023-10-12T09:38:10.524652Z"
    },
    "papermill": {
     "duration": 0.045071,
     "end_time": "2023-10-12T09:38:10.527603",
     "exception": false,
     "start_time": "2023-10-12T09:38:10.482532",
     "status": "completed"
    },
    "tags": []
   },
   "outputs": [
    {
     "data": {
      "text/html": [
       "<div>\n",
       "<style scoped>\n",
       "    .dataframe tbody tr th:only-of-type {\n",
       "        vertical-align: middle;\n",
       "    }\n",
       "\n",
       "    .dataframe tbody tr th {\n",
       "        vertical-align: top;\n",
       "    }\n",
       "\n",
       "    .dataframe thead th {\n",
       "        text-align: right;\n",
       "    }\n",
       "</style>\n",
       "<table border=\"1\" class=\"dataframe\">\n",
       "  <thead>\n",
       "    <tr style=\"text-align: right;\">\n",
       "      <th></th>\n",
       "      <th>ID</th>\n",
       "      <th>birth_year</th>\n",
       "      <th>education</th>\n",
       "      <th>marital_status</th>\n",
       "      <th>income</th>\n",
       "      <th>kids</th>\n",
       "      <th>teens</th>\n",
       "      <th>enrollment_date</th>\n",
       "      <th>days_since_last_purchase</th>\n",
       "      <th>spent_on_wines</th>\n",
       "      <th>...</th>\n",
       "      <th>website_visit_last_month</th>\n",
       "      <th>campaign3</th>\n",
       "      <th>campaign4</th>\n",
       "      <th>campaign5</th>\n",
       "      <th>campaign1</th>\n",
       "      <th>campaign2</th>\n",
       "      <th>complain</th>\n",
       "      <th>Z_CostContact</th>\n",
       "      <th>Z_Revenue</th>\n",
       "      <th>last_campaign</th>\n",
       "    </tr>\n",
       "  </thead>\n",
       "  <tbody>\n",
       "    <tr>\n",
       "      <th>21</th>\n",
       "      <td>5376</td>\n",
       "      <td>1979</td>\n",
       "      <td>Graduation</td>\n",
       "      <td>Married</td>\n",
       "      <td>2447.0</td>\n",
       "      <td>1</td>\n",
       "      <td>0</td>\n",
       "      <td>2013-01-06</td>\n",
       "      <td>42</td>\n",
       "      <td>1</td>\n",
       "      <td>...</td>\n",
       "      <td>1</td>\n",
       "      <td>0</td>\n",
       "      <td>0</td>\n",
       "      <td>0</td>\n",
       "      <td>0</td>\n",
       "      <td>0</td>\n",
       "      <td>0</td>\n",
       "      <td>3</td>\n",
       "      <td>11</td>\n",
       "      <td>0</td>\n",
       "    </tr>\n",
       "    <tr>\n",
       "      <th>24</th>\n",
       "      <td>1409</td>\n",
       "      <td>1951</td>\n",
       "      <td>Graduation</td>\n",
       "      <td>Together</td>\n",
       "      <td>40689.0</td>\n",
       "      <td>0</td>\n",
       "      <td>1</td>\n",
       "      <td>2013-03-18</td>\n",
       "      <td>69</td>\n",
       "      <td>270</td>\n",
       "      <td>...</td>\n",
       "      <td>8</td>\n",
       "      <td>0</td>\n",
       "      <td>0</td>\n",
       "      <td>0</td>\n",
       "      <td>0</td>\n",
       "      <td>0</td>\n",
       "      <td>0</td>\n",
       "      <td>3</td>\n",
       "      <td>11</td>\n",
       "      <td>0</td>\n",
       "    </tr>\n",
       "    <tr>\n",
       "      <th>49</th>\n",
       "      <td>6566</td>\n",
       "      <td>1954</td>\n",
       "      <td>PhD</td>\n",
       "      <td>Married</td>\n",
       "      <td>72550.0</td>\n",
       "      <td>1</td>\n",
       "      <td>1</td>\n",
       "      <td>2012-11-08</td>\n",
       "      <td>39</td>\n",
       "      <td>826</td>\n",
       "      <td>...</td>\n",
       "      <td>8</td>\n",
       "      <td>0</td>\n",
       "      <td>0</td>\n",
       "      <td>0</td>\n",
       "      <td>0</td>\n",
       "      <td>0</td>\n",
       "      <td>0</td>\n",
       "      <td>3</td>\n",
       "      <td>11</td>\n",
       "      <td>0</td>\n",
       "    </tr>\n",
       "    <tr>\n",
       "      <th>54</th>\n",
       "      <td>9381</td>\n",
       "      <td>1978</td>\n",
       "      <td>Graduation</td>\n",
       "      <td>Married</td>\n",
       "      <td>66373.0</td>\n",
       "      <td>1</td>\n",
       "      <td>1</td>\n",
       "      <td>2013-06-12</td>\n",
       "      <td>57</td>\n",
       "      <td>328</td>\n",
       "      <td>...</td>\n",
       "      <td>3</td>\n",
       "      <td>0</td>\n",
       "      <td>0</td>\n",
       "      <td>0</td>\n",
       "      <td>0</td>\n",
       "      <td>0</td>\n",
       "      <td>0</td>\n",
       "      <td>3</td>\n",
       "      <td>11</td>\n",
       "      <td>0</td>\n",
       "    </tr>\n",
       "    <tr>\n",
       "      <th>69</th>\n",
       "      <td>1357</td>\n",
       "      <td>1970</td>\n",
       "      <td>Graduation</td>\n",
       "      <td>Together</td>\n",
       "      <td>74854.0</td>\n",
       "      <td>1</td>\n",
       "      <td>2</td>\n",
       "      <td>2013-04-08</td>\n",
       "      <td>90</td>\n",
       "      <td>856</td>\n",
       "      <td>...</td>\n",
       "      <td>5</td>\n",
       "      <td>0</td>\n",
       "      <td>0</td>\n",
       "      <td>0</td>\n",
       "      <td>0</td>\n",
       "      <td>0</td>\n",
       "      <td>0</td>\n",
       "      <td>3</td>\n",
       "      <td>11</td>\n",
       "      <td>0</td>\n",
       "    </tr>\n",
       "    <tr>\n",
       "      <th>...</th>\n",
       "      <td>...</td>\n",
       "      <td>...</td>\n",
       "      <td>...</td>\n",
       "      <td>...</td>\n",
       "      <td>...</td>\n",
       "      <td>...</td>\n",
       "      <td>...</td>\n",
       "      <td>...</td>\n",
       "      <td>...</td>\n",
       "      <td>...</td>\n",
       "      <td>...</td>\n",
       "      <td>...</td>\n",
       "      <td>...</td>\n",
       "      <td>...</td>\n",
       "      <td>...</td>\n",
       "      <td>...</td>\n",
       "      <td>...</td>\n",
       "      <td>...</td>\n",
       "      <td>...</td>\n",
       "      <td>...</td>\n",
       "      <td>...</td>\n",
       "    </tr>\n",
       "    <tr>\n",
       "      <th>2090</th>\n",
       "      <td>4865</td>\n",
       "      <td>1974</td>\n",
       "      <td>Master</td>\n",
       "      <td>Divorced</td>\n",
       "      <td>53367.0</td>\n",
       "      <td>1</td>\n",
       "      <td>1</td>\n",
       "      <td>2013-08-31</td>\n",
       "      <td>2</td>\n",
       "      <td>229</td>\n",
       "      <td>...</td>\n",
       "      <td>7</td>\n",
       "      <td>0</td>\n",
       "      <td>0</td>\n",
       "      <td>0</td>\n",
       "      <td>0</td>\n",
       "      <td>0</td>\n",
       "      <td>0</td>\n",
       "      <td>3</td>\n",
       "      <td>11</td>\n",
       "      <td>1</td>\n",
       "    </tr>\n",
       "    <tr>\n",
       "      <th>2144</th>\n",
       "      <td>5136</td>\n",
       "      <td>1973</td>\n",
       "      <td>Graduation</td>\n",
       "      <td>Single</td>\n",
       "      <td>65333.0</td>\n",
       "      <td>0</td>\n",
       "      <td>1</td>\n",
       "      <td>2014-01-17</td>\n",
       "      <td>58</td>\n",
       "      <td>654</td>\n",
       "      <td>...</td>\n",
       "      <td>6</td>\n",
       "      <td>0</td>\n",
       "      <td>1</td>\n",
       "      <td>1</td>\n",
       "      <td>0</td>\n",
       "      <td>0</td>\n",
       "      <td>0</td>\n",
       "      <td>3</td>\n",
       "      <td>11</td>\n",
       "      <td>0</td>\n",
       "    </tr>\n",
       "    <tr>\n",
       "      <th>2198</th>\n",
       "      <td>2632</td>\n",
       "      <td>1954</td>\n",
       "      <td>Graduation</td>\n",
       "      <td>Married</td>\n",
       "      <td>50501.0</td>\n",
       "      <td>1</td>\n",
       "      <td>1</td>\n",
       "      <td>2013-06-18</td>\n",
       "      <td>10</td>\n",
       "      <td>297</td>\n",
       "      <td>...</td>\n",
       "      <td>6</td>\n",
       "      <td>1</td>\n",
       "      <td>0</td>\n",
       "      <td>0</td>\n",
       "      <td>0</td>\n",
       "      <td>0</td>\n",
       "      <td>0</td>\n",
       "      <td>3</td>\n",
       "      <td>11</td>\n",
       "      <td>1</td>\n",
       "    </tr>\n",
       "    <tr>\n",
       "      <th>2226</th>\n",
       "      <td>4478</td>\n",
       "      <td>1979</td>\n",
       "      <td>Graduation</td>\n",
       "      <td>Married</td>\n",
       "      <td>63777.0</td>\n",
       "      <td>1</td>\n",
       "      <td>1</td>\n",
       "      <td>2013-03-24</td>\n",
       "      <td>87</td>\n",
       "      <td>457</td>\n",
       "      <td>...</td>\n",
       "      <td>8</td>\n",
       "      <td>0</td>\n",
       "      <td>0</td>\n",
       "      <td>0</td>\n",
       "      <td>0</td>\n",
       "      <td>0</td>\n",
       "      <td>0</td>\n",
       "      <td>3</td>\n",
       "      <td>11</td>\n",
       "      <td>0</td>\n",
       "    </tr>\n",
       "    <tr>\n",
       "      <th>2236</th>\n",
       "      <td>4001</td>\n",
       "      <td>1946</td>\n",
       "      <td>PhD</td>\n",
       "      <td>Together</td>\n",
       "      <td>64014.0</td>\n",
       "      <td>2</td>\n",
       "      <td>1</td>\n",
       "      <td>2014-06-10</td>\n",
       "      <td>56</td>\n",
       "      <td>406</td>\n",
       "      <td>...</td>\n",
       "      <td>7</td>\n",
       "      <td>0</td>\n",
       "      <td>0</td>\n",
       "      <td>0</td>\n",
       "      <td>1</td>\n",
       "      <td>0</td>\n",
       "      <td>0</td>\n",
       "      <td>3</td>\n",
       "      <td>11</td>\n",
       "      <td>0</td>\n",
       "    </tr>\n",
       "  </tbody>\n",
       "</table>\n",
       "<p>84 rows × 29 columns</p>\n",
       "</div>"
      ],
      "text/plain": [
       "        ID  birth_year   education marital_status   income  kids  teens  \\\n",
       "21    5376        1979  Graduation        Married   2447.0     1      0   \n",
       "24    1409        1951  Graduation       Together  40689.0     0      1   \n",
       "49    6566        1954         PhD        Married  72550.0     1      1   \n",
       "54    9381        1978  Graduation        Married  66373.0     1      1   \n",
       "69    1357        1970  Graduation       Together  74854.0     1      2   \n",
       "...    ...         ...         ...            ...      ...   ...    ...   \n",
       "2090  4865        1974      Master       Divorced  53367.0     1      1   \n",
       "2144  5136        1973  Graduation         Single  65333.0     0      1   \n",
       "2198  2632        1954  Graduation        Married  50501.0     1      1   \n",
       "2226  4478        1979  Graduation        Married  63777.0     1      1   \n",
       "2236  4001        1946         PhD       Together  64014.0     2      1   \n",
       "\n",
       "     enrollment_date  days_since_last_purchase  spent_on_wines  ...  \\\n",
       "21        2013-01-06                        42               1  ...   \n",
       "24        2013-03-18                        69             270  ...   \n",
       "49        2012-11-08                        39             826  ...   \n",
       "54        2013-06-12                        57             328  ...   \n",
       "69        2013-04-08                        90             856  ...   \n",
       "...              ...                       ...             ...  ...   \n",
       "2090      2013-08-31                         2             229  ...   \n",
       "2144      2014-01-17                        58             654  ...   \n",
       "2198      2013-06-18                        10             297  ...   \n",
       "2226      2013-03-24                        87             457  ...   \n",
       "2236      2014-06-10                        56             406  ...   \n",
       "\n",
       "      website_visit_last_month  campaign3  campaign4  campaign5  campaign1  \\\n",
       "21                           1          0          0          0          0   \n",
       "24                           8          0          0          0          0   \n",
       "49                           8          0          0          0          0   \n",
       "54                           3          0          0          0          0   \n",
       "69                           5          0          0          0          0   \n",
       "...                        ...        ...        ...        ...        ...   \n",
       "2090                         7          0          0          0          0   \n",
       "2144                         6          0          1          1          0   \n",
       "2198                         6          1          0          0          0   \n",
       "2226                         8          0          0          0          0   \n",
       "2236                         7          0          0          0          1   \n",
       "\n",
       "      campaign2  complain  Z_CostContact  Z_Revenue  last_campaign  \n",
       "21            0         0              3         11              0  \n",
       "24            0         0              3         11              0  \n",
       "49            0         0              3         11              0  \n",
       "54            0         0              3         11              0  \n",
       "69            0         0              3         11              0  \n",
       "...         ...       ...            ...        ...            ...  \n",
       "2090          0         0              3         11              1  \n",
       "2144          0         0              3         11              0  \n",
       "2198          0         0              3         11              1  \n",
       "2226          0         0              3         11              0  \n",
       "2236          0         0              3         11              0  \n",
       "\n",
       "[84 rows x 29 columns]"
      ]
     },
     "execution_count": 19,
     "metadata": {},
     "output_type": "execute_result"
    }
   ],
   "source": [
    "q1 = df_customer['purchases_with_discount'].quantile(.25)\n",
    "q3 = df_customer['purchases_with_discount'].quantile(.75)\n",
    "\n",
    "iqr = q3-q1\n",
    "\n",
    "outlier = df_customer[df_customer['purchases_with_discount'] > (q3 + 1.5 * iqr)]\n",
    "outlier"
   ]
  },
  {
   "cell_type": "markdown",
   "id": "844fe487",
   "metadata": {
    "papermill": {
     "duration": 0.023627,
     "end_time": "2023-10-12T09:38:10.569259",
     "exception": false,
     "start_time": "2023-10-12T09:38:10.545632",
     "status": "completed"
    },
    "tags": []
   },
   "source": [
    "Most people have made purchases with a discount between 1 to 6 times. However, there are 84 outliers who have made purchases with a discount 7 times or more."
   ]
  },
  {
   "cell_type": "code",
   "execution_count": 20,
   "id": "ce52e017",
   "metadata": {
    "execution": {
     "iopub.execute_input": "2023-10-12T09:38:10.615223Z",
     "iopub.status.busy": "2023-10-12T09:38:10.614514Z",
     "iopub.status.idle": "2023-10-12T09:38:11.215197Z",
     "shell.execute_reply": "2023-10-12T09:38:11.214054Z"
    },
    "papermill": {
     "duration": 0.623451,
     "end_time": "2023-10-12T09:38:11.217345",
     "exception": false,
     "start_time": "2023-10-12T09:38:10.593894",
     "status": "completed"
    },
    "tags": []
   },
   "outputs": [
    {
     "data": {
      "image/png": "[encoded data removed]",
      "text/plain": [
       "<Figure size 1000x400 with 2 Axes>"
      ]
     },
     "metadata": {},
     "output_type": "display_data"
    }
   ],
   "source": [
    "fig, axes = plt.subplots(1,2, figsize = (10,4))\n",
    "\n",
    "sns.histplot(df_customer['web_purchase'], color = 'lavender', ax = axes[0])\n",
    "axes[0].set_title('Distribution of web_purchase')\n",
    "\n",
    "sns.boxplot(df_customer['web_purchase'], color = 'lavender', ax = axes[1])\n",
    "axes[1].set_title('Outliers in `web_purchase` Variable')\n",
    "\n",
    "plt.tight_layout()"
   ]
  },
  {
   "cell_type": "code",
   "execution_count": 21,
   "id": "75088471",
   "metadata": {
    "execution": {
     "iopub.execute_input": "2023-10-12T09:38:11.257206Z",
     "iopub.status.busy": "2023-10-12T09:38:11.256865Z",
     "iopub.status.idle": "2023-10-12T09:38:11.276794Z",
     "shell.execute_reply": "2023-10-12T09:38:11.275883Z"
    },
    "papermill": {
     "duration": 0.042869,
     "end_time": "2023-10-12T09:38:11.279069",
     "exception": false,
     "start_time": "2023-10-12T09:38:11.236200",
     "status": "completed"
    },
    "tags": []
   },
   "outputs": [
    {
     "data": {
      "text/html": [
       "<div>\n",
       "<style scoped>\n",
       "    .dataframe tbody tr th:only-of-type {\n",
       "        vertical-align: middle;\n",
       "    }\n",
       "\n",
       "    .dataframe tbody tr th {\n",
       "        vertical-align: top;\n",
       "    }\n",
       "\n",
       "    .dataframe thead th {\n",
       "        text-align: right;\n",
       "    }\n",
       "</style>\n",
       "<table border=\"1\" class=\"dataframe\">\n",
       "  <thead>\n",
       "    <tr style=\"text-align: right;\">\n",
       "      <th></th>\n",
       "      <th>ID</th>\n",
       "      <th>birth_year</th>\n",
       "      <th>education</th>\n",
       "      <th>marital_status</th>\n",
       "      <th>income</th>\n",
       "      <th>kids</th>\n",
       "      <th>teens</th>\n",
       "      <th>enrollment_date</th>\n",
       "      <th>days_since_last_purchase</th>\n",
       "      <th>spent_on_wines</th>\n",
       "      <th>...</th>\n",
       "      <th>website_visit_last_month</th>\n",
       "      <th>campaign3</th>\n",
       "      <th>campaign4</th>\n",
       "      <th>campaign5</th>\n",
       "      <th>campaign1</th>\n",
       "      <th>campaign2</th>\n",
       "      <th>complain</th>\n",
       "      <th>Z_CostContact</th>\n",
       "      <th>Z_Revenue</th>\n",
       "      <th>last_campaign</th>\n",
       "    </tr>\n",
       "  </thead>\n",
       "  <tbody>\n",
       "    <tr>\n",
       "      <th>1806</th>\n",
       "      <td>6237</td>\n",
       "      <td>1966</td>\n",
       "      <td>PhD</td>\n",
       "      <td>Single</td>\n",
       "      <td>7144.0</td>\n",
       "      <td>0</td>\n",
       "      <td>2</td>\n",
       "      <td>2013-12-07</td>\n",
       "      <td>92</td>\n",
       "      <td>81</td>\n",
       "      <td>...</td>\n",
       "      <td>0</td>\n",
       "      <td>0</td>\n",
       "      <td>0</td>\n",
       "      <td>0</td>\n",
       "      <td>0</td>\n",
       "      <td>0</td>\n",
       "      <td>0</td>\n",
       "      <td>3</td>\n",
       "      <td>11</td>\n",
       "      <td>0</td>\n",
       "    </tr>\n",
       "    <tr>\n",
       "      <th>1898</th>\n",
       "      <td>4619</td>\n",
       "      <td>1945</td>\n",
       "      <td>PhD</td>\n",
       "      <td>Single</td>\n",
       "      <td>113734.0</td>\n",
       "      <td>0</td>\n",
       "      <td>0</td>\n",
       "      <td>2014-05-28</td>\n",
       "      <td>9</td>\n",
       "      <td>6</td>\n",
       "      <td>...</td>\n",
       "      <td>1</td>\n",
       "      <td>0</td>\n",
       "      <td>0</td>\n",
       "      <td>0</td>\n",
       "      <td>0</td>\n",
       "      <td>0</td>\n",
       "      <td>0</td>\n",
       "      <td>3</td>\n",
       "      <td>11</td>\n",
       "      <td>0</td>\n",
       "    </tr>\n",
       "    <tr>\n",
       "      <th>1975</th>\n",
       "      <td>10311</td>\n",
       "      <td>1969</td>\n",
       "      <td>Graduation</td>\n",
       "      <td>Married</td>\n",
       "      <td>4428.0</td>\n",
       "      <td>0</td>\n",
       "      <td>1</td>\n",
       "      <td>2013-10-05</td>\n",
       "      <td>0</td>\n",
       "      <td>16</td>\n",
       "      <td>...</td>\n",
       "      <td>1</td>\n",
       "      <td>0</td>\n",
       "      <td>0</td>\n",
       "      <td>0</td>\n",
       "      <td>0</td>\n",
       "      <td>0</td>\n",
       "      <td>0</td>\n",
       "      <td>3</td>\n",
       "      <td>11</td>\n",
       "      <td>0</td>\n",
       "    </tr>\n",
       "  </tbody>\n",
       "</table>\n",
       "<p>3 rows × 29 columns</p>\n",
       "</div>"
      ],
      "text/plain": [
       "         ID  birth_year   education marital_status    income  kids  teens  \\\n",
       "1806   6237        1966         PhD         Single    7144.0     0      2   \n",
       "1898   4619        1945         PhD         Single  113734.0     0      0   \n",
       "1975  10311        1969  Graduation        Married    4428.0     0      1   \n",
       "\n",
       "     enrollment_date  days_since_last_purchase  spent_on_wines  ...  \\\n",
       "1806      2013-12-07                        92              81  ...   \n",
       "1898      2014-05-28                         9               6  ...   \n",
       "1975      2013-10-05                         0              16  ...   \n",
       "\n",
       "      website_visit_last_month  campaign3  campaign4  campaign5  campaign1  \\\n",
       "1806                         0          0          0          0          0   \n",
       "1898                         1          0          0          0          0   \n",
       "1975                         1          0          0          0          0   \n",
       "\n",
       "      campaign2  complain  Z_CostContact  Z_Revenue  last_campaign  \n",
       "1806          0         0              3         11              0  \n",
       "1898          0         0              3         11              0  \n",
       "1975          0         0              3         11              0  \n",
       "\n",
       "[3 rows x 29 columns]"
      ]
     },
     "execution_count": 21,
     "metadata": {},
     "output_type": "execute_result"
    }
   ],
   "source": [
    "q1 = df_customer['web_purchase'].quantile(.25)\n",
    "q3 = df_customer['web_purchase'].quantile(.75)\n",
    "\n",
    "iqr = q3-q1\n",
    "\n",
    "outlier = df_customer[df_customer['web_purchase'] > (q3 + 1.5 * iqr)]\n",
    "outlier"
   ]
  },
  {
   "cell_type": "markdown",
   "id": "4f4bd220",
   "metadata": {
    "papermill": {
     "duration": 0.018944,
     "end_time": "2023-10-12T09:38:11.317455",
     "exception": false,
     "start_time": "2023-10-12T09:38:11.298511",
     "status": "completed"
    },
    "tags": []
   },
   "source": [
    "The majority of web purchases fall within the range of 0 to 12, with only 3 outliers."
   ]
  },
  {
   "cell_type": "code",
   "execution_count": 22,
   "id": "11fc132a",
   "metadata": {
    "execution": {
     "iopub.execute_input": "2023-10-12T09:38:11.357054Z",
     "iopub.status.busy": "2023-10-12T09:38:11.356386Z",
     "iopub.status.idle": "2023-10-12T09:38:11.927328Z",
     "shell.execute_reply": "2023-10-12T09:38:11.926393Z"
    },
    "papermill": {
     "duration": 0.593213,
     "end_time": "2023-10-12T09:38:11.929560",
     "exception": false,
     "start_time": "2023-10-12T09:38:11.336347",
     "status": "completed"
    },
    "tags": []
   },
   "outputs": [
    {
     "data": {
      "image/png": "[encoded data removed]",
      "text/plain": [
       "<Figure size 1000x400 with 2 Axes>"
      ]
     },
     "metadata": {},
     "output_type": "display_data"
    }
   ],
   "source": [
    "fig, axes = plt.subplots(1,2, figsize = (10,4))\n",
    "\n",
    "sns.histplot(df_customer['catalog_purchase'], color = 'lavender', ax = axes[0])\n",
    "axes[0].set_title('Distribution of Catalog Purchase')\n",
    "\n",
    "sns.boxplot(df_customer['catalog_purchase'], color = 'lavender', ax = axes[1])\n",
    "axes[1].set_title('Outliers in `catalog_purchase` Variable')\n",
    "\n",
    "plt.tight_layout()"
   ]
  },
  {
   "cell_type": "code",
   "execution_count": 23,
   "id": "45f627f1",
   "metadata": {
    "execution": {
     "iopub.execute_input": "2023-10-12T09:38:11.971284Z",
     "iopub.status.busy": "2023-10-12T09:38:11.970603Z",
     "iopub.status.idle": "2023-10-12T09:38:11.981764Z",
     "shell.execute_reply": "2023-10-12T09:38:11.980875Z"
    },
    "papermill": {
     "duration": 0.034136,
     "end_time": "2023-10-12T09:38:11.983785",
     "exception": false,
     "start_time": "2023-10-12T09:38:11.949649",
     "status": "completed"
    },
    "tags": []
   },
   "outputs": [
    {
     "data": {
      "text/plain": [
       "catalog_purchase\n",
       "11    19\n",
       "28     3\n",
       "22     1\n",
       "Name: count, dtype: int64"
      ]
     },
     "execution_count": 23,
     "metadata": {},
     "output_type": "execute_result"
    }
   ],
   "source": [
    "q1 = df_customer['catalog_purchase'].quantile(.25)\n",
    "q3 = df_customer['catalog_purchase'].quantile(.75)\n",
    "\n",
    "iqr = q3-q1\n",
    "\n",
    "outlier = df_customer[df_customer['catalog_purchase'] > (q3 + 1.5 * iqr)]\n",
    "\n",
    "outlier['catalog_purchase'].value_counts()"
   ]
  },
  {
   "cell_type": "markdown",
   "id": "3bc07a2a",
   "metadata": {
    "papermill": {
     "duration": 0.019644,
     "end_time": "2023-10-12T09:38:12.024574",
     "exception": false,
     "start_time": "2023-10-12T09:38:12.004930",
     "status": "completed"
    },
    "tags": []
   },
   "source": [
    "The majority of catalog purchases fall within the range of 0 to 10, with only 23 observations where the number of catalog purchases exceeds 10."
   ]
  },
  {
   "cell_type": "code",
   "execution_count": 24,
   "id": "96509eb1",
   "metadata": {
    "execution": {
     "iopub.execute_input": "2023-10-12T09:38:12.065487Z",
     "iopub.status.busy": "2023-10-12T09:38:12.064859Z",
     "iopub.status.idle": "2023-10-12T09:38:12.505216Z",
     "shell.execute_reply": "2023-10-12T09:38:12.504019Z"
    },
    "papermill": {
     "duration": 0.463328,
     "end_time": "2023-10-12T09:38:12.507525",
     "exception": false,
     "start_time": "2023-10-12T09:38:12.044197",
     "status": "completed"
    },
    "tags": []
   },
   "outputs": [
    {
     "data": {
      "image/png": "[encoded data removed]",
      "text/plain": [
       "<Figure size 1000x400 with 2 Axes>"
      ]
     },
     "metadata": {},
     "output_type": "display_data"
    }
   ],
   "source": [
    "fig, axes = plt.subplots(1,2, figsize = (10,4))\n",
    "\n",
    "sns.histplot(df_customer['store_purchase'], color = 'lavender', ax = axes[0])\n",
    "axes[0].set_title('Distribution of Store Purchase')\n",
    "\n",
    "sns.boxplot(df_customer['store_purchase'], color = 'lavender', ax = axes[1])\n",
    "axes[1].set_title('Outliers in `store_purchase` Variable')\n",
    "\n",
    "plt.tight_layout()"
   ]
  },
  {
   "cell_type": "markdown",
   "id": "026ca115",
   "metadata": {
    "papermill": {
     "duration": 0.019679,
     "end_time": "2023-10-12T09:38:12.547618",
     "exception": false,
     "start_time": "2023-10-12T09:38:12.527939",
     "status": "completed"
    },
    "tags": []
   },
   "source": [
    "The number of store purchases falls within the range of 0 to 13, and there are no outliers for this variable."
   ]
  },
  {
   "cell_type": "code",
   "execution_count": 25,
   "id": "dcdc85b0",
   "metadata": {
    "execution": {
     "iopub.execute_input": "2023-10-12T09:38:12.589473Z",
     "iopub.status.busy": "2023-10-12T09:38:12.589135Z",
     "iopub.status.idle": "2023-10-12T09:38:13.233388Z",
     "shell.execute_reply": "2023-10-12T09:38:13.232131Z"
    },
    "papermill": {
     "duration": 0.668062,
     "end_time": "2023-10-12T09:38:13.235914",
     "exception": false,
     "start_time": "2023-10-12T09:38:12.567852",
     "status": "completed"
    },
    "tags": []
   },
   "outputs": [
    {
     "data": {
      "image/png": "[encoded data removed]",
      "text/plain": [
       "<Figure size 1000x400 with 2 Axes>"
      ]
     },
     "metadata": {},
     "output_type": "display_data"
    }
   ],
   "source": [
    "fig, axes = plt.subplots(1,2, figsize = (10,4))\n",
    "\n",
    "sns.histplot(df_customer['website_visit_last_month'], color = 'lavender', ax = axes[0])\n",
    "axes[0].set_title('Distribution of Website Visit Last Month')\n",
    "\n",
    "sns.boxplot(df_customer['website_visit_last_month'], color = 'lavender', ax = axes[1])\n",
    "axes[1].set_title('Outliers in `website_visit_last_month` Variable')\n",
    "\n",
    "plt.tight_layout()"
   ]
  },
  {
   "cell_type": "code",
   "execution_count": 26,
   "id": "d680b5e7",
   "metadata": {
    "execution": {
     "iopub.execute_input": "2023-10-12T09:38:13.281203Z",
     "iopub.status.busy": "2023-10-12T09:38:13.280847Z",
     "iopub.status.idle": "2023-10-12T09:38:13.303071Z",
     "shell.execute_reply": "2023-10-12T09:38:13.302078Z"
    },
    "papermill": {
     "duration": 0.046333,
     "end_time": "2023-10-12T09:38:13.305168",
     "exception": false,
     "start_time": "2023-10-12T09:38:13.258835",
     "status": "completed"
    },
    "tags": []
   },
   "outputs": [
    {
     "data": {
      "text/html": [
       "<div>\n",
       "<style scoped>\n",
       "    .dataframe tbody tr th:only-of-type {\n",
       "        vertical-align: middle;\n",
       "    }\n",
       "\n",
       "    .dataframe tbody tr th {\n",
       "        vertical-align: top;\n",
       "    }\n",
       "\n",
       "    .dataframe thead th {\n",
       "        text-align: right;\n",
       "    }\n",
       "</style>\n",
       "<table border=\"1\" class=\"dataframe\">\n",
       "  <thead>\n",
       "    <tr style=\"text-align: right;\">\n",
       "      <th></th>\n",
       "      <th>ID</th>\n",
       "      <th>birth_year</th>\n",
       "      <th>education</th>\n",
       "      <th>marital_status</th>\n",
       "      <th>income</th>\n",
       "      <th>kids</th>\n",
       "      <th>teens</th>\n",
       "      <th>enrollment_date</th>\n",
       "      <th>days_since_last_purchase</th>\n",
       "      <th>spent_on_wines</th>\n",
       "      <th>...</th>\n",
       "      <th>website_visit_last_month</th>\n",
       "      <th>campaign3</th>\n",
       "      <th>campaign4</th>\n",
       "      <th>campaign5</th>\n",
       "      <th>campaign1</th>\n",
       "      <th>campaign2</th>\n",
       "      <th>complain</th>\n",
       "      <th>Z_CostContact</th>\n",
       "      <th>Z_Revenue</th>\n",
       "      <th>last_campaign</th>\n",
       "    </tr>\n",
       "  </thead>\n",
       "  <tbody>\n",
       "    <tr>\n",
       "      <th>9</th>\n",
       "      <td>5899</td>\n",
       "      <td>1950</td>\n",
       "      <td>PhD</td>\n",
       "      <td>Together</td>\n",
       "      <td>5648.0</td>\n",
       "      <td>1</td>\n",
       "      <td>1</td>\n",
       "      <td>2014-03-13</td>\n",
       "      <td>68</td>\n",
       "      <td>28</td>\n",
       "      <td>...</td>\n",
       "      <td>20</td>\n",
       "      <td>1</td>\n",
       "      <td>0</td>\n",
       "      <td>0</td>\n",
       "      <td>0</td>\n",
       "      <td>0</td>\n",
       "      <td>0</td>\n",
       "      <td>3</td>\n",
       "      <td>11</td>\n",
       "      <td>0</td>\n",
       "    </tr>\n",
       "    <tr>\n",
       "      <th>774</th>\n",
       "      <td>4303</td>\n",
       "      <td>1957</td>\n",
       "      <td>PhD</td>\n",
       "      <td>Together</td>\n",
       "      <td>6835.0</td>\n",
       "      <td>0</td>\n",
       "      <td>1</td>\n",
       "      <td>2012-12-08</td>\n",
       "      <td>76</td>\n",
       "      <td>107</td>\n",
       "      <td>...</td>\n",
       "      <td>20</td>\n",
       "      <td>0</td>\n",
       "      <td>0</td>\n",
       "      <td>0</td>\n",
       "      <td>0</td>\n",
       "      <td>0</td>\n",
       "      <td>0</td>\n",
       "      <td>3</td>\n",
       "      <td>11</td>\n",
       "      <td>0</td>\n",
       "    </tr>\n",
       "    <tr>\n",
       "      <th>981</th>\n",
       "      <td>3955</td>\n",
       "      <td>1965</td>\n",
       "      <td>Graduation</td>\n",
       "      <td>Divorced</td>\n",
       "      <td>4861.0</td>\n",
       "      <td>0</td>\n",
       "      <td>0</td>\n",
       "      <td>2014-06-22</td>\n",
       "      <td>20</td>\n",
       "      <td>2</td>\n",
       "      <td>...</td>\n",
       "      <td>14</td>\n",
       "      <td>0</td>\n",
       "      <td>0</td>\n",
       "      <td>0</td>\n",
       "      <td>0</td>\n",
       "      <td>0</td>\n",
       "      <td>0</td>\n",
       "      <td>3</td>\n",
       "      <td>11</td>\n",
       "      <td>0</td>\n",
       "    </tr>\n",
       "    <tr>\n",
       "      <th>1042</th>\n",
       "      <td>10749</td>\n",
       "      <td>1991</td>\n",
       "      <td>Graduation</td>\n",
       "      <td>Single</td>\n",
       "      <td>8028.0</td>\n",
       "      <td>0</td>\n",
       "      <td>0</td>\n",
       "      <td>2012-09-18</td>\n",
       "      <td>62</td>\n",
       "      <td>73</td>\n",
       "      <td>...</td>\n",
       "      <td>19</td>\n",
       "      <td>0</td>\n",
       "      <td>0</td>\n",
       "      <td>0</td>\n",
       "      <td>0</td>\n",
       "      <td>0</td>\n",
       "      <td>0</td>\n",
       "      <td>3</td>\n",
       "      <td>11</td>\n",
       "      <td>0</td>\n",
       "    </tr>\n",
       "    <tr>\n",
       "      <th>1245</th>\n",
       "      <td>6862</td>\n",
       "      <td>1971</td>\n",
       "      <td>Graduation</td>\n",
       "      <td>Divorced</td>\n",
       "      <td>1730.0</td>\n",
       "      <td>0</td>\n",
       "      <td>0</td>\n",
       "      <td>2014-05-18</td>\n",
       "      <td>65</td>\n",
       "      <td>1</td>\n",
       "      <td>...</td>\n",
       "      <td>20</td>\n",
       "      <td>0</td>\n",
       "      <td>0</td>\n",
       "      <td>0</td>\n",
       "      <td>0</td>\n",
       "      <td>0</td>\n",
       "      <td>0</td>\n",
       "      <td>3</td>\n",
       "      <td>11</td>\n",
       "      <td>0</td>\n",
       "    </tr>\n",
       "    <tr>\n",
       "      <th>1328</th>\n",
       "      <td>4246</td>\n",
       "      <td>1982</td>\n",
       "      <td>Master</td>\n",
       "      <td>Single</td>\n",
       "      <td>6560.0</td>\n",
       "      <td>0</td>\n",
       "      <td>0</td>\n",
       "      <td>2013-12-12</td>\n",
       "      <td>2</td>\n",
       "      <td>67</td>\n",
       "      <td>...</td>\n",
       "      <td>17</td>\n",
       "      <td>0</td>\n",
       "      <td>0</td>\n",
       "      <td>0</td>\n",
       "      <td>0</td>\n",
       "      <td>0</td>\n",
       "      <td>0</td>\n",
       "      <td>3</td>\n",
       "      <td>11</td>\n",
       "      <td>0</td>\n",
       "    </tr>\n",
       "    <tr>\n",
       "      <th>1524</th>\n",
       "      <td>11110</td>\n",
       "      <td>1973</td>\n",
       "      <td>Graduation</td>\n",
       "      <td>Single</td>\n",
       "      <td>3502.0</td>\n",
       "      <td>1</td>\n",
       "      <td>0</td>\n",
       "      <td>2013-04-13</td>\n",
       "      <td>56</td>\n",
       "      <td>2</td>\n",
       "      <td>...</td>\n",
       "      <td>14</td>\n",
       "      <td>0</td>\n",
       "      <td>0</td>\n",
       "      <td>0</td>\n",
       "      <td>0</td>\n",
       "      <td>0</td>\n",
       "      <td>0</td>\n",
       "      <td>3</td>\n",
       "      <td>11</td>\n",
       "      <td>0</td>\n",
       "    </tr>\n",
       "    <tr>\n",
       "      <th>1846</th>\n",
       "      <td>9931</td>\n",
       "      <td>1963</td>\n",
       "      <td>PhD</td>\n",
       "      <td>Married</td>\n",
       "      <td>4023.0</td>\n",
       "      <td>1</td>\n",
       "      <td>1</td>\n",
       "      <td>2014-06-23</td>\n",
       "      <td>29</td>\n",
       "      <td>5</td>\n",
       "      <td>...</td>\n",
       "      <td>19</td>\n",
       "      <td>0</td>\n",
       "      <td>0</td>\n",
       "      <td>0</td>\n",
       "      <td>0</td>\n",
       "      <td>0</td>\n",
       "      <td>0</td>\n",
       "      <td>3</td>\n",
       "      <td>11</td>\n",
       "      <td>0</td>\n",
       "    </tr>\n",
       "  </tbody>\n",
       "</table>\n",
       "<p>8 rows × 29 columns</p>\n",
       "</div>"
      ],
      "text/plain": [
       "         ID  birth_year   education marital_status  income  kids  teens  \\\n",
       "9      5899        1950         PhD       Together  5648.0     1      1   \n",
       "774    4303        1957         PhD       Together  6835.0     0      1   \n",
       "981    3955        1965  Graduation       Divorced  4861.0     0      0   \n",
       "1042  10749        1991  Graduation         Single  8028.0     0      0   \n",
       "1245   6862        1971  Graduation       Divorced  1730.0     0      0   \n",
       "1328   4246        1982      Master         Single  6560.0     0      0   \n",
       "1524  11110        1973  Graduation         Single  3502.0     1      0   \n",
       "1846   9931        1963         PhD        Married  4023.0     1      1   \n",
       "\n",
       "     enrollment_date  days_since_last_purchase  spent_on_wines  ...  \\\n",
       "9         2014-03-13                        68              28  ...   \n",
       "774       2012-12-08                        76             107  ...   \n",
       "981       2014-06-22                        20               2  ...   \n",
       "1042      2012-09-18                        62              73  ...   \n",
       "1245      2014-05-18                        65               1  ...   \n",
       "1328      2013-12-12                         2              67  ...   \n",
       "1524      2013-04-13                        56               2  ...   \n",
       "1846      2014-06-23                        29               5  ...   \n",
       "\n",
       "      website_visit_last_month  campaign3  campaign4  campaign5  campaign1  \\\n",
       "9                           20          1          0          0          0   \n",
       "774                         20          0          0          0          0   \n",
       "981                         14          0          0          0          0   \n",
       "1042                        19          0          0          0          0   \n",
       "1245                        20          0          0          0          0   \n",
       "1328                        17          0          0          0          0   \n",
       "1524                        14          0          0          0          0   \n",
       "1846                        19          0          0          0          0   \n",
       "\n",
       "      campaign2  complain  Z_CostContact  Z_Revenue  last_campaign  \n",
       "9             0         0              3         11              0  \n",
       "774           0         0              3         11              0  \n",
       "981           0         0              3         11              0  \n",
       "1042          0         0              3         11              0  \n",
       "1245          0         0              3         11              0  \n",
       "1328          0         0              3         11              0  \n",
       "1524          0         0              3         11              0  \n",
       "1846          0         0              3         11              0  \n",
       "\n",
       "[8 rows x 29 columns]"
      ]
     },
     "execution_count": 26,
     "metadata": {},
     "output_type": "execute_result"
    }
   ],
   "source": [
    "q1 = df_customer['website_visit_last_month'].quantile(.25)\n",
    "q3 = df_customer['website_visit_last_month'].quantile(.75)\n",
    "\n",
    "iqr = q3-q1\n",
    "\n",
    "outlier = df_customer[df_customer['website_visit_last_month'] > (q3 + 1.5 * iqr)]\n",
    "outlier"
   ]
  },
  {
   "cell_type": "markdown",
   "id": "eac160be",
   "metadata": {
    "papermill": {
     "duration": 0.020908,
     "end_time": "2023-10-12T09:38:13.347224",
     "exception": false,
     "start_time": "2023-10-12T09:38:13.326316",
     "status": "completed"
    },
    "tags": []
   },
   "source": [
    "The majority of website visits last month are in the range of 0 to 9, with 8 outlier observations having more than 16 visits on the website last month."
   ]
  },
  {
   "cell_type": "code",
   "execution_count": 27,
   "id": "4f9ac7c0",
   "metadata": {
    "execution": {
     "iopub.execute_input": "2023-10-12T09:38:13.391096Z",
     "iopub.status.busy": "2023-10-12T09:38:13.390751Z",
     "iopub.status.idle": "2023-10-12T09:38:14.002769Z",
     "shell.execute_reply": "2023-10-12T09:38:14.002104Z"
    },
    "papermill": {
     "duration": 0.637151,
     "end_time": "2023-10-12T09:38:14.005583",
     "exception": false,
     "start_time": "2023-10-12T09:38:13.368432",
     "status": "completed"
    },
    "tags": []
   },
   "outputs": [
    {
     "data": {
      "image/png": "[encoded data removed]",
      "text/plain": [
       "<Figure size 1000x400 with 2 Axes>"
      ]
     },
     "metadata": {},
     "output_type": "display_data"
    }
   ],
   "source": [
    "fig, axes = plt.subplots(1,2, figsize = (10,4))\n",
    "\n",
    "sns.histplot(df_customer['spent_on_wines'], color = 'lavender', ax = axes[0])\n",
    "axes[0].set_title('Distribution of Spent on Wines')\n",
    "\n",
    "sns.boxplot(df_customer['spent_on_wines'], color = 'lavender', ax = axes[1])\n",
    "axes[1].set_title('Outliers in `spent_on_wines` Variable')\n",
    "\n",
    "plt.tight_layout()"
   ]
  },
  {
   "cell_type": "code",
   "execution_count": 28,
   "id": "992cdbfa",
   "metadata": {
    "execution": {
     "iopub.execute_input": "2023-10-12T09:38:14.053447Z",
     "iopub.status.busy": "2023-10-12T09:38:14.052332Z",
     "iopub.status.idle": "2023-10-12T09:38:14.082694Z",
     "shell.execute_reply": "2023-10-12T09:38:14.081679Z"
    },
    "papermill": {
     "duration": 0.056952,
     "end_time": "2023-10-12T09:38:14.085060",
     "exception": false,
     "start_time": "2023-10-12T09:38:14.028108",
     "status": "completed"
    },
    "tags": []
   },
   "outputs": [
    {
     "data": {
      "text/html": [
       "<div>\n",
       "<style scoped>\n",
       "    .dataframe tbody tr th:only-of-type {\n",
       "        vertical-align: middle;\n",
       "    }\n",
       "\n",
       "    .dataframe tbody tr th {\n",
       "        vertical-align: top;\n",
       "    }\n",
       "\n",
       "    .dataframe thead th {\n",
       "        text-align: right;\n",
       "    }\n",
       "</style>\n",
       "<table border=\"1\" class=\"dataframe\">\n",
       "  <thead>\n",
       "    <tr style=\"text-align: right;\">\n",
       "      <th></th>\n",
       "      <th>ID</th>\n",
       "      <th>birth_year</th>\n",
       "      <th>education</th>\n",
       "      <th>marital_status</th>\n",
       "      <th>income</th>\n",
       "      <th>kids</th>\n",
       "      <th>teens</th>\n",
       "      <th>enrollment_date</th>\n",
       "      <th>days_since_last_purchase</th>\n",
       "      <th>spent_on_wines</th>\n",
       "      <th>...</th>\n",
       "      <th>website_visit_last_month</th>\n",
       "      <th>campaign3</th>\n",
       "      <th>campaign4</th>\n",
       "      <th>campaign5</th>\n",
       "      <th>campaign1</th>\n",
       "      <th>campaign2</th>\n",
       "      <th>complain</th>\n",
       "      <th>Z_CostContact</th>\n",
       "      <th>Z_Revenue</th>\n",
       "      <th>last_campaign</th>\n",
       "    </tr>\n",
       "  </thead>\n",
       "  <tbody>\n",
       "    <tr>\n",
       "      <th>111</th>\n",
       "      <td>7431</td>\n",
       "      <td>1991</td>\n",
       "      <td>PhD</td>\n",
       "      <td>Single</td>\n",
       "      <td>68126.0</td>\n",
       "      <td>0</td>\n",
       "      <td>0</td>\n",
       "      <td>2012-11-10</td>\n",
       "      <td>40</td>\n",
       "      <td>1332</td>\n",
       "      <td>...</td>\n",
       "      <td>9</td>\n",
       "      <td>0</td>\n",
       "      <td>1</td>\n",
       "      <td>0</td>\n",
       "      <td>0</td>\n",
       "      <td>0</td>\n",
       "      <td>0</td>\n",
       "      <td>3</td>\n",
       "      <td>11</td>\n",
       "      <td>1</td>\n",
       "    </tr>\n",
       "    <tr>\n",
       "      <th>161</th>\n",
       "      <td>9260</td>\n",
       "      <td>1945</td>\n",
       "      <td>PhD</td>\n",
       "      <td>Married</td>\n",
       "      <td>70356.0</td>\n",
       "      <td>0</td>\n",
       "      <td>0</td>\n",
       "      <td>2012-11-05</td>\n",
       "      <td>20</td>\n",
       "      <td>1349</td>\n",
       "      <td>...</td>\n",
       "      <td>6</td>\n",
       "      <td>0</td>\n",
       "      <td>0</td>\n",
       "      <td>0</td>\n",
       "      <td>0</td>\n",
       "      <td>0</td>\n",
       "      <td>0</td>\n",
       "      <td>3</td>\n",
       "      <td>11</td>\n",
       "      <td>0</td>\n",
       "    </tr>\n",
       "    <tr>\n",
       "      <th>295</th>\n",
       "      <td>2926</td>\n",
       "      <td>1952</td>\n",
       "      <td>Master</td>\n",
       "      <td>Together</td>\n",
       "      <td>55951.0</td>\n",
       "      <td>0</td>\n",
       "      <td>1</td>\n",
       "      <td>2012-08-23</td>\n",
       "      <td>62</td>\n",
       "      <td>1241</td>\n",
       "      <td>...</td>\n",
       "      <td>8</td>\n",
       "      <td>0</td>\n",
       "      <td>1</td>\n",
       "      <td>0</td>\n",
       "      <td>0</td>\n",
       "      <td>1</td>\n",
       "      <td>0</td>\n",
       "      <td>3</td>\n",
       "      <td>11</td>\n",
       "      <td>0</td>\n",
       "    </tr>\n",
       "    <tr>\n",
       "      <th>424</th>\n",
       "      <td>6932</td>\n",
       "      <td>1941</td>\n",
       "      <td>PhD</td>\n",
       "      <td>Married</td>\n",
       "      <td>93027.0</td>\n",
       "      <td>0</td>\n",
       "      <td>0</td>\n",
       "      <td>2013-04-13</td>\n",
       "      <td>77</td>\n",
       "      <td>1285</td>\n",
       "      <td>...</td>\n",
       "      <td>2</td>\n",
       "      <td>0</td>\n",
       "      <td>0</td>\n",
       "      <td>1</td>\n",
       "      <td>0</td>\n",
       "      <td>0</td>\n",
       "      <td>0</td>\n",
       "      <td>3</td>\n",
       "      <td>11</td>\n",
       "      <td>0</td>\n",
       "    </tr>\n",
       "    <tr>\n",
       "      <th>430</th>\n",
       "      <td>3725</td>\n",
       "      <td>1961</td>\n",
       "      <td>PhD</td>\n",
       "      <td>Single</td>\n",
       "      <td>84865.0</td>\n",
       "      <td>0</td>\n",
       "      <td>0</td>\n",
       "      <td>2013-05-09</td>\n",
       "      <td>1</td>\n",
       "      <td>1248</td>\n",
       "      <td>...</td>\n",
       "      <td>4</td>\n",
       "      <td>0</td>\n",
       "      <td>1</td>\n",
       "      <td>1</td>\n",
       "      <td>1</td>\n",
       "      <td>1</td>\n",
       "      <td>0</td>\n",
       "      <td>3</td>\n",
       "      <td>11</td>\n",
       "      <td>1</td>\n",
       "    </tr>\n",
       "    <tr>\n",
       "      <th>466</th>\n",
       "      <td>7999</td>\n",
       "      <td>1955</td>\n",
       "      <td>PhD</td>\n",
       "      <td>Together</td>\n",
       "      <td>75261.0</td>\n",
       "      <td>0</td>\n",
       "      <td>0</td>\n",
       "      <td>2013-04-23</td>\n",
       "      <td>17</td>\n",
       "      <td>1239</td>\n",
       "      <td>...</td>\n",
       "      <td>2</td>\n",
       "      <td>0</td>\n",
       "      <td>1</td>\n",
       "      <td>1</td>\n",
       "      <td>0</td>\n",
       "      <td>0</td>\n",
       "      <td>0</td>\n",
       "      <td>3</td>\n",
       "      <td>11</td>\n",
       "      <td>1</td>\n",
       "    </tr>\n",
       "    <tr>\n",
       "      <th>497</th>\n",
       "      <td>11088</td>\n",
       "      <td>1971</td>\n",
       "      <td>PhD</td>\n",
       "      <td>Together</td>\n",
       "      <td>78642.0</td>\n",
       "      <td>0</td>\n",
       "      <td>1</td>\n",
       "      <td>2013-04-21</td>\n",
       "      <td>83</td>\n",
       "      <td>1396</td>\n",
       "      <td>...</td>\n",
       "      <td>6</td>\n",
       "      <td>0</td>\n",
       "      <td>0</td>\n",
       "      <td>0</td>\n",
       "      <td>0</td>\n",
       "      <td>0</td>\n",
       "      <td>0</td>\n",
       "      <td>3</td>\n",
       "      <td>11</td>\n",
       "      <td>0</td>\n",
       "    </tr>\n",
       "    <tr>\n",
       "      <th>515</th>\n",
       "      <td>203</td>\n",
       "      <td>1975</td>\n",
       "      <td>Master</td>\n",
       "      <td>Single</td>\n",
       "      <td>81169.0</td>\n",
       "      <td>0</td>\n",
       "      <td>0</td>\n",
       "      <td>2013-04-14</td>\n",
       "      <td>47</td>\n",
       "      <td>1288</td>\n",
       "      <td>...</td>\n",
       "      <td>2</td>\n",
       "      <td>0</td>\n",
       "      <td>0</td>\n",
       "      <td>0</td>\n",
       "      <td>0</td>\n",
       "      <td>0</td>\n",
       "      <td>0</td>\n",
       "      <td>3</td>\n",
       "      <td>11</td>\n",
       "      <td>0</td>\n",
       "    </tr>\n",
       "    <tr>\n",
       "      <th>523</th>\n",
       "      <td>4943</td>\n",
       "      <td>1953</td>\n",
       "      <td>Graduation</td>\n",
       "      <td>Married</td>\n",
       "      <td>70503.0</td>\n",
       "      <td>0</td>\n",
       "      <td>0</td>\n",
       "      <td>2012-09-30</td>\n",
       "      <td>73</td>\n",
       "      <td>1379</td>\n",
       "      <td>...</td>\n",
       "      <td>6</td>\n",
       "      <td>0</td>\n",
       "      <td>1</td>\n",
       "      <td>1</td>\n",
       "      <td>0</td>\n",
       "      <td>0</td>\n",
       "      <td>0</td>\n",
       "      <td>3</td>\n",
       "      <td>11</td>\n",
       "      <td>0</td>\n",
       "    </tr>\n",
       "    <tr>\n",
       "      <th>543</th>\n",
       "      <td>5547</td>\n",
       "      <td>1982</td>\n",
       "      <td>PhD</td>\n",
       "      <td>Married</td>\n",
       "      <td>84169.0</td>\n",
       "      <td>0</td>\n",
       "      <td>0</td>\n",
       "      <td>2013-08-07</td>\n",
       "      <td>9</td>\n",
       "      <td>1478</td>\n",
       "      <td>...</td>\n",
       "      <td>3</td>\n",
       "      <td>0</td>\n",
       "      <td>1</td>\n",
       "      <td>1</td>\n",
       "      <td>0</td>\n",
       "      <td>0</td>\n",
       "      <td>0</td>\n",
       "      <td>3</td>\n",
       "      <td>11</td>\n",
       "      <td>1</td>\n",
       "    </tr>\n",
       "    <tr>\n",
       "      <th>559</th>\n",
       "      <td>3174</td>\n",
       "      <td>1959</td>\n",
       "      <td>Graduation</td>\n",
       "      <td>Together</td>\n",
       "      <td>87771.0</td>\n",
       "      <td>0</td>\n",
       "      <td>1</td>\n",
       "      <td>2013-05-22</td>\n",
       "      <td>61</td>\n",
       "      <td>1492</td>\n",
       "      <td>...</td>\n",
       "      <td>6</td>\n",
       "      <td>0</td>\n",
       "      <td>1</td>\n",
       "      <td>1</td>\n",
       "      <td>1</td>\n",
       "      <td>1</td>\n",
       "      <td>0</td>\n",
       "      <td>3</td>\n",
       "      <td>11</td>\n",
       "      <td>1</td>\n",
       "    </tr>\n",
       "    <tr>\n",
       "      <th>824</th>\n",
       "      <td>5536</td>\n",
       "      <td>1959</td>\n",
       "      <td>Graduation</td>\n",
       "      <td>Together</td>\n",
       "      <td>87771.0</td>\n",
       "      <td>0</td>\n",
       "      <td>1</td>\n",
       "      <td>2013-05-22</td>\n",
       "      <td>61</td>\n",
       "      <td>1492</td>\n",
       "      <td>...</td>\n",
       "      <td>6</td>\n",
       "      <td>0</td>\n",
       "      <td>1</td>\n",
       "      <td>1</td>\n",
       "      <td>1</td>\n",
       "      <td>1</td>\n",
       "      <td>0</td>\n",
       "      <td>3</td>\n",
       "      <td>11</td>\n",
       "      <td>1</td>\n",
       "    </tr>\n",
       "    <tr>\n",
       "      <th>826</th>\n",
       "      <td>9499</td>\n",
       "      <td>1954</td>\n",
       "      <td>Graduation</td>\n",
       "      <td>Married</td>\n",
       "      <td>93404.0</td>\n",
       "      <td>1</td>\n",
       "      <td>2</td>\n",
       "      <td>2013-05-07</td>\n",
       "      <td>97</td>\n",
       "      <td>1279</td>\n",
       "      <td>...</td>\n",
       "      <td>5</td>\n",
       "      <td>0</td>\n",
       "      <td>1</td>\n",
       "      <td>1</td>\n",
       "      <td>0</td>\n",
       "      <td>0</td>\n",
       "      <td>0</td>\n",
       "      <td>3</td>\n",
       "      <td>11</td>\n",
       "      <td>0</td>\n",
       "    </tr>\n",
       "    <tr>\n",
       "      <th>870</th>\n",
       "      <td>10140</td>\n",
       "      <td>1983</td>\n",
       "      <td>PhD</td>\n",
       "      <td>Together</td>\n",
       "      <td>70123.0</td>\n",
       "      <td>0</td>\n",
       "      <td>0</td>\n",
       "      <td>2013-09-28</td>\n",
       "      <td>27</td>\n",
       "      <td>1308</td>\n",
       "      <td>...</td>\n",
       "      <td>3</td>\n",
       "      <td>0</td>\n",
       "      <td>1</td>\n",
       "      <td>0</td>\n",
       "      <td>0</td>\n",
       "      <td>1</td>\n",
       "      <td>0</td>\n",
       "      <td>3</td>\n",
       "      <td>11</td>\n",
       "      <td>0</td>\n",
       "    </tr>\n",
       "    <tr>\n",
       "      <th>917</th>\n",
       "      <td>8362</td>\n",
       "      <td>1982</td>\n",
       "      <td>PhD</td>\n",
       "      <td>Married</td>\n",
       "      <td>84169.0</td>\n",
       "      <td>0</td>\n",
       "      <td>0</td>\n",
       "      <td>2013-08-07</td>\n",
       "      <td>9</td>\n",
       "      <td>1478</td>\n",
       "      <td>...</td>\n",
       "      <td>3</td>\n",
       "      <td>0</td>\n",
       "      <td>1</td>\n",
       "      <td>1</td>\n",
       "      <td>0</td>\n",
       "      <td>0</td>\n",
       "      <td>0</td>\n",
       "      <td>3</td>\n",
       "      <td>11</td>\n",
       "      <td>1</td>\n",
       "    </tr>\n",
       "    <tr>\n",
       "      <th>937</th>\n",
       "      <td>1204</td>\n",
       "      <td>1970</td>\n",
       "      <td>PhD</td>\n",
       "      <td>Married</td>\n",
       "      <td>67536.0</td>\n",
       "      <td>0</td>\n",
       "      <td>1</td>\n",
       "      <td>2013-05-22</td>\n",
       "      <td>45</td>\n",
       "      <td>1253</td>\n",
       "      <td>...</td>\n",
       "      <td>8</td>\n",
       "      <td>0</td>\n",
       "      <td>0</td>\n",
       "      <td>0</td>\n",
       "      <td>1</td>\n",
       "      <td>0</td>\n",
       "      <td>0</td>\n",
       "      <td>3</td>\n",
       "      <td>11</td>\n",
       "      <td>0</td>\n",
       "    </tr>\n",
       "    <tr>\n",
       "      <th>987</th>\n",
       "      <td>4580</td>\n",
       "      <td>1969</td>\n",
       "      <td>Graduation</td>\n",
       "      <td>Married</td>\n",
       "      <td>75759.0</td>\n",
       "      <td>0</td>\n",
       "      <td>0</td>\n",
       "      <td>2013-10-25</td>\n",
       "      <td>46</td>\n",
       "      <td>1394</td>\n",
       "      <td>...</td>\n",
       "      <td>5</td>\n",
       "      <td>1</td>\n",
       "      <td>0</td>\n",
       "      <td>1</td>\n",
       "      <td>1</td>\n",
       "      <td>0</td>\n",
       "      <td>0</td>\n",
       "      <td>3</td>\n",
       "      <td>11</td>\n",
       "      <td>1</td>\n",
       "    </tr>\n",
       "    <tr>\n",
       "      <th>990</th>\n",
       "      <td>8545</td>\n",
       "      <td>1954</td>\n",
       "      <td>Graduation</td>\n",
       "      <td>Divorced</td>\n",
       "      <td>85683.0</td>\n",
       "      <td>0</td>\n",
       "      <td>0</td>\n",
       "      <td>2014-03-21</td>\n",
       "      <td>6</td>\n",
       "      <td>1296</td>\n",
       "      <td>...</td>\n",
       "      <td>1</td>\n",
       "      <td>0</td>\n",
       "      <td>1</td>\n",
       "      <td>1</td>\n",
       "      <td>1</td>\n",
       "      <td>1</td>\n",
       "      <td>0</td>\n",
       "      <td>3</td>\n",
       "      <td>11</td>\n",
       "      <td>1</td>\n",
       "    </tr>\n",
       "    <tr>\n",
       "      <th>1001</th>\n",
       "      <td>7962</td>\n",
       "      <td>1987</td>\n",
       "      <td>PhD</td>\n",
       "      <td>Single</td>\n",
       "      <td>95169.0</td>\n",
       "      <td>0</td>\n",
       "      <td>0</td>\n",
       "      <td>2013-10-09</td>\n",
       "      <td>1</td>\n",
       "      <td>1285</td>\n",
       "      <td>...</td>\n",
       "      <td>1</td>\n",
       "      <td>0</td>\n",
       "      <td>0</td>\n",
       "      <td>1</td>\n",
       "      <td>1</td>\n",
       "      <td>0</td>\n",
       "      <td>0</td>\n",
       "      <td>3</td>\n",
       "      <td>11</td>\n",
       "      <td>1</td>\n",
       "    </tr>\n",
       "    <tr>\n",
       "      <th>1010</th>\n",
       "      <td>5236</td>\n",
       "      <td>1979</td>\n",
       "      <td>Graduation</td>\n",
       "      <td>Together</td>\n",
       "      <td>77568.0</td>\n",
       "      <td>0</td>\n",
       "      <td>1</td>\n",
       "      <td>2012-08-25</td>\n",
       "      <td>30</td>\n",
       "      <td>1230</td>\n",
       "      <td>...</td>\n",
       "      <td>5</td>\n",
       "      <td>0</td>\n",
       "      <td>1</td>\n",
       "      <td>1</td>\n",
       "      <td>1</td>\n",
       "      <td>0</td>\n",
       "      <td>0</td>\n",
       "      <td>3</td>\n",
       "      <td>11</td>\n",
       "      <td>0</td>\n",
       "    </tr>\n",
       "    <tr>\n",
       "      <th>1052</th>\n",
       "      <td>4475</td>\n",
       "      <td>1949</td>\n",
       "      <td>PhD</td>\n",
       "      <td>Married</td>\n",
       "      <td>69098.0</td>\n",
       "      <td>0</td>\n",
       "      <td>0</td>\n",
       "      <td>2013-02-16</td>\n",
       "      <td>82</td>\n",
       "      <td>1315</td>\n",
       "      <td>...</td>\n",
       "      <td>5</td>\n",
       "      <td>0</td>\n",
       "      <td>0</td>\n",
       "      <td>0</td>\n",
       "      <td>0</td>\n",
       "      <td>0</td>\n",
       "      <td>0</td>\n",
       "      <td>3</td>\n",
       "      <td>11</td>\n",
       "      <td>0</td>\n",
       "    </tr>\n",
       "    <tr>\n",
       "      <th>1191</th>\n",
       "      <td>8732</td>\n",
       "      <td>1969</td>\n",
       "      <td>Master</td>\n",
       "      <td>Widow</td>\n",
       "      <td>67369.0</td>\n",
       "      <td>0</td>\n",
       "      <td>1</td>\n",
       "      <td>2012-11-17</td>\n",
       "      <td>81</td>\n",
       "      <td>1298</td>\n",
       "      <td>...</td>\n",
       "      <td>4</td>\n",
       "      <td>0</td>\n",
       "      <td>1</td>\n",
       "      <td>1</td>\n",
       "      <td>0</td>\n",
       "      <td>0</td>\n",
       "      <td>0</td>\n",
       "      <td>3</td>\n",
       "      <td>11</td>\n",
       "      <td>1</td>\n",
       "    </tr>\n",
       "    <tr>\n",
       "      <th>1458</th>\n",
       "      <td>10133</td>\n",
       "      <td>1970</td>\n",
       "      <td>Graduation</td>\n",
       "      <td>Single</td>\n",
       "      <td>93790.0</td>\n",
       "      <td>0</td>\n",
       "      <td>0</td>\n",
       "      <td>2014-02-12</td>\n",
       "      <td>16</td>\n",
       "      <td>1302</td>\n",
       "      <td>...</td>\n",
       "      <td>2</td>\n",
       "      <td>0</td>\n",
       "      <td>1</td>\n",
       "      <td>1</td>\n",
       "      <td>1</td>\n",
       "      <td>0</td>\n",
       "      <td>0</td>\n",
       "      <td>3</td>\n",
       "      <td>11</td>\n",
       "      <td>1</td>\n",
       "    </tr>\n",
       "    <tr>\n",
       "      <th>1488</th>\n",
       "      <td>9743</td>\n",
       "      <td>1955</td>\n",
       "      <td>Graduation</td>\n",
       "      <td>Married</td>\n",
       "      <td>76998.0</td>\n",
       "      <td>0</td>\n",
       "      <td>1</td>\n",
       "      <td>2013-01-11</td>\n",
       "      <td>85</td>\n",
       "      <td>1449</td>\n",
       "      <td>...</td>\n",
       "      <td>6</td>\n",
       "      <td>0</td>\n",
       "      <td>0</td>\n",
       "      <td>1</td>\n",
       "      <td>0</td>\n",
       "      <td>0</td>\n",
       "      <td>0</td>\n",
       "      <td>3</td>\n",
       "      <td>11</td>\n",
       "      <td>0</td>\n",
       "    </tr>\n",
       "    <tr>\n",
       "      <th>1492</th>\n",
       "      <td>1763</td>\n",
       "      <td>1988</td>\n",
       "      <td>Graduation</td>\n",
       "      <td>Together</td>\n",
       "      <td>87679.0</td>\n",
       "      <td>0</td>\n",
       "      <td>0</td>\n",
       "      <td>2013-07-27</td>\n",
       "      <td>62</td>\n",
       "      <td>1259</td>\n",
       "      <td>...</td>\n",
       "      <td>4</td>\n",
       "      <td>1</td>\n",
       "      <td>0</td>\n",
       "      <td>1</td>\n",
       "      <td>1</td>\n",
       "      <td>0</td>\n",
       "      <td>0</td>\n",
       "      <td>3</td>\n",
       "      <td>11</td>\n",
       "      <td>1</td>\n",
       "    </tr>\n",
       "    <tr>\n",
       "      <th>1577</th>\n",
       "      <td>9298</td>\n",
       "      <td>1947</td>\n",
       "      <td>PhD</td>\n",
       "      <td>Together</td>\n",
       "      <td>81574.0</td>\n",
       "      <td>0</td>\n",
       "      <td>0</td>\n",
       "      <td>2014-04-28</td>\n",
       "      <td>89</td>\n",
       "      <td>1252</td>\n",
       "      <td>...</td>\n",
       "      <td>1</td>\n",
       "      <td>0</td>\n",
       "      <td>1</td>\n",
       "      <td>1</td>\n",
       "      <td>0</td>\n",
       "      <td>0</td>\n",
       "      <td>0</td>\n",
       "      <td>3</td>\n",
       "      <td>11</td>\n",
       "      <td>0</td>\n",
       "    </tr>\n",
       "    <tr>\n",
       "      <th>1641</th>\n",
       "      <td>1665</td>\n",
       "      <td>1964</td>\n",
       "      <td>PhD</td>\n",
       "      <td>Divorced</td>\n",
       "      <td>64140.0</td>\n",
       "      <td>0</td>\n",
       "      <td>2</td>\n",
       "      <td>2013-09-23</td>\n",
       "      <td>71</td>\n",
       "      <td>1459</td>\n",
       "      <td>...</td>\n",
       "      <td>5</td>\n",
       "      <td>1</td>\n",
       "      <td>0</td>\n",
       "      <td>1</td>\n",
       "      <td>0</td>\n",
       "      <td>1</td>\n",
       "      <td>0</td>\n",
       "      <td>3</td>\n",
       "      <td>11</td>\n",
       "      <td>1</td>\n",
       "    </tr>\n",
       "    <tr>\n",
       "      <th>1749</th>\n",
       "      <td>737</td>\n",
       "      <td>1949</td>\n",
       "      <td>PhD</td>\n",
       "      <td>Married</td>\n",
       "      <td>80360.0</td>\n",
       "      <td>0</td>\n",
       "      <td>0</td>\n",
       "      <td>2013-03-03</td>\n",
       "      <td>56</td>\n",
       "      <td>1493</td>\n",
       "      <td>...</td>\n",
       "      <td>2</td>\n",
       "      <td>0</td>\n",
       "      <td>1</td>\n",
       "      <td>1</td>\n",
       "      <td>1</td>\n",
       "      <td>0</td>\n",
       "      <td>0</td>\n",
       "      <td>3</td>\n",
       "      <td>11</td>\n",
       "      <td>0</td>\n",
       "    </tr>\n",
       "    <tr>\n",
       "      <th>1922</th>\n",
       "      <td>3138</td>\n",
       "      <td>1956</td>\n",
       "      <td>Graduation</td>\n",
       "      <td>Single</td>\n",
       "      <td>91249.0</td>\n",
       "      <td>0</td>\n",
       "      <td>0</td>\n",
       "      <td>2012-10-20</td>\n",
       "      <td>84</td>\n",
       "      <td>1324</td>\n",
       "      <td>...</td>\n",
       "      <td>4</td>\n",
       "      <td>0</td>\n",
       "      <td>1</td>\n",
       "      <td>1</td>\n",
       "      <td>1</td>\n",
       "      <td>1</td>\n",
       "      <td>0</td>\n",
       "      <td>3</td>\n",
       "      <td>11</td>\n",
       "      <td>1</td>\n",
       "    </tr>\n",
       "    <tr>\n",
       "      <th>1953</th>\n",
       "      <td>7919</td>\n",
       "      <td>1976</td>\n",
       "      <td>PhD</td>\n",
       "      <td>Together</td>\n",
       "      <td>72335.0</td>\n",
       "      <td>0</td>\n",
       "      <td>0</td>\n",
       "      <td>2012-08-13</td>\n",
       "      <td>2</td>\n",
       "      <td>1285</td>\n",
       "      <td>...</td>\n",
       "      <td>8</td>\n",
       "      <td>0</td>\n",
       "      <td>0</td>\n",
       "      <td>0</td>\n",
       "      <td>0</td>\n",
       "      <td>0</td>\n",
       "      <td>0</td>\n",
       "      <td>3</td>\n",
       "      <td>11</td>\n",
       "      <td>1</td>\n",
       "    </tr>\n",
       "    <tr>\n",
       "      <th>1961</th>\n",
       "      <td>3009</td>\n",
       "      <td>1962</td>\n",
       "      <td>PhD</td>\n",
       "      <td>Widow</td>\n",
       "      <td>71670.0</td>\n",
       "      <td>0</td>\n",
       "      <td>0</td>\n",
       "      <td>2013-07-09</td>\n",
       "      <td>8</td>\n",
       "      <td>1462</td>\n",
       "      <td>...</td>\n",
       "      <td>6</td>\n",
       "      <td>0</td>\n",
       "      <td>1</td>\n",
       "      <td>1</td>\n",
       "      <td>0</td>\n",
       "      <td>1</td>\n",
       "      <td>0</td>\n",
       "      <td>3</td>\n",
       "      <td>11</td>\n",
       "      <td>1</td>\n",
       "    </tr>\n",
       "    <tr>\n",
       "      <th>1992</th>\n",
       "      <td>6248</td>\n",
       "      <td>1947</td>\n",
       "      <td>Master</td>\n",
       "      <td>Single</td>\n",
       "      <td>91712.0</td>\n",
       "      <td>0</td>\n",
       "      <td>0</td>\n",
       "      <td>2013-10-17</td>\n",
       "      <td>47</td>\n",
       "      <td>1276</td>\n",
       "      <td>...</td>\n",
       "      <td>3</td>\n",
       "      <td>0</td>\n",
       "      <td>0</td>\n",
       "      <td>1</td>\n",
       "      <td>0</td>\n",
       "      <td>0</td>\n",
       "      <td>0</td>\n",
       "      <td>3</td>\n",
       "      <td>11</td>\n",
       "      <td>1</td>\n",
       "    </tr>\n",
       "    <tr>\n",
       "      <th>2067</th>\n",
       "      <td>7899</td>\n",
       "      <td>1952</td>\n",
       "      <td>PhD</td>\n",
       "      <td>Married</td>\n",
       "      <td>77610.0</td>\n",
       "      <td>0</td>\n",
       "      <td>1</td>\n",
       "      <td>2012-10-29</td>\n",
       "      <td>70</td>\n",
       "      <td>1245</td>\n",
       "      <td>...</td>\n",
       "      <td>7</td>\n",
       "      <td>0</td>\n",
       "      <td>0</td>\n",
       "      <td>0</td>\n",
       "      <td>0</td>\n",
       "      <td>0</td>\n",
       "      <td>0</td>\n",
       "      <td>3</td>\n",
       "      <td>11</td>\n",
       "      <td>0</td>\n",
       "    </tr>\n",
       "    <tr>\n",
       "      <th>2098</th>\n",
       "      <td>1103</td>\n",
       "      <td>1976</td>\n",
       "      <td>Master</td>\n",
       "      <td>Married</td>\n",
       "      <td>81929.0</td>\n",
       "      <td>1</td>\n",
       "      <td>0</td>\n",
       "      <td>2012-09-29</td>\n",
       "      <td>60</td>\n",
       "      <td>1486</td>\n",
       "      <td>...</td>\n",
       "      <td>6</td>\n",
       "      <td>1</td>\n",
       "      <td>0</td>\n",
       "      <td>1</td>\n",
       "      <td>0</td>\n",
       "      <td>0</td>\n",
       "      <td>0</td>\n",
       "      <td>3</td>\n",
       "      <td>11</td>\n",
       "      <td>1</td>\n",
       "    </tr>\n",
       "    <tr>\n",
       "      <th>2127</th>\n",
       "      <td>6292</td>\n",
       "      <td>1986</td>\n",
       "      <td>PhD</td>\n",
       "      <td>Married</td>\n",
       "      <td>82333.0</td>\n",
       "      <td>0</td>\n",
       "      <td>0</td>\n",
       "      <td>2013-03-30</td>\n",
       "      <td>60</td>\n",
       "      <td>1311</td>\n",
       "      <td>...</td>\n",
       "      <td>2</td>\n",
       "      <td>0</td>\n",
       "      <td>0</td>\n",
       "      <td>1</td>\n",
       "      <td>0</td>\n",
       "      <td>0</td>\n",
       "      <td>0</td>\n",
       "      <td>3</td>\n",
       "      <td>11</td>\n",
       "      <td>1</td>\n",
       "    </tr>\n",
       "  </tbody>\n",
       "</table>\n",
       "<p>35 rows × 29 columns</p>\n",
       "</div>"
      ],
      "text/plain": [
       "         ID  birth_year   education marital_status   income  kids  teens  \\\n",
       "111    7431        1991         PhD         Single  68126.0     0      0   \n",
       "161    9260        1945         PhD        Married  70356.0     0      0   \n",
       "295    2926        1952      Master       Together  55951.0     0      1   \n",
       "424    6932        1941         PhD        Married  93027.0     0      0   \n",
       "430    3725        1961         PhD         Single  84865.0     0      0   \n",
       "466    7999        1955         PhD       Together  75261.0     0      0   \n",
       "497   11088        1971         PhD       Together  78642.0     0      1   \n",
       "515     203        1975      Master         Single  81169.0     0      0   \n",
       "523    4943        1953  Graduation        Married  70503.0     0      0   \n",
       "543    5547        1982         PhD        Married  84169.0     0      0   \n",
       "559    3174        1959  Graduation       Together  87771.0     0      1   \n",
       "824    5536        1959  Graduation       Together  87771.0     0      1   \n",
       "826    9499        1954  Graduation        Married  93404.0     1      2   \n",
       "870   10140        1983         PhD       Together  70123.0     0      0   \n",
       "917    8362        1982         PhD        Married  84169.0     0      0   \n",
       "937    1204        1970         PhD        Married  67536.0     0      1   \n",
       "987    4580        1969  Graduation        Married  75759.0     0      0   \n",
       "990    8545        1954  Graduation       Divorced  85683.0     0      0   \n",
       "1001   7962        1987         PhD         Single  95169.0     0      0   \n",
       "1010   5236        1979  Graduation       Together  77568.0     0      1   \n",
       "1052   4475        1949         PhD        Married  69098.0     0      0   \n",
       "1191   8732        1969      Master          Widow  67369.0     0      1   \n",
       "1458  10133        1970  Graduation         Single  93790.0     0      0   \n",
       "1488   9743        1955  Graduation        Married  76998.0     0      1   \n",
       "1492   1763        1988  Graduation       Together  87679.0     0      0   \n",
       "1577   9298        1947         PhD       Together  81574.0     0      0   \n",
       "1641   1665        1964         PhD       Divorced  64140.0     0      2   \n",
       "1749    737        1949         PhD        Married  80360.0     0      0   \n",
       "1922   3138        1956  Graduation         Single  91249.0     0      0   \n",
       "1953   7919        1976         PhD       Together  72335.0     0      0   \n",
       "1961   3009        1962         PhD          Widow  71670.0     0      0   \n",
       "1992   6248        1947      Master         Single  91712.0     0      0   \n",
       "2067   7899        1952         PhD        Married  77610.0     0      1   \n",
       "2098   1103        1976      Master        Married  81929.0     1      0   \n",
       "2127   6292        1986         PhD        Married  82333.0     0      0   \n",
       "\n",
       "     enrollment_date  days_since_last_purchase  spent_on_wines  ...  \\\n",
       "111       2012-11-10                        40            1332  ...   \n",
       "161       2012-11-05                        20            1349  ...   \n",
       "295       2012-08-23                        62            1241  ...   \n",
       "424       2013-04-13                        77            1285  ...   \n",
       "430       2013-05-09                         1            1248  ...   \n",
       "466       2013-04-23                        17            1239  ...   \n",
       "497       2013-04-21                        83            1396  ...   \n",
       "515       2013-04-14                        47            1288  ...   \n",
       "523       2012-09-30                        73            1379  ...   \n",
       "543       2013-08-07                         9            1478  ...   \n",
       "559       2013-05-22                        61            1492  ...   \n",
       "824       2013-05-22                        61            1492  ...   \n",
       "826       2013-05-07                        97            1279  ...   \n",
       "870       2013-09-28                        27            1308  ...   \n",
       "917       2013-08-07                         9            1478  ...   \n",
       "937       2013-05-22                        45            1253  ...   \n",
       "987       2013-10-25                        46            1394  ...   \n",
       "990       2014-03-21                         6            1296  ...   \n",
       "1001      2013-10-09                         1            1285  ...   \n",
       "1010      2012-08-25                        30            1230  ...   \n",
       "1052      2013-02-16                        82            1315  ...   \n",
       "1191      2012-11-17                        81            1298  ...   \n",
       "1458      2014-02-12                        16            1302  ...   \n",
       "1488      2013-01-11                        85            1449  ...   \n",
       "1492      2013-07-27                        62            1259  ...   \n",
       "1577      2014-04-28                        89            1252  ...   \n",
       "1641      2013-09-23                        71            1459  ...   \n",
       "1749      2013-03-03                        56            1493  ...   \n",
       "1922      2012-10-20                        84            1324  ...   \n",
       "1953      2012-08-13                         2            1285  ...   \n",
       "1961      2013-07-09                         8            1462  ...   \n",
       "1992      2013-10-17                        47            1276  ...   \n",
       "2067      2012-10-29                        70            1245  ...   \n",
       "2098      2012-09-29                        60            1486  ...   \n",
       "2127      2013-03-30                        60            1311  ...   \n",
       "\n",
       "      website_visit_last_month  campaign3  campaign4  campaign5  campaign1  \\\n",
       "111                          9          0          1          0          0   \n",
       "161                          6          0          0          0          0   \n",
       "295                          8          0          1          0          0   \n",
       "424                          2          0          0          1          0   \n",
       "430                          4          0          1          1          1   \n",
       "466                          2          0          1          1          0   \n",
       "497                          6          0          0          0          0   \n",
       "515                          2          0          0          0          0   \n",
       "523                          6          0          1          1          0   \n",
       "543                          3          0          1          1          0   \n",
       "559                          6          0          1          1          1   \n",
       "824                          6          0          1          1          1   \n",
       "826                          5          0          1          1          0   \n",
       "870                          3          0          1          0          0   \n",
       "917                          3          0          1          1          0   \n",
       "937                          8          0          0          0          1   \n",
       "987                          5          1          0          1          1   \n",
       "990                          1          0          1          1          1   \n",
       "1001                         1          0          0          1          1   \n",
       "1010                         5          0          1          1          1   \n",
       "1052                         5          0          0          0          0   \n",
       "1191                         4          0          1          1          0   \n",
       "1458                         2          0          1          1          1   \n",
       "1488                         6          0          0          1          0   \n",
       "1492                         4          1          0          1          1   \n",
       "1577                         1          0          1          1          0   \n",
       "1641                         5          1          0          1          0   \n",
       "1749                         2          0          1          1          1   \n",
       "1922                         4          0          1          1          1   \n",
       "1953                         8          0          0          0          0   \n",
       "1961                         6          0          1          1          0   \n",
       "1992                         3          0          0          1          0   \n",
       "2067                         7          0          0          0          0   \n",
       "2098                         6          1          0          1          0   \n",
       "2127                         2          0          0          1          0   \n",
       "\n",
       "      campaign2  complain  Z_CostContact  Z_Revenue  last_campaign  \n",
       "111           0         0              3         11              1  \n",
       "161           0         0              3         11              0  \n",
       "295           1         0              3         11              0  \n",
       "424           0         0              3         11              0  \n",
       "430           1         0              3         11              1  \n",
       "466           0         0              3         11              1  \n",
       "497           0         0              3         11              0  \n",
       "515           0         0              3         11              0  \n",
       "523           0         0              3         11              0  \n",
       "543           0         0              3         11              1  \n",
       "559           1         0              3         11              1  \n",
       "824           1         0              3         11              1  \n",
       "826           0         0              3         11              0  \n",
       "870           1         0              3         11              0  \n",
       "917           0         0              3         11              1  \n",
       "937           0         0              3         11              0  \n",
       "987           0         0              3         11              1  \n",
       "990           1         0              3         11              1  \n",
       "1001          0         0              3         11              1  \n",
       "1010          0         0              3         11              0  \n",
       "1052          0         0              3         11              0  \n",
       "1191          0         0              3         11              1  \n",
       "1458          0         0              3         11              1  \n",
       "1488          0         0              3         11              0  \n",
       "1492          0         0              3         11              1  \n",
       "1577          0         0              3         11              0  \n",
       "1641          1         0              3         11              1  \n",
       "1749          0         0              3         11              0  \n",
       "1922          1         0              3         11              1  \n",
       "1953          0         0              3         11              1  \n",
       "1961          1         0              3         11              1  \n",
       "1992          0         0              3         11              1  \n",
       "2067          0         0              3         11              0  \n",
       "2098          0         0              3         11              1  \n",
       "2127          0         0              3         11              1  \n",
       "\n",
       "[35 rows x 29 columns]"
      ]
     },
     "execution_count": 28,
     "metadata": {},
     "output_type": "execute_result"
    }
   ],
   "source": [
    "q1 = df_customer['spent_on_wines'].quantile(.25)\n",
    "q3 = df_customer['spent_on_wines'].quantile(.75)\n",
    "\n",
    "iqr = q3-q1\n",
    "\n",
    "outlier = df_customer[df_customer['spent_on_wines'] > (q3 + 1.5 * iqr)]\n",
    "outlier"
   ]
  },
  {
   "cell_type": "markdown",
   "id": "07fc2af5",
   "metadata": {
    "papermill": {
     "duration": 0.022828,
     "end_time": "2023-10-12T09:38:14.130985",
     "exception": false,
     "start_time": "2023-10-12T09:38:14.108157",
     "status": "completed"
    },
    "tags": []
   },
   "source": [
    "The data is highly skewed to the right, indicating that the majority of people either don't drink wine or prefer to purchase it from other sources. Only 35 customers have spent more than $1000 on wine."
   ]
  },
  {
   "cell_type": "code",
   "execution_count": 29,
   "id": "23190cbf",
   "metadata": {
    "execution": {
     "iopub.execute_input": "2023-10-12T09:38:14.178995Z",
     "iopub.status.busy": "2023-10-12T09:38:14.178609Z",
     "iopub.status.idle": "2023-10-12T09:38:14.786082Z",
     "shell.execute_reply": "2023-10-12T09:38:14.784944Z"
    },
    "papermill": {
     "duration": 0.634553,
     "end_time": "2023-10-12T09:38:14.788440",
     "exception": false,
     "start_time": "2023-10-12T09:38:14.153887",
     "status": "completed"
    },
    "tags": []
   },
   "outputs": [
    {
     "data": {
      "image/png": "[encoded data removed]",
      "text/plain": [
       "<Figure size 1000x400 with 2 Axes>"
      ]
     },
     "metadata": {},
     "output_type": "display_data"
    }
   ],
   "source": [
    "fig, axes = plt.subplots(1,2, figsize = (10,4))\n",
    "\n",
    "sns.histplot(df_customer['spent_on_fruits'], color = 'lavender', ax = axes[0])\n",
    "axes[0].set_title('Distribution of Spent on Fruits')\n",
    "\n",
    "sns.boxplot(df_customer['spent_on_fruits'], color = 'lavender', ax = axes[1])\n",
    "axes[1].set_title('Outliers in `spent_on_fruits` Variable')\n",
    "\n",
    "plt.tight_layout()"
   ]
  },
  {
   "cell_type": "code",
   "execution_count": 30,
   "id": "6b4fcbc4",
   "metadata": {
    "execution": {
     "iopub.execute_input": "2023-10-12T09:38:14.838828Z",
     "iopub.status.busy": "2023-10-12T09:38:14.838032Z",
     "iopub.status.idle": "2023-10-12T09:38:14.849323Z",
     "shell.execute_reply": "2023-10-12T09:38:14.848450Z"
    },
    "papermill": {
     "duration": 0.03905,
     "end_time": "2023-10-12T09:38:14.851217",
     "exception": false,
     "start_time": "2023-10-12T09:38:14.812167",
     "status": "completed"
    },
    "tags": []
   },
   "outputs": [
    {
     "data": {
      "text/plain": [
       "0        88\n",
       "18       80\n",
       "29      100\n",
       "45      164\n",
       "53      120\n",
       "       ... \n",
       "2185    142\n",
       "2194     80\n",
       "2203    124\n",
       "2206    129\n",
       "2217    194\n",
       "Name: spent_on_fruits, Length: 246, dtype: int64"
      ]
     },
     "execution_count": 30,
     "metadata": {},
     "output_type": "execute_result"
    }
   ],
   "source": [
    "q1 = df_customer['spent_on_fruits'].quantile(.25)\n",
    "q3 = df_customer['spent_on_fruits'].quantile(.75)\n",
    "\n",
    "iqr = q3-q1\n",
    "\n",
    "outlier = df_customer[df_customer['spent_on_fruits'] > (q3 + 1.5 * iqr)]\n",
    "outlier['spent_on_fruits']"
   ]
  },
  {
   "cell_type": "markdown",
   "id": "1ef5cfe7",
   "metadata": {
    "papermill": {
     "duration": 0.023678,
     "end_time": "2023-10-12T09:38:14.899156",
     "exception": false,
     "start_time": "2023-10-12T09:38:14.875478",
     "status": "completed"
    },
    "tags": []
   },
   "source": [
    "The majority of customers have spent less than $60 on fruits."
   ]
  },
  {
   "cell_type": "code",
   "execution_count": 31,
   "id": "65a76a47",
   "metadata": {
    "execution": {
     "iopub.execute_input": "2023-10-12T09:38:14.949430Z",
     "iopub.status.busy": "2023-10-12T09:38:14.948773Z",
     "iopub.status.idle": "2023-10-12T09:38:15.566423Z",
     "shell.execute_reply": "2023-10-12T09:38:15.565353Z"
    },
    "papermill": {
     "duration": 0.645727,
     "end_time": "2023-10-12T09:38:15.568727",
     "exception": false,
     "start_time": "2023-10-12T09:38:14.923000",
     "status": "completed"
    },
    "tags": []
   },
   "outputs": [
    {
     "data": {
      "image/png": "[encoded data removed]",
      "text/plain": [
       "<Figure size 1000x400 with 2 Axes>"
      ]
     },
     "metadata": {},
     "output_type": "display_data"
    }
   ],
   "source": [
    "df_customer.columns\n",
    "\n",
    "fig, axes = plt.subplots(1,2, figsize = (10,4))\n",
    "\n",
    "sns.histplot(df_customer['spent_on_meat'], color = 'lavender', ax = axes[0])\n",
    "axes[0].set_title('Distribution of Spent on Meat')\n",
    "\n",
    "sns.boxplot(df_customer['spent_on_meat'], color = 'lavender', ax = axes[1])\n",
    "axes[1].set_title('Outliers in `spent_on_meat` Variable')\n",
    "\n",
    "plt.tight_layout()"
   ]
  },
  {
   "cell_type": "code",
   "execution_count": 32,
   "id": "cb0ec017",
   "metadata": {
    "execution": {
     "iopub.execute_input": "2023-10-12T09:38:15.624651Z",
     "iopub.status.busy": "2023-10-12T09:38:15.624017Z",
     "iopub.status.idle": "2023-10-12T09:38:15.635179Z",
     "shell.execute_reply": "2023-10-12T09:38:15.634203Z"
    },
    "papermill": {
     "duration": 0.042799,
     "end_time": "2023-10-12T09:38:15.637143",
     "exception": false,
     "start_time": "2023-10-12T09:38:15.594344",
     "status": "completed"
    },
    "tags": []
   },
   "outputs": [
    {
     "data": {
      "text/plain": [
       "21      1725\n",
       "29       801\n",
       "51       780\n",
       "76       925\n",
       "77       779\n",
       "        ... \n",
       "2187     749\n",
       "2190     655\n",
       "2193     845\n",
       "2211     860\n",
       "2213     631\n",
       "Name: spent_on_meat, Length: 174, dtype: int64"
      ]
     },
     "execution_count": 32,
     "metadata": {},
     "output_type": "execute_result"
    }
   ],
   "source": [
    "q1 = df_customer['spent_on_meat'].quantile(.25)\n",
    "q3 = df_customer['spent_on_meat'].quantile(.75)\n",
    "\n",
    "iqr = q3-q1\n",
    "\n",
    "outlier = df_customer[df_customer['spent_on_meat'] > (q3 + 1.5 * iqr)]\n",
    "outlier['spent_on_meat']"
   ]
  },
  {
   "cell_type": "markdown",
   "id": "805796f5",
   "metadata": {
    "papermill": {
     "duration": 0.0252,
     "end_time": "2023-10-12T09:38:15.687280",
     "exception": false,
     "start_time": "2023-10-12T09:38:15.662080",
     "status": "completed"
    },
    "tags": []
   },
   "source": [
    "\n",
    "The majority of customers have spent less than $1000 on meat."
   ]
  },
  {
   "cell_type": "code",
   "execution_count": 33,
   "id": "946ea129",
   "metadata": {
    "execution": {
     "iopub.execute_input": "2023-10-12T09:38:15.737660Z",
     "iopub.status.busy": "2023-10-12T09:38:15.737058Z",
     "iopub.status.idle": "2023-10-12T09:38:16.190627Z",
     "shell.execute_reply": "2023-10-12T09:38:16.189937Z"
    },
    "papermill": {
     "duration": 0.480883,
     "end_time": "2023-10-12T09:38:16.192330",
     "exception": false,
     "start_time": "2023-10-12T09:38:15.711447",
     "status": "completed"
    },
    "tags": []
   },
   "outputs": [
    {
     "data": {
      "text/plain": [
       "Text(0.5, 1.0, 'Outliers in `spent_on_fish` Variable')"
      ]
     },
     "execution_count": 33,
     "metadata": {},
     "output_type": "execute_result"
    },
    {
     "data": {
      "image/png": "[encoded data removed]",
      "text/plain": [
       "<Figure size 1000x400 with 2 Axes>"
      ]
     },
     "metadata": {},
     "output_type": "display_data"
    }
   ],
   "source": [
    "fig, axes = plt.subplots(1,2, figsize = (10,4))\n",
    "\n",
    "sns.histplot(df_customer['spent_on_fish'], color = 'lavender', ax = axes[0])\n",
    "axes[0].set_title('Distribution of Spent on Fish')\n",
    "\n",
    "sns.boxplot(df_customer['spent_on_fish'], color = 'lavender', ax = axes[1])\n",
    "axes[1].set_title('Outliers in `spent_on_fish` Variable')"
   ]
  },
  {
   "cell_type": "code",
   "execution_count": 34,
   "id": "1ab767f1",
   "metadata": {
    "execution": {
     "iopub.execute_input": "2023-10-12T09:38:16.244065Z",
     "iopub.status.busy": "2023-10-12T09:38:16.243445Z",
     "iopub.status.idle": "2023-10-12T09:38:16.253060Z",
     "shell.execute_reply": "2023-10-12T09:38:16.252198Z"
    },
    "papermill": {
     "duration": 0.037672,
     "end_time": "2023-10-12T09:38:16.254786",
     "exception": false,
     "start_time": "2023-10-12T09:38:16.217114",
     "status": "completed"
    },
    "tags": []
   },
   "outputs": [
    {
     "data": {
      "text/plain": [
       "0       172\n",
       "12      225\n",
       "17      150\n",
       "39      160\n",
       "45      227\n",
       "       ... \n",
       "2188    199\n",
       "2190    145\n",
       "2193    202\n",
       "2206    182\n",
       "2217    149\n",
       "Name: spent_on_fish, Length: 222, dtype: int64"
      ]
     },
     "execution_count": 34,
     "metadata": {},
     "output_type": "execute_result"
    }
   ],
   "source": [
    "q1 = df_customer['spent_on_fish'].quantile(.25)\n",
    "q3 = df_customer['spent_on_fish'].quantile(.75)\n",
    "\n",
    "iqr = q3-q1\n",
    "\n",
    "outlier = df_customer[df_customer['spent_on_fish'] > (q3 + 1.5 * iqr)]\n",
    "outlier['spent_on_fish']"
   ]
  },
  {
   "cell_type": "code",
   "execution_count": 35,
   "id": "6783a1f1",
   "metadata": {
    "execution": {
     "iopub.execute_input": "2023-10-12T09:38:16.306117Z",
     "iopub.status.busy": "2023-10-12T09:38:16.305535Z",
     "iopub.status.idle": "2023-10-12T09:38:16.782446Z",
     "shell.execute_reply": "2023-10-12T09:38:16.781725Z"
    },
    "papermill": {
     "duration": 0.504808,
     "end_time": "2023-10-12T09:38:16.784334",
     "exception": false,
     "start_time": "2023-10-12T09:38:16.279526",
     "status": "completed"
    },
    "tags": []
   },
   "outputs": [
    {
     "data": {
      "text/plain": [
       "Text(0.5, 1.0, 'Outliers in `spent_on_sweet` Variable')"
      ]
     },
     "execution_count": 35,
     "metadata": {},
     "output_type": "execute_result"
    },
    {
     "data": {
      "image/png": "[encoded data removed]",
      "text/plain": [
       "<Figure size 1000x400 with 2 Axes>"
      ]
     },
     "metadata": {},
     "output_type": "display_data"
    }
   ],
   "source": [
    "fig, axes = plt.subplots(1,2, figsize = (10,4))\n",
    "\n",
    "sns.histplot(df_customer['spent_on_sweet'], color = 'lavender', ax = axes[0])\n",
    "axes[0].set_title('Distribution of Spent on Sweet')\n",
    "\n",
    "sns.boxplot(df_customer['spent_on_sweet'], color = 'lavender', ax = axes[1])\n",
    "axes[1].set_title('Outliers in `spent_on_sweet` Variable')"
   ]
  },
  {
   "cell_type": "code",
   "execution_count": 36,
   "id": "aa671251",
   "metadata": {
    "execution": {
     "iopub.execute_input": "2023-10-12T09:38:16.837251Z",
     "iopub.status.busy": "2023-10-12T09:38:16.836685Z",
     "iopub.status.idle": "2023-10-12T09:38:16.846229Z",
     "shell.execute_reply": "2023-10-12T09:38:16.845314Z"
    },
    "papermill": {
     "duration": 0.038699,
     "end_time": "2023-10-12T09:38:16.848459",
     "exception": false,
     "start_time": "2023-10-12T09:38:16.809760",
     "status": "completed"
    },
    "tags": []
   },
   "outputs": [
    {
     "data": {
      "text/plain": [
       "0        88\n",
       "12      112\n",
       "40      178\n",
       "51      167\n",
       "55      120\n",
       "       ... \n",
       "2175     92\n",
       "2190    111\n",
       "2193    133\n",
       "2217    125\n",
       "2235    118\n",
       "Name: spent_on_sweet, Length: 246, dtype: int64"
      ]
     },
     "execution_count": 36,
     "metadata": {},
     "output_type": "execute_result"
    }
   ],
   "source": [
    "q1 = df_customer['spent_on_sweet'].quantile(.25)\n",
    "q3 = df_customer['spent_on_sweet'].quantile(.75)\n",
    "\n",
    "iqr = q3-q1\n",
    "\n",
    "outlier = df_customer[df_customer['spent_on_sweet'] > (q3 + 1.5 * iqr)]\n",
    "outlier['spent_on_sweet']"
   ]
  },
  {
   "cell_type": "code",
   "execution_count": 37,
   "id": "c9ca608a",
   "metadata": {
    "execution": {
     "iopub.execute_input": "2023-10-12T09:38:16.902879Z",
     "iopub.status.busy": "2023-10-12T09:38:16.902236Z",
     "iopub.status.idle": "2023-10-12T09:38:17.562171Z",
     "shell.execute_reply": "2023-10-12T09:38:17.561115Z"
    },
    "papermill": {
     "duration": 0.689781,
     "end_time": "2023-10-12T09:38:17.564439",
     "exception": false,
     "start_time": "2023-10-12T09:38:16.874658",
     "status": "completed"
    },
    "tags": []
   },
   "outputs": [
    {
     "data": {
      "text/plain": [
       "Text(0.5, 1.0, 'Outliers in `spent_on_gold Variable')"
      ]
     },
     "execution_count": 37,
     "metadata": {},
     "output_type": "execute_result"
    },
    {
     "data": {
      "image/png": "[encoded data removed]",
      "text/plain": [
       "<Figure size 1000x400 with 2 Axes>"
      ]
     },
     "metadata": {},
     "output_type": "display_data"
    }
   ],
   "source": [
    "fig, axes = plt.subplots(1,2, figsize = (10,4))\n",
    "\n",
    "sns.histplot(df_customer['spent_on_gold'], color = 'lavender', ax = axes[0])\n",
    "axes[0].set_title('Distribution of Spent on Gold')\n",
    "\n",
    "sns.boxplot(df_customer['spent_on_gold'], color = 'lavender', ax = axes[1])\n",
    "axes[1].set_title('Outliers in `spent_on_gold Variable')"
   ]
  },
  {
   "cell_type": "code",
   "execution_count": 38,
   "id": "4dd6defe",
   "metadata": {
    "execution": {
     "iopub.execute_input": "2023-10-12T09:38:17.620716Z",
     "iopub.status.busy": "2023-10-12T09:38:17.618930Z",
     "iopub.status.idle": "2023-10-12T09:38:17.630817Z",
     "shell.execute_reply": "2023-10-12T09:38:17.629998Z"
    },
    "papermill": {
     "duration": 0.042036,
     "end_time": "2023-10-12T09:38:17.632863",
     "exception": false,
     "start_time": "2023-10-12T09:38:17.590827",
     "status": "completed"
    },
    "tags": []
   },
   "outputs": [
    {
     "data": {
      "text/plain": [
       "18      176\n",
       "45      174\n",
       "53      241\n",
       "55      190\n",
       "62      169\n",
       "       ... \n",
       "2178    227\n",
       "2188    163\n",
       "2194    174\n",
       "2198    152\n",
       "2235    247\n",
       "Name: spent_on_gold, Length: 205, dtype: int64"
      ]
     },
     "execution_count": 38,
     "metadata": {},
     "output_type": "execute_result"
    }
   ],
   "source": [
    "q1 = df_customer['spent_on_gold'].quantile(.25)\n",
    "q3 = df_customer['spent_on_gold'].quantile(.75)\n",
    "\n",
    "iqr = q3-q1\n",
    "\n",
    "outlier = df_customer[df_customer['spent_on_gold'] > (q3 + 1.5 * iqr)]\n",
    "outlier['spent_on_gold']"
   ]
  },
  {
   "cell_type": "code",
   "execution_count": 39,
   "id": "90ba668d",
   "metadata": {
    "execution": {
     "iopub.execute_input": "2023-10-12T09:38:17.688691Z",
     "iopub.status.busy": "2023-10-12T09:38:17.688008Z",
     "iopub.status.idle": "2023-10-12T09:38:18.221124Z",
     "shell.execute_reply": "2023-10-12T09:38:18.220073Z"
    },
    "papermill": {
     "duration": 0.563467,
     "end_time": "2023-10-12T09:38:18.223180",
     "exception": false,
     "start_time": "2023-10-12T09:38:17.659713",
     "status": "completed"
    },
    "tags": []
   },
   "outputs": [
    {
     "data": {
      "image/png": "[encoded data removed]",
      "text/plain": [
       "<Figure size 1000x400 with 2 Axes>"
      ]
     },
     "metadata": {},
     "output_type": "display_data"
    }
   ],
   "source": [
    "# categorical variables\n",
    "\n",
    "education = df_customer['education'].value_counts()\n",
    "marital_status = df_customer['marital_status'].value_counts()\n",
    "\n",
    "fig, axes = plt.subplots(1,2, figsize = (10,4))\n",
    "\n",
    "sns.barplot(x = education,y = education.index, palette= 'pastel', ax = axes[0])\n",
    "axes[0].set_title('Education')\n",
    "\n",
    "sns.barplot(x = marital_status,y = marital_status.index, palette='pastel', ax = axes[1])\n",
    "axes[1].set_title('Marital Status')\n",
    "\n",
    "plt.tight_layout()"
   ]
  },
  {
   "cell_type": "code",
   "execution_count": 40,
   "id": "d5f37938",
   "metadata": {
    "execution": {
     "iopub.execute_input": "2023-10-12T09:38:18.279670Z",
     "iopub.status.busy": "2023-10-12T09:38:18.279341Z",
     "iopub.status.idle": "2023-10-12T09:38:18.287304Z",
     "shell.execute_reply": "2023-10-12T09:38:18.286331Z"
    },
    "papermill": {
     "duration": 0.038782,
     "end_time": "2023-10-12T09:38:18.289406",
     "exception": false,
     "start_time": "2023-10-12T09:38:18.250624",
     "status": "completed"
    },
    "tags": []
   },
   "outputs": [
    {
     "data": {
      "text/plain": [
       "complain\n",
       "0    99.05\n",
       "1     0.95\n",
       "Name: proportion, dtype: float64"
      ]
     },
     "execution_count": 40,
     "metadata": {},
     "output_type": "execute_result"
    }
   ],
   "source": [
    "round(df_customer['complain'].value_counts(normalize = True)*100,2)"
   ]
  },
  {
   "cell_type": "markdown",
   "id": "bfa6287c",
   "metadata": {
    "papermill": {
     "duration": 0.026681,
     "end_time": "2023-10-12T09:38:18.343120",
     "exception": false,
     "start_time": "2023-10-12T09:38:18.316439",
     "status": "completed"
    },
    "tags": []
   },
   "source": [
    "The company received 0.95% complain from its customers in the last 2 years, which is a very good score."
   ]
  },
  {
   "cell_type": "code",
   "execution_count": 41,
   "id": "fcc0aba7",
   "metadata": {
    "execution": {
     "iopub.execute_input": "2023-10-12T09:38:18.399900Z",
     "iopub.status.busy": "2023-10-12T09:38:18.399318Z",
     "iopub.status.idle": "2023-10-12T09:38:18.407498Z",
     "shell.execute_reply": "2023-10-12T09:38:18.406722Z"
    },
    "papermill": {
     "duration": 0.038713,
     "end_time": "2023-10-12T09:38:18.409289",
     "exception": false,
     "start_time": "2023-10-12T09:38:18.370576",
     "status": "completed"
    },
    "tags": []
   },
   "outputs": [
    {
     "data": {
      "text/plain": [
       "kids\n",
       "0    57.90\n",
       "1    40.03\n",
       "2     2.08\n",
       "Name: proportion, dtype: float64"
      ]
     },
     "execution_count": 41,
     "metadata": {},
     "output_type": "execute_result"
    }
   ],
   "source": [
    "round(df_customer['kids'].value_counts(normalize = True)*100,2)"
   ]
  },
  {
   "cell_type": "code",
   "execution_count": 42,
   "id": "c163f8af",
   "metadata": {
    "execution": {
     "iopub.execute_input": "2023-10-12T09:38:18.464970Z",
     "iopub.status.busy": "2023-10-12T09:38:18.464591Z",
     "iopub.status.idle": "2023-10-12T09:38:18.473000Z",
     "shell.execute_reply": "2023-10-12T09:38:18.471966Z"
    },
    "papermill": {
     "duration": 0.038782,
     "end_time": "2023-10-12T09:38:18.474918",
     "exception": false,
     "start_time": "2023-10-12T09:38:18.436136",
     "status": "completed"
    },
    "tags": []
   },
   "outputs": [
    {
     "data": {
      "text/plain": [
       "teens\n",
       "0    51.76\n",
       "1    45.94\n",
       "2     2.30\n",
       "Name: proportion, dtype: float64"
      ]
     },
     "execution_count": 42,
     "metadata": {},
     "output_type": "execute_result"
    }
   ],
   "source": [
    "round(df_customer['teens'].value_counts(normalize = True)*100,2)"
   ]
  },
  {
   "cell_type": "code",
   "execution_count": 43,
   "id": "e0dc50d3",
   "metadata": {
    "execution": {
     "iopub.execute_input": "2023-10-12T09:38:18.531316Z",
     "iopub.status.busy": "2023-10-12T09:38:18.530980Z",
     "iopub.status.idle": "2023-10-12T09:38:18.539194Z",
     "shell.execute_reply": "2023-10-12T09:38:18.538150Z"
    },
    "papermill": {
     "duration": 0.038812,
     "end_time": "2023-10-12T09:38:18.541119",
     "exception": false,
     "start_time": "2023-10-12T09:38:18.502307",
     "status": "completed"
    },
    "tags": []
   },
   "outputs": [
    {
     "data": {
      "text/plain": [
       "campaign1\n",
       "0    93.59\n",
       "1     6.41\n",
       "Name: proportion, dtype: float64"
      ]
     },
     "execution_count": 43,
     "metadata": {},
     "output_type": "execute_result"
    }
   ],
   "source": [
    "round(df_customer['campaign1'].value_counts(normalize = True)*100,2)"
   ]
  },
  {
   "cell_type": "code",
   "execution_count": 44,
   "id": "12ee5f63",
   "metadata": {
    "execution": {
     "iopub.execute_input": "2023-10-12T09:38:18.597496Z",
     "iopub.status.busy": "2023-10-12T09:38:18.597164Z",
     "iopub.status.idle": "2023-10-12T09:38:18.605638Z",
     "shell.execute_reply": "2023-10-12T09:38:18.604639Z"
    },
    "papermill": {
     "duration": 0.03923,
     "end_time": "2023-10-12T09:38:18.607578",
     "exception": false,
     "start_time": "2023-10-12T09:38:18.568348",
     "status": "completed"
    },
    "tags": []
   },
   "outputs": [
    {
     "data": {
      "text/plain": [
       "campaign2\n",
       "0    98.65\n",
       "1     1.35\n",
       "Name: proportion, dtype: float64"
      ]
     },
     "execution_count": 44,
     "metadata": {},
     "output_type": "execute_result"
    }
   ],
   "source": [
    "round(df_customer['campaign2'].value_counts(normalize = True)*100,2)"
   ]
  },
  {
   "cell_type": "code",
   "execution_count": 45,
   "id": "cd6cebcb",
   "metadata": {
    "execution": {
     "iopub.execute_input": "2023-10-12T09:38:18.666255Z",
     "iopub.status.busy": "2023-10-12T09:38:18.665916Z",
     "iopub.status.idle": "2023-10-12T09:38:18.674380Z",
     "shell.execute_reply": "2023-10-12T09:38:18.673399Z"
    },
    "papermill": {
     "duration": 0.039101,
     "end_time": "2023-10-12T09:38:18.676305",
     "exception": false,
     "start_time": "2023-10-12T09:38:18.637204",
     "status": "completed"
    },
    "tags": []
   },
   "outputs": [
    {
     "data": {
      "text/plain": [
       "campaign3\n",
       "0    92.64\n",
       "1     7.36\n",
       "Name: proportion, dtype: float64"
      ]
     },
     "execution_count": 45,
     "metadata": {},
     "output_type": "execute_result"
    }
   ],
   "source": [
    "round(df_customer['campaign3'].value_counts(normalize = True)*100,2)"
   ]
  },
  {
   "cell_type": "code",
   "execution_count": 46,
   "id": "e86ae37e",
   "metadata": {
    "execution": {
     "iopub.execute_input": "2023-10-12T09:38:18.733455Z",
     "iopub.status.busy": "2023-10-12T09:38:18.733117Z",
     "iopub.status.idle": "2023-10-12T09:38:18.741751Z",
     "shell.execute_reply": "2023-10-12T09:38:18.740738Z"
    },
    "papermill": {
     "duration": 0.039911,
     "end_time": "2023-10-12T09:38:18.743790",
     "exception": false,
     "start_time": "2023-10-12T09:38:18.703879",
     "status": "completed"
    },
    "tags": []
   },
   "outputs": [
    {
     "data": {
      "text/plain": [
       "campaign4\n",
       "0    92.6\n",
       "1     7.4\n",
       "Name: proportion, dtype: float64"
      ]
     },
     "execution_count": 46,
     "metadata": {},
     "output_type": "execute_result"
    }
   ],
   "source": [
    "round(df_customer['campaign4'].value_counts(normalize = True)*100,2)"
   ]
  },
  {
   "cell_type": "code",
   "execution_count": 47,
   "id": "5b04d84b",
   "metadata": {
    "execution": {
     "iopub.execute_input": "2023-10-12T09:38:18.801342Z",
     "iopub.status.busy": "2023-10-12T09:38:18.800995Z",
     "iopub.status.idle": "2023-10-12T09:38:18.810300Z",
     "shell.execute_reply": "2023-10-12T09:38:18.809133Z"
    },
    "papermill": {
     "duration": 0.040882,
     "end_time": "2023-10-12T09:38:18.812413",
     "exception": false,
     "start_time": "2023-10-12T09:38:18.771531",
     "status": "completed"
    },
    "tags": []
   },
   "outputs": [
    {
     "data": {
      "text/plain": [
       "campaign5\n",
       "0    92.69\n",
       "1     7.31\n",
       "Name: proportion, dtype: float64"
      ]
     },
     "execution_count": 47,
     "metadata": {},
     "output_type": "execute_result"
    }
   ],
   "source": [
    "round(df_customer['campaign5'].value_counts(normalize = True)*100,2)"
   ]
  },
  {
   "cell_type": "code",
   "execution_count": 48,
   "id": "e00be3fa",
   "metadata": {
    "execution": {
     "iopub.execute_input": "2023-10-12T09:38:18.872071Z",
     "iopub.status.busy": "2023-10-12T09:38:18.871704Z",
     "iopub.status.idle": "2023-10-12T09:38:18.880440Z",
     "shell.execute_reply": "2023-10-12T09:38:18.879323Z"
    },
    "papermill": {
     "duration": 0.04125,
     "end_time": "2023-10-12T09:38:18.882490",
     "exception": false,
     "start_time": "2023-10-12T09:38:18.841240",
     "status": "completed"
    },
    "tags": []
   },
   "outputs": [
    {
     "data": {
      "text/plain": [
       "last_campaign\n",
       "0    84.97\n",
       "1    15.03\n",
       "Name: proportion, dtype: float64"
      ]
     },
     "execution_count": 48,
     "metadata": {},
     "output_type": "execute_result"
    }
   ],
   "source": [
    "round(df_customer['last_campaign'].value_counts(normalize = True)*100,2)"
   ]
  },
  {
   "cell_type": "markdown",
   "id": "fc55e9ef",
   "metadata": {
    "papermill": {
     "duration": 0.028379,
     "end_time": "2023-10-12T09:38:18.939038",
     "exception": false,
     "start_time": "2023-10-12T09:38:18.910659",
     "status": "completed"
    },
    "tags": []
   },
   "source": [
    "The total percentage of customers who made purchases across all six campaigns is 44.86%.\n",
    "\n",
    "* **First campaign:** 6.41%\n",
    "* **Second campaign:** 1.35%\n",
    "* **Third campaign:** 7.36%\n",
    "* **Fourth campaign:** 7.4%\n",
    "* **Fifth campaign:** 7.31%\n",
    "* **Sixth campaign:** 15.03%"
   ]
  },
  {
   "cell_type": "code",
   "execution_count": 49,
   "id": "5218db90",
   "metadata": {
    "execution": {
     "iopub.execute_input": "2023-10-12T09:38:18.996136Z",
     "iopub.status.busy": "2023-10-12T09:38:18.995790Z",
     "iopub.status.idle": "2023-10-12T09:38:19.002225Z",
     "shell.execute_reply": "2023-10-12T09:38:19.001178Z"
    },
    "papermill": {
     "duration": 0.037292,
     "end_time": "2023-10-12T09:38:19.004006",
     "exception": false,
     "start_time": "2023-10-12T09:38:18.966714",
     "status": "completed"
    },
    "tags": []
   },
   "outputs": [
    {
     "data": {
      "text/plain": [
       "Index(['ID', 'birth_year', 'education', 'marital_status', 'income', 'kids',\n",
       "       'teens', 'enrollment_date', 'days_since_last_purchase',\n",
       "       'spent_on_wines', 'spent_on_fruits', 'spent_on_meat', 'spent_on_fish',\n",
       "       'spent_on_sweet', 'spent_on_gold', 'purchases_with_discount',\n",
       "       'web_purchase', 'catalog_purchase', 'store_purchase',\n",
       "       'website_visit_last_month', 'campaign3', 'campaign4', 'campaign5',\n",
       "       'campaign1', 'campaign2', 'complain', 'Z_CostContact', 'Z_Revenue',\n",
       "       'last_campaign'],\n",
       "      dtype='object')"
      ]
     },
     "execution_count": 49,
     "metadata": {},
     "output_type": "execute_result"
    }
   ],
   "source": [
    "df_customer.columns"
   ]
  },
  {
   "cell_type": "code",
   "execution_count": 50,
   "id": "22e4c10e",
   "metadata": {
    "execution": {
     "iopub.execute_input": "2023-10-12T09:38:19.062816Z",
     "iopub.status.busy": "2023-10-12T09:38:19.062464Z",
     "iopub.status.idle": "2023-10-12T09:38:19.069394Z",
     "shell.execute_reply": "2023-10-12T09:38:19.068661Z"
    },
    "papermill": {
     "duration": 0.038055,
     "end_time": "2023-10-12T09:38:19.071083",
     "exception": false,
     "start_time": "2023-10-12T09:38:19.033028",
     "status": "completed"
    },
    "tags": []
   },
   "outputs": [
    {
     "data": {
      "text/plain": [
       "Z_CostContact\n",
       "3    2216\n",
       "Name: count, dtype: int64"
      ]
     },
     "execution_count": 50,
     "metadata": {},
     "output_type": "execute_result"
    }
   ],
   "source": [
    "df_customer['Z_CostContact'].value_counts()"
   ]
  },
  {
   "cell_type": "code",
   "execution_count": 51,
   "id": "efbfed78",
   "metadata": {
    "execution": {
     "iopub.execute_input": "2023-10-12T09:38:19.128649Z",
     "iopub.status.busy": "2023-10-12T09:38:19.128004Z",
     "iopub.status.idle": "2023-10-12T09:38:19.134787Z",
     "shell.execute_reply": "2023-10-12T09:38:19.133958Z"
    },
    "papermill": {
     "duration": 0.037812,
     "end_time": "2023-10-12T09:38:19.136544",
     "exception": false,
     "start_time": "2023-10-12T09:38:19.098732",
     "status": "completed"
    },
    "tags": []
   },
   "outputs": [
    {
     "data": {
      "text/plain": [
       "Z_Revenue\n",
       "11    2216\n",
       "Name: count, dtype: int64"
      ]
     },
     "execution_count": 51,
     "metadata": {},
     "output_type": "execute_result"
    }
   ],
   "source": [
    "df_customer['Z_Revenue'].value_counts()"
   ]
  },
  {
   "cell_type": "markdown",
   "id": "d4e6cf35",
   "metadata": {
    "papermill": {
     "duration": 0.027902,
     "end_time": "2023-10-12T09:38:19.193125",
     "exception": false,
     "start_time": "2023-10-12T09:38:19.165223",
     "status": "completed"
    },
    "tags": []
   },
   "source": [
    "The variables `Z_CostContact` and `Z_Revenue` each contain only a single value throughout their respective columns. As a result, they do not contribute any valuable insights to our analysis. Consequently, we can safely eliminate these variables from our dataset along with the `ID` variable."
   ]
  },
  {
   "cell_type": "code",
   "execution_count": 52,
   "id": "636f9db8",
   "metadata": {
    "execution": {
     "iopub.execute_input": "2023-10-12T09:38:19.251661Z",
     "iopub.status.busy": "2023-10-12T09:38:19.251295Z",
     "iopub.status.idle": "2023-10-12T09:38:19.273357Z",
     "shell.execute_reply": "2023-10-12T09:38:19.272666Z"
    },
    "papermill": {
     "duration": 0.053449,
     "end_time": "2023-10-12T09:38:19.275087",
     "exception": false,
     "start_time": "2023-10-12T09:38:19.221638",
     "status": "completed"
    },
    "tags": []
   },
   "outputs": [
    {
     "data": {
      "text/html": [
       "<div>\n",
       "<style scoped>\n",
       "    .dataframe tbody tr th:only-of-type {\n",
       "        vertical-align: middle;\n",
       "    }\n",
       "\n",
       "    .dataframe tbody tr th {\n",
       "        vertical-align: top;\n",
       "    }\n",
       "\n",
       "    .dataframe thead th {\n",
       "        text-align: right;\n",
       "    }\n",
       "</style>\n",
       "<table border=\"1\" class=\"dataframe\">\n",
       "  <thead>\n",
       "    <tr style=\"text-align: right;\">\n",
       "      <th></th>\n",
       "      <th>birth_year</th>\n",
       "      <th>education</th>\n",
       "      <th>marital_status</th>\n",
       "      <th>income</th>\n",
       "      <th>kids</th>\n",
       "      <th>teens</th>\n",
       "      <th>enrollment_date</th>\n",
       "      <th>days_since_last_purchase</th>\n",
       "      <th>spent_on_wines</th>\n",
       "      <th>spent_on_fruits</th>\n",
       "      <th>...</th>\n",
       "      <th>catalog_purchase</th>\n",
       "      <th>store_purchase</th>\n",
       "      <th>website_visit_last_month</th>\n",
       "      <th>campaign3</th>\n",
       "      <th>campaign4</th>\n",
       "      <th>campaign5</th>\n",
       "      <th>campaign1</th>\n",
       "      <th>campaign2</th>\n",
       "      <th>complain</th>\n",
       "      <th>last_campaign</th>\n",
       "    </tr>\n",
       "  </thead>\n",
       "  <tbody>\n",
       "    <tr>\n",
       "      <th>0</th>\n",
       "      <td>1957</td>\n",
       "      <td>Graduation</td>\n",
       "      <td>Single</td>\n",
       "      <td>58138.0</td>\n",
       "      <td>0</td>\n",
       "      <td>0</td>\n",
       "      <td>2012-09-04</td>\n",
       "      <td>58</td>\n",
       "      <td>635</td>\n",
       "      <td>88</td>\n",
       "      <td>...</td>\n",
       "      <td>10</td>\n",
       "      <td>4</td>\n",
       "      <td>7</td>\n",
       "      <td>0</td>\n",
       "      <td>0</td>\n",
       "      <td>0</td>\n",
       "      <td>0</td>\n",
       "      <td>0</td>\n",
       "      <td>0</td>\n",
       "      <td>1</td>\n",
       "    </tr>\n",
       "    <tr>\n",
       "      <th>1</th>\n",
       "      <td>1954</td>\n",
       "      <td>Graduation</td>\n",
       "      <td>Single</td>\n",
       "      <td>46344.0</td>\n",
       "      <td>1</td>\n",
       "      <td>1</td>\n",
       "      <td>2014-03-08</td>\n",
       "      <td>38</td>\n",
       "      <td>11</td>\n",
       "      <td>1</td>\n",
       "      <td>...</td>\n",
       "      <td>1</td>\n",
       "      <td>2</td>\n",
       "      <td>5</td>\n",
       "      <td>0</td>\n",
       "      <td>0</td>\n",
       "      <td>0</td>\n",
       "      <td>0</td>\n",
       "      <td>0</td>\n",
       "      <td>0</td>\n",
       "      <td>0</td>\n",
       "    </tr>\n",
       "    <tr>\n",
       "      <th>2</th>\n",
       "      <td>1965</td>\n",
       "      <td>Graduation</td>\n",
       "      <td>Together</td>\n",
       "      <td>71613.0</td>\n",
       "      <td>0</td>\n",
       "      <td>0</td>\n",
       "      <td>2013-08-21</td>\n",
       "      <td>26</td>\n",
       "      <td>426</td>\n",
       "      <td>49</td>\n",
       "      <td>...</td>\n",
       "      <td>2</td>\n",
       "      <td>10</td>\n",
       "      <td>4</td>\n",
       "      <td>0</td>\n",
       "      <td>0</td>\n",
       "      <td>0</td>\n",
       "      <td>0</td>\n",
       "      <td>0</td>\n",
       "      <td>0</td>\n",
       "      <td>0</td>\n",
       "    </tr>\n",
       "    <tr>\n",
       "      <th>3</th>\n",
       "      <td>1984</td>\n",
       "      <td>Graduation</td>\n",
       "      <td>Together</td>\n",
       "      <td>26646.0</td>\n",
       "      <td>1</td>\n",
       "      <td>0</td>\n",
       "      <td>2014-02-10</td>\n",
       "      <td>26</td>\n",
       "      <td>11</td>\n",
       "      <td>4</td>\n",
       "      <td>...</td>\n",
       "      <td>0</td>\n",
       "      <td>4</td>\n",
       "      <td>6</td>\n",
       "      <td>0</td>\n",
       "      <td>0</td>\n",
       "      <td>0</td>\n",
       "      <td>0</td>\n",
       "      <td>0</td>\n",
       "      <td>0</td>\n",
       "      <td>0</td>\n",
       "    </tr>\n",
       "    <tr>\n",
       "      <th>4</th>\n",
       "      <td>1981</td>\n",
       "      <td>PhD</td>\n",
       "      <td>Married</td>\n",
       "      <td>58293.0</td>\n",
       "      <td>1</td>\n",
       "      <td>0</td>\n",
       "      <td>2014-01-19</td>\n",
       "      <td>94</td>\n",
       "      <td>173</td>\n",
       "      <td>43</td>\n",
       "      <td>...</td>\n",
       "      <td>3</td>\n",
       "      <td>6</td>\n",
       "      <td>5</td>\n",
       "      <td>0</td>\n",
       "      <td>0</td>\n",
       "      <td>0</td>\n",
       "      <td>0</td>\n",
       "      <td>0</td>\n",
       "      <td>0</td>\n",
       "      <td>0</td>\n",
       "    </tr>\n",
       "    <tr>\n",
       "      <th>...</th>\n",
       "      <td>...</td>\n",
       "      <td>...</td>\n",
       "      <td>...</td>\n",
       "      <td>...</td>\n",
       "      <td>...</td>\n",
       "      <td>...</td>\n",
       "      <td>...</td>\n",
       "      <td>...</td>\n",
       "      <td>...</td>\n",
       "      <td>...</td>\n",
       "      <td>...</td>\n",
       "      <td>...</td>\n",
       "      <td>...</td>\n",
       "      <td>...</td>\n",
       "      <td>...</td>\n",
       "      <td>...</td>\n",
       "      <td>...</td>\n",
       "      <td>...</td>\n",
       "      <td>...</td>\n",
       "      <td>...</td>\n",
       "      <td>...</td>\n",
       "    </tr>\n",
       "    <tr>\n",
       "      <th>2235</th>\n",
       "      <td>1967</td>\n",
       "      <td>Graduation</td>\n",
       "      <td>Married</td>\n",
       "      <td>61223.0</td>\n",
       "      <td>0</td>\n",
       "      <td>1</td>\n",
       "      <td>2013-06-13</td>\n",
       "      <td>46</td>\n",
       "      <td>709</td>\n",
       "      <td>43</td>\n",
       "      <td>...</td>\n",
       "      <td>3</td>\n",
       "      <td>4</td>\n",
       "      <td>5</td>\n",
       "      <td>0</td>\n",
       "      <td>0</td>\n",
       "      <td>0</td>\n",
       "      <td>0</td>\n",
       "      <td>0</td>\n",
       "      <td>0</td>\n",
       "      <td>0</td>\n",
       "    </tr>\n",
       "    <tr>\n",
       "      <th>2236</th>\n",
       "      <td>1946</td>\n",
       "      <td>PhD</td>\n",
       "      <td>Together</td>\n",
       "      <td>64014.0</td>\n",
       "      <td>2</td>\n",
       "      <td>1</td>\n",
       "      <td>2014-06-10</td>\n",
       "      <td>56</td>\n",
       "      <td>406</td>\n",
       "      <td>0</td>\n",
       "      <td>...</td>\n",
       "      <td>2</td>\n",
       "      <td>5</td>\n",
       "      <td>7</td>\n",
       "      <td>0</td>\n",
       "      <td>0</td>\n",
       "      <td>0</td>\n",
       "      <td>1</td>\n",
       "      <td>0</td>\n",
       "      <td>0</td>\n",
       "      <td>0</td>\n",
       "    </tr>\n",
       "    <tr>\n",
       "      <th>2237</th>\n",
       "      <td>1981</td>\n",
       "      <td>Graduation</td>\n",
       "      <td>Divorced</td>\n",
       "      <td>56981.0</td>\n",
       "      <td>0</td>\n",
       "      <td>0</td>\n",
       "      <td>2014-01-25</td>\n",
       "      <td>91</td>\n",
       "      <td>908</td>\n",
       "      <td>48</td>\n",
       "      <td>...</td>\n",
       "      <td>3</td>\n",
       "      <td>13</td>\n",
       "      <td>6</td>\n",
       "      <td>0</td>\n",
       "      <td>1</td>\n",
       "      <td>0</td>\n",
       "      <td>0</td>\n",
       "      <td>0</td>\n",
       "      <td>0</td>\n",
       "      <td>0</td>\n",
       "    </tr>\n",
       "    <tr>\n",
       "      <th>2238</th>\n",
       "      <td>1956</td>\n",
       "      <td>Master</td>\n",
       "      <td>Together</td>\n",
       "      <td>69245.0</td>\n",
       "      <td>0</td>\n",
       "      <td>1</td>\n",
       "      <td>2014-01-24</td>\n",
       "      <td>8</td>\n",
       "      <td>428</td>\n",
       "      <td>30</td>\n",
       "      <td>...</td>\n",
       "      <td>5</td>\n",
       "      <td>10</td>\n",
       "      <td>3</td>\n",
       "      <td>0</td>\n",
       "      <td>0</td>\n",
       "      <td>0</td>\n",
       "      <td>0</td>\n",
       "      <td>0</td>\n",
       "      <td>0</td>\n",
       "      <td>0</td>\n",
       "    </tr>\n",
       "    <tr>\n",
       "      <th>2239</th>\n",
       "      <td>1954</td>\n",
       "      <td>PhD</td>\n",
       "      <td>Married</td>\n",
       "      <td>52869.0</td>\n",
       "      <td>1</td>\n",
       "      <td>1</td>\n",
       "      <td>2012-10-15</td>\n",
       "      <td>40</td>\n",
       "      <td>84</td>\n",
       "      <td>3</td>\n",
       "      <td>...</td>\n",
       "      <td>1</td>\n",
       "      <td>4</td>\n",
       "      <td>7</td>\n",
       "      <td>0</td>\n",
       "      <td>0</td>\n",
       "      <td>0</td>\n",
       "      <td>0</td>\n",
       "      <td>0</td>\n",
       "      <td>0</td>\n",
       "      <td>1</td>\n",
       "    </tr>\n",
       "  </tbody>\n",
       "</table>\n",
       "<p>2216 rows × 26 columns</p>\n",
       "</div>"
      ],
      "text/plain": [
       "      birth_year   education marital_status   income  kids  teens  \\\n",
       "0           1957  Graduation         Single  58138.0     0      0   \n",
       "1           1954  Graduation         Single  46344.0     1      1   \n",
       "2           1965  Graduation       Together  71613.0     0      0   \n",
       "3           1984  Graduation       Together  26646.0     1      0   \n",
       "4           1981         PhD        Married  58293.0     1      0   \n",
       "...          ...         ...            ...      ...   ...    ...   \n",
       "2235        1967  Graduation        Married  61223.0     0      1   \n",
       "2236        1946         PhD       Together  64014.0     2      1   \n",
       "2237        1981  Graduation       Divorced  56981.0     0      0   \n",
       "2238        1956      Master       Together  69245.0     0      1   \n",
       "2239        1954         PhD        Married  52869.0     1      1   \n",
       "\n",
       "     enrollment_date  days_since_last_purchase  spent_on_wines  \\\n",
       "0         2012-09-04                        58             635   \n",
       "1         2014-03-08                        38              11   \n",
       "2         2013-08-21                        26             426   \n",
       "3         2014-02-10                        26              11   \n",
       "4         2014-01-19                        94             173   \n",
       "...              ...                       ...             ...   \n",
       "2235      2013-06-13                        46             709   \n",
       "2236      2014-06-10                        56             406   \n",
       "2237      2014-01-25                        91             908   \n",
       "2238      2014-01-24                         8             428   \n",
       "2239      2012-10-15                        40              84   \n",
       "\n",
       "      spent_on_fruits  ...  catalog_purchase  store_purchase  \\\n",
       "0                  88  ...                10               4   \n",
       "1                   1  ...                 1               2   \n",
       "2                  49  ...                 2              10   \n",
       "3                   4  ...                 0               4   \n",
       "4                  43  ...                 3               6   \n",
       "...               ...  ...               ...             ...   \n",
       "2235               43  ...                 3               4   \n",
       "2236                0  ...                 2               5   \n",
       "2237               48  ...                 3              13   \n",
       "2238               30  ...                 5              10   \n",
       "2239                3  ...                 1               4   \n",
       "\n",
       "      website_visit_last_month  campaign3  campaign4  campaign5  campaign1  \\\n",
       "0                            7          0          0          0          0   \n",
       "1                            5          0          0          0          0   \n",
       "2                            4          0          0          0          0   \n",
       "3                            6          0          0          0          0   \n",
       "4                            5          0          0          0          0   \n",
       "...                        ...        ...        ...        ...        ...   \n",
       "2235                         5          0          0          0          0   \n",
       "2236                         7          0          0          0          1   \n",
       "2237                         6          0          1          0          0   \n",
       "2238                         3          0          0          0          0   \n",
       "2239                         7          0          0          0          0   \n",
       "\n",
       "      campaign2  complain  last_campaign  \n",
       "0             0         0              1  \n",
       "1             0         0              0  \n",
       "2             0         0              0  \n",
       "3             0         0              0  \n",
       "4             0         0              0  \n",
       "...         ...       ...            ...  \n",
       "2235          0         0              0  \n",
       "2236          0         0              0  \n",
       "2237          0         0              0  \n",
       "2238          0         0              0  \n",
       "2239          0         0              1  \n",
       "\n",
       "[2216 rows x 26 columns]"
      ]
     },
     "execution_count": 52,
     "metadata": {},
     "output_type": "execute_result"
    }
   ],
   "source": [
    "df_customer.drop(columns = ['Z_CostContact', 'Z_Revenue', 'ID'], axis = 1)"
   ]
  },
  {
   "cell_type": "code",
   "execution_count": 53,
   "id": "ad1d8b8d",
   "metadata": {
    "execution": {
     "iopub.execute_input": "2023-10-12T09:38:19.333842Z",
     "iopub.status.busy": "2023-10-12T09:38:19.333044Z",
     "iopub.status.idle": "2023-10-12T09:38:19.598040Z",
     "shell.execute_reply": "2023-10-12T09:38:19.596898Z"
    },
    "papermill": {
     "duration": 0.296745,
     "end_time": "2023-10-12T09:38:19.600052",
     "exception": false,
     "start_time": "2023-10-12T09:38:19.303307",
     "status": "completed"
    },
    "tags": []
   },
   "outputs": [
    {
     "data": {
      "text/plain": [
       "Text(0.5, 1.0, 'Category wise Purchase Count')"
      ]
     },
     "execution_count": 53,
     "metadata": {},
     "output_type": "execute_result"
    },
    {
     "data": {
      "image/png": "[encoded data removed]",
      "text/plain": [
       "<Figure size 640x480 with 1 Axes>"
      ]
     },
     "metadata": {},
     "output_type": "display_data"
    }
   ],
   "source": [
    "wine_purchase = df_customer[df_customer['spent_on_wines'] != 0]\n",
    "fruit_purchase =  df_customer[df_customer['spent_on_fruits'] != 0]\n",
    "meat_purchase =  df_customer[df_customer['spent_on_meat'] != 0]\n",
    "fish_purchase =  df_customer[df_customer['spent_on_fish'] != 0]\n",
    "sweets_purchase =  df_customer[df_customer['spent_on_sweet'] != 0]\n",
    "gold_purchase =  df_customer[df_customer['spent_on_gold'] != 0]\n",
    "\n",
    "category_purchase = pd.DataFrame({\n",
    "    'wine_purchase' : wine_purchase['spent_on_wines'],\n",
    "    'fruit_purchase' : fruit_purchase['spent_on_fruits'],\n",
    "    'meat_purchase' : meat_purchase['spent_on_meat'],\n",
    "    'fish_purchase' : fish_purchase['spent_on_fish'],\n",
    "    'sweets_purchase' : sweets_purchase['spent_on_sweet'],\n",
    "    'gold_purchase' : gold_purchase['spent_on_sweet']\n",
    "})\n",
    "\n",
    "total_purchase = category_purchase.agg({\n",
    "    'wine_purchase' : 'count',\n",
    "    'fruit_purchase' : 'count',\n",
    "    'meat_purchase' : 'count',\n",
    "    'fish_purchase' : 'count',\n",
    "    'sweets_purchase' : 'count',\n",
    "    'gold_purchase': 'count'\n",
    "}).sort_values(ascending = False)\n",
    "\n",
    "sns.barplot(x = total_purchase,y = total_purchase.index, palette= 'pastel')\n",
    "plt.title('Category wise Purchase Count')"
   ]
  },
  {
   "cell_type": "markdown",
   "id": "44a7f1a0",
   "metadata": {
    "papermill": {
     "duration": 0.029744,
     "end_time": "2023-10-12T09:38:19.662028",
     "exception": false,
     "start_time": "2023-10-12T09:38:19.632284",
     "status": "completed"
    },
    "tags": []
   },
   "source": [
    "Meat is the top-selling product, followed by wine and gold."
   ]
  },
  {
   "cell_type": "code",
   "execution_count": 54,
   "id": "b0dc07df",
   "metadata": {
    "execution": {
     "iopub.execute_input": "2023-10-12T09:38:19.724032Z",
     "iopub.status.busy": "2023-10-12T09:38:19.722977Z",
     "iopub.status.idle": "2023-10-12T09:38:19.990583Z",
     "shell.execute_reply": "2023-10-12T09:38:19.989874Z"
    },
    "papermill": {
     "duration": 0.300911,
     "end_time": "2023-10-12T09:38:19.992442",
     "exception": false,
     "start_time": "2023-10-12T09:38:19.691531",
     "status": "completed"
    },
    "tags": []
   },
   "outputs": [
    {
     "data": {
      "text/plain": [
       "Text(0.5, 1.0, 'Category wise Sales')"
      ]
     },
     "execution_count": 54,
     "metadata": {},
     "output_type": "execute_result"
    },
    {
     "data": {
      "image/png": "[encoded data removed]",
      "text/plain": [
       "<Figure size 640x480 with 1 Axes>"
      ]
     },
     "metadata": {},
     "output_type": "display_data"
    }
   ],
   "source": [
    "# total money spent on various items offered by the company\n",
    "total_spent = df_customer.agg({\n",
    "    'spent_on_wines' : 'sum',\n",
    "    'spent_on_fruits' : 'sum',\n",
    "    'spent_on_meat' : 'sum',\n",
    "    'spent_on_fish' : 'sum',\n",
    "    'spent_on_sweet' : 'sum',\n",
    "    'spent_on_gold': 'sum'\n",
    "}).sort_values(ascending = False)\n",
    "\n",
    "sns.barplot(x = total_spent,y = total_spent.index, palette= 'pastel')\n",
    "plt.title('Category wise Sales')"
   ]
  },
  {
   "cell_type": "code",
   "execution_count": 55,
   "id": "bd0589f5",
   "metadata": {
    "execution": {
     "iopub.execute_input": "2023-10-12T09:38:20.057287Z",
     "iopub.status.busy": "2023-10-12T09:38:20.056920Z",
     "iopub.status.idle": "2023-10-12T09:38:20.067279Z",
     "shell.execute_reply": "2023-10-12T09:38:20.066490Z"
    },
    "papermill": {
     "duration": 0.045833,
     "end_time": "2023-10-12T09:38:20.069127",
     "exception": false,
     "start_time": "2023-10-12T09:38:20.023294",
     "status": "completed"
    },
    "tags": []
   },
   "outputs": [
    {
     "data": {
      "text/plain": [
       "enrollment_date\n",
       "2013    52.9\n",
       "2014    25.0\n",
       "2012    22.1\n",
       "Name: proportion, dtype: float64"
      ]
     },
     "execution_count": 55,
     "metadata": {},
     "output_type": "execute_result"
    }
   ],
   "source": [
    "round(df_customer['enrollment_date'].dt.year.value_counts(normalize = True)*100,1)"
   ]
  },
  {
   "cell_type": "markdown",
   "id": "b8b39053",
   "metadata": {
    "papermill": {
     "duration": 0.030085,
     "end_time": "2023-10-12T09:38:20.128878",
     "exception": false,
     "start_time": "2023-10-12T09:38:20.098793",
     "status": "completed"
    },
    "tags": []
   },
   "source": [
    "About 52.9% of the existing customers have enrolled in the year 2013, a figure greater than the combined enrollments in both 2012 and 2014."
   ]
  },
  {
   "cell_type": "markdown",
   "id": "b2268e8f",
   "metadata": {
    "papermill": {
     "duration": 0.030289,
     "end_time": "2023-10-12T09:38:20.189354",
     "exception": false,
     "start_time": "2023-10-12T09:38:20.159065",
     "status": "completed"
    },
    "tags": []
   },
   "source": [
    "**The present notebook is a work in progress and remains incomplete. I am actively engaged in its development.**\n",
    "\n",
    "If you find this notebook helpful, please consider liking it and feel free to leave a comment if you have any questions. Your feedback is greatly appreciated!"
   ]
  },
  {
   "cell_type": "code",
   "execution_count": 56,
   "id": "c3f4fa9d",
   "metadata": {
    "execution": {
     "iopub.execute_input": "2023-10-12T09:38:20.250333Z",
     "iopub.status.busy": "2023-10-12T09:38:20.249999Z",
     "iopub.status.idle": "2023-10-12T09:38:20.256325Z",
     "shell.execute_reply": "2023-10-12T09:38:20.255327Z"
    },
    "papermill": {
     "duration": 0.039009,
     "end_time": "2023-10-12T09:38:20.258167",
     "exception": false,
     "start_time": "2023-10-12T09:38:20.219158",
     "status": "completed"
    },
    "tags": []
   },
   "outputs": [
    {
     "data": {
      "text/plain": [
       "Index(['ID', 'birth_year', 'education', 'marital_status', 'income', 'kids',\n",
       "       'teens', 'enrollment_date', 'days_since_last_purchase',\n",
       "       'spent_on_wines', 'spent_on_fruits', 'spent_on_meat', 'spent_on_fish',\n",
       "       'spent_on_sweet', 'spent_on_gold', 'purchases_with_discount',\n",
       "       'web_purchase', 'catalog_purchase', 'store_purchase',\n",
       "       'website_visit_last_month', 'campaign3', 'campaign4', 'campaign5',\n",
       "       'campaign1', 'campaign2', 'complain', 'Z_CostContact', 'Z_Revenue',\n",
       "       'last_campaign'],\n",
       "      dtype='object')"
      ]
     },
     "execution_count": 56,
     "metadata": {},
     "output_type": "execute_result"
    }
   ],
   "source": [
    "# total purchase \n",
    "# total spent\n",
    "\n",
    "df_customer.columns"
   ]
  }
 ],
 "metadata": {
  "kernelspec": {
   "display_name": "Python 3",
   "language": "python",
   "name": "python3"
  },
  "language_info": {
   "codemirror_mode": {
    "name": "ipython",
    "version": 3
   },
   "file_extension": ".py",
   "mimetype": "text/x-python",
   "name": "python",
   "nbconvert_exporter": "python",
   "pygments_lexer": "ipython3",
   "version": "3.10.12"
  },
  "papermill": {
   "default_parameters": {},
   "duration": 19.212739,
   "end_time": "2023-10-12T09:38:20.913087",
   "environment_variables": {},
   "exception": null,
   "input_path": "__notebook__.ipynb",
   "output_path": "__notebook__.ipynb",
   "parameters": {},
   "start_time": "2023-10-12T09:38:01.700348",
   "version": "2.4.0"
  }
 },
 "nbformat": 4,
 "nbformat_minor": 5
}
